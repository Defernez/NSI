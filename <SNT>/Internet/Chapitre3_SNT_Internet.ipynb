{
 "cells": [
  {
   "cell_type": "markdown",
   "id": "c1b03168",
   "metadata": {},
   "source": [
    "<h1>Chapitre 3</h1>\n",
    "<h2><mark>SNT: Internet</mark></h2>"
   ]
  },
  {
   "cell_type": "code",
   "execution_count": null,
   "id": "10a7ac92",
   "metadata": {},
   "outputs": [],
   "source": [
    "# Nom :\n",
    "# Prénom :\n",
    "# à rendre sur travail.nsi.free.fr"
   ]
  },
  {
   "cell_type": "markdown",
   "id": "b2866733",
   "metadata": {},
   "source": [
    "<b>Contenus :</b> Protocole TCP/IP : paquets, routage des paquets.<br>\n",
    "<b>Capacités attendues :</b> Distinguer le rôle des protocoles IP et TCP.\n",
    "Caractériser les principes du routage et ses limites.\n",
    "Distinguer la fiabilité de transmission\n",
    "Et l’absence de garantie temporelle"
   ]
  },
  {
   "cell_type": "markdown",
   "id": "31c0ddf9",
   "metadata": {},
   "source": [
    "<b>Contenus :</b> Adresses symboliques et\n",
    "serveurs DNS<br>\n",
    "<b>Capacités attendues :</b> Sur des exemples réels, retrouver une adresse IP à partir d’une\n",
    "adresse symbolique et inversement."
   ]
  },
  {
   "cell_type": "markdown",
   "id": "7ce18461",
   "metadata": {},
   "source": [
    "<b>Contenus :</b> Réseaux pair-à-pair<br>\n",
    "<b>Capacités attendues :</b> Décrire l’intérêt des réseaux pair-à-pair ainsi que les usages\n",
    "illicites qu’on peut en faire."
   ]
  },
  {
   "cell_type": "markdown",
   "id": "2dc728d2",
   "metadata": {},
   "source": [
    "<b>Contenus :</b> Indépendance d’internet par\n",
    "rapport au réseau physique<br>\n",
    "<b>Capacités attendues :</b> Caractériser quelques types de réseaux physiques : obsolètes\n",
    "ou actuels, rapides ou lents, filaires ou non. Caractériser\n",
    "l’ordre de grandeur du trafic de données sur internet et son\n",
    "évolution.."
   ]
  },
  {
   "cell_type": "markdown",
   "id": "a6c96d72",
   "metadata": {},
   "source": [
    "![img](https://cdn.pixabay.com/photo/2016/02/05/17/30/internet-1181586_960_720.jpg)"
   ]
  },
  {
   "cell_type": "markdown",
   "id": "bcb94647",
   "metadata": {},
   "source": [
    "<b>1.Histoire :"
   ]
  },
  {
   "cell_type": "markdown",
   "id": "ffee9a3f",
   "metadata": {},
   "source": [
    "<b><i>Repères historiques :</b></i><br>\n",
    "Dès les années cinquante, les ordinateurs ont été mis en réseau pour échanger des informations,\n",
    "mais de façon très liée aux constructeurs d’ordinateurs ou aux opérateurs téléphoniques. Les\n",
    "réseaux généraux indépendants des constructeurs sont nés aux États-Unis avec ArpaNet (1970) et en\n",
    "France avec Cyclades (1971). Cet effort a culminé avec Internet, né en 1983.<br><br>\n",
    "<b>1961</b> Paul Baran et Donald Davies donnent naissance à la\n",
    "communication par paquets suite au recherches entammé dans les\n",
    "années 50 par l'US Air Force.<br>\n",
    "<b>1969</b> Joseph Licklider contribut à la naissance du réseau Arpanet,\n",
    "lancêtre d'Internet et utilise un protocole de communication par paquets.\n",
    "Quatres Universités américaine seront connectés grâce à ce réseau dans\n",
    "les années 70.<br>\n",
    "<b>1974</b> Robert Kahn et Vinton Cerf invente le protocole TCP qui\n",
    "deviendra plus tard TCP/IP.<br>\n",
    "Le 1er janvier <b>1983</b>, le nom Internet devient officiel. le\n",
    "réseau ArpaNet utilise TCP/IP et devient Internet.<br>\n",
    "Fin des années 80, le WEB, un service d’Internet se\n",
    "développe grâce à Tim Berner Lee qui a eu l’idée de relier des documents par l’intermédiaire de\n",
    "lien. Dorénavant il suffit de cliquer pour obtenir les informations, le principe de l’hypertexte est\n",
    "née"
   ]
  },
  {
   "cell_type": "markdown",
   "id": "c6dd89e2",
   "metadata": {},
   "source": [
    "<b><i>Voir la vidéo youtube: https://youtu.be/Dxcc6ycZ73M"
   ]
  },
  {
   "cell_type": "markdown",
   "id": "67701763",
   "metadata": {},
   "source": [
    "<b>Paul Baran</b>"
   ]
  },
  {
   "cell_type": "markdown",
   "id": "ffeb764d",
   "metadata": {},
   "source": [
    "![img](https://www.zdnet.fr/u/017/091/4ec78a394eb4e4ec.jpg)"
   ]
  },
  {
   "cell_type": "markdown",
   "id": "b21790d1",
   "metadata": {},
   "source": [
    "<b>Donald Davies"
   ]
  },
  {
   "cell_type": "markdown",
   "id": "45b62be3",
   "metadata": {},
   "source": [
    "![img](https://www.zdnet.fr/u/017/092/4ed4880c4eb4e4ed.jpg)"
   ]
  },
  {
   "cell_type": "markdown",
   "id": "045893bb",
   "metadata": {},
   "source": [
    "<b>Joseph Licklider"
   ]
  },
  {
   "cell_type": "markdown",
   "id": "33763a74",
   "metadata": {},
   "source": [
    "![img](https://www.internethalloffame.org/wp-content/uploads/2013/06/jcr-licklider.jpg)"
   ]
  },
  {
   "cell_type": "markdown",
   "id": "d4a90bb4",
   "metadata": {},
   "source": [
    "<b>Robert Kahn et Vinton Cerf "
   ]
  },
  {
   "cell_type": "markdown",
   "id": "6d008822",
   "metadata": {},
   "source": [
    "![img](https://northernvirginiamag.com/wp-content/uploads/2021/06/05.21.willreintzell.VintCerf-6.jpg)"
   ]
  },
  {
   "cell_type": "markdown",
   "id": "9d8ff01c",
   "metadata": {},
   "source": [
    "<b>Tim Berner Lee "
   ]
  },
  {
   "cell_type": "markdown",
   "id": "480f4899",
   "metadata": {},
   "source": [
    "![img](https://www.w3.org/2017/04/Timbl-medium.jpg)"
   ]
  },
  {
   "cell_type": "markdown",
   "id": "8202922a",
   "metadata": {},
   "source": [
    "Liens vers les vidéos :\n",
    "\n",
    "https://youtu.be/aX3z3JoVEdE  (hotline)\n",
    "\n",
    "https://youtu.be/Dxcc6ycZ73M  (Vint Cerf )\n",
    "\n",
    "https://youtu.be/AYdF7b3nMto (paquets et routeurs)\n",
    "\n",
    "https://youtu.be/5o8CwafCxnU (IP / DNS)\n",
    "\n",
    "https://youtu.be/ZhEf7e4kopM (Cable, Fibre, Radio)"
   ]
  },
  {
   "cell_type": "markdown",
   "id": "706e75dd",
   "metadata": {},
   "source": [
    "<b>2. Le protocole TCP/IP :"
   ]
  },
  {
   "cell_type": "markdown",
   "id": "d0fcaddb",
   "metadata": {},
   "source": [
    "Internet est défini par le protocole IP (Internet\n",
    "Protocol), <i><u>ensemble de normes qui permettent\n",
    "d’identifier et de nommer de façon uniforme\n",
    "tous les ordinateurs ou objets qui lui sont\n",
    "connectés.</i></u> IP est accompagné de protocoles de\n",
    "transmission pour transférer l’information par\n",
    "paquets, le principal étant TCP/IP\n",
    "(Transmission Control Protocol). De nature\n",
    "logicielle, internet s’appuie sur une grande\n",
    "variété de réseaux physiques où IP est\n",
    "implémenté. Il uniformise l’accès à tous les\n",
    "ordinateurs, les téléphones et les objets\n",
    "connectés. Un réseau local, pouvant être désigné par l'acronyme anglais LAN (Local Area\n",
    "Network), est un réseau informatique tel que les terminaux qui y participent (ordinateurs,\n",
    "smartphone, etc.) s'envoient des données sans obligatoirement utiliser un accès à internet.\n",
    "<i><u>Un réseau est un ensemble de machines connectés entre-elles et Internet est le réseau mondial qui\n",
    "interconnecte tous ces réseaux."
   ]
  },
  {
   "cell_type": "markdown",
   "id": "d60c34c4",
   "metadata": {},
   "source": [
    "![img](https://upload.wikimedia.org/wikipedia/commons/c/c8/Protocole_HTTP_TCP-IP_Passerelle_Routage.svg)"
   ]
  },
  {
   "cell_type": "code",
   "execution_count": null,
   "id": "723fe6af",
   "metadata": {},
   "outputs": [],
   "source": [
    "# à partir de la bibliothèque socket, on importe la fonction gethostbyname\n",
    "# une bibliothèque est un ensemble de lignes de codes écrites par quelqu'un autre\n",
    "# dans ce cas, nous n'avons pas à savoir le faire, mais simplement à savoir l'utilier.\n",
    "# c'est très pratique car la communauté Python est tellement grande qu'il existe de \n",
    "# nombreuses bibliothèques pour réaliser toutes sortes de choses sans avoir à les coder.\n",
    "\n",
    "from socket import gethostbyname\n",
    "# Voilà, on a importé gethostbyname, on va pouvoir s'en servir\n",
    "ip = gethostbyname(\"wikipedia.fr\")\n",
    "# On vient de demander l'adresse ip du site wikipedia.fr et la ligne du dessous va l'afficher\n",
    "print (ip)"
   ]
  },
  {
   "cell_type": "markdown",
   "id": "5fedd78b",
   "metadata": {},
   "source": [
    "<b><i><u>à faire:"
   ]
  },
  {
   "cell_type": "code",
   "execution_count": null,
   "id": "242f8201",
   "metadata": {},
   "outputs": [],
   "source": [
    "# Exercice 1 : Réécrire le code ci-dessus mais sans les commentaires.\n",
    "# améliorer le paramètre transmit à la fonction print en ajoutant la phrase :\n",
    "# 'Voici l'adresse ip du site wikipédia'\n",
    "\n",
    "# -- VOTRE CODE ICI --"
   ]
  },
  {
   "cell_type": "markdown",
   "id": "ea4a78f8",
   "metadata": {},
   "source": [
    "<b>3. Les données et l’information :</b><br><br>\n",
    "Internet manipule deux types d’information : les contenus envoyés et les adresses du\n",
    "destinataire et de l’émetteur. Ces deux types d’information sont regroupés dans des <i>paquets</i>\n",
    "de taille fixe, de façon uniforme et indépendante du type de données transportées : texte,\n",
    "images, sons, vidéos, etc. Les adresses sont numériques et hiérarchiques mais l’utilisateur\n",
    "connaît surtout des adresses symboliques normalisées, comme wikipedia.fr. Le système\n",
    "<i><b>DNS</b> (Domain Name System) transforme une adresse symbolique en adresse numérique. Il\n",
    "est réalisé par un grand nombre d’ordinateurs répartis sur le réseau et constamment mis à\n",
    "jour.</i>"
   ]
  },
  {
   "cell_type": "code",
   "execution_count": null,
   "id": "51309074",
   "metadata": {},
   "outputs": [],
   "source": [
    "# on importe la bibliothèque OS\n",
    "# ici elle représente notre système d'exploitation windows, linux ou mac\n",
    "import os\n",
    "\n",
    "# dans la variable hostname on initialise la chaine de caractères 'google.com'\n",
    "hostname = \"google.com\"\n",
    "# la réponse du système d'exploitation est enregistrée dans la variable réponse\n",
    "reponse = os.system(\"ping -c 1 \" + hostname)\n",
    "\n",
    "# Enfin on compare la réponse avec le chiffre 0 ...\n",
    "# Si le système retourne zéro dans la varaible réponse, \n",
    "# c'est que l'on arrive à joindre google.\n",
    "# on utilise la fonctione print avec l'argument f \n",
    "# qui permet de formater la réponse qui sera affichée\n",
    "if reponse == 0:\n",
    "  print(f\"{hostname} est joignable\")\n",
    "else:\n",
    "  print(f\"{hostname} n'est pas joignable\")"
   ]
  },
  {
   "cell_type": "code",
   "execution_count": null,
   "id": "5759a0a7",
   "metadata": {},
   "outputs": [],
   "source": [
    "# on vérifie le contenu de la réponse\n",
    "reponse"
   ]
  },
  {
   "cell_type": "code",
   "execution_count": null,
   "id": "f3382135",
   "metadata": {},
   "outputs": [],
   "source": [
    "# Exercice 2 : Réécrire les codes ci-dessus mais sans les commentaires.\n",
    "# vous devez choisir vos propre noms de variables\n",
    "\n",
    "# -- VOTRE CODE ICI --"
   ]
  },
  {
   "cell_type": "markdown",
   "id": "7c22d555",
   "metadata": {},
   "source": [
    "Pour communiquer sur Internet, les ordinateurs utilisent des adresses IP et les messages (paquets)\n",
    "sont déposés un peu de la même façon qu'un agent de la poste vous apporte le courrier. On distingue\n",
    "2 versions d'adresse IP. Une exemple d'<b>IP en version 4</b> peut être: 90.195.173.190 et en <b>version 6</b> :\n",
    "2001:0db8:3c4d:0015:0000:d234::3eee:0000. Tous les serveurs ont au moins une IP publique, par\n",
    "exemple pour accéder à wikipédia on peut taper l'adresse IP directement dans la barre de navigation,\n",
    "mais il est plus facile de passer par un moteur de recherche qui l'obtiendra d'un serveur DNS. Les\n",
    "serveurs DNS fonctionne de la même manière qu'un annuaire téléphonique. adresse symbolique ->\n",
    "adresse IP."
   ]
  },
  {
   "cell_type": "markdown",
   "id": "12f928aa",
   "metadata": {},
   "source": [
    "![img](https://upload.wikimedia.org/wikipedia/commons/a/a5/Example_of_an_iterative_DNS_resolver.svg)"
   ]
  },
  {
   "cell_type": "markdown",
   "id": "de4abeda",
   "metadata": {},
   "source": [
    "<b>4.Structure d’une adresse symbolique :</b><br><br>\n",
    "Une adresse symbolique est lue de droite à gauche par le DNS"
   ]
  },
  {
   "cell_type": "markdown",
   "id": "9ded1270",
   "metadata": {},
   "source": [
    "source : https://www.lelivrescolaire.fr/page/29782158"
   ]
  },
  {
   "cell_type": "raw",
   "id": "e3008ff4",
   "metadata": {},
   "source": [
    "Racine                  .\n",
    "          ------------------------------- \n",
    "TLD          com  fr  es  da  it  uk \n",
    "Top Level \n",
    "Domain  \n",
    "          -------------------------------  \n",
    "Domaine    ikea  gouv  google  steampowered   \n",
    "          -------------------------------  \n",
    "sous-domaine  impots  education  alimentation \n",
    "\n",
    "Exemple : education.gouv.fr "
   ]
  },
  {
   "cell_type": "markdown",
   "id": "c69831fc",
   "metadata": {},
   "source": [
    "<b><i>Voir la vidéo youtube: https://youtu.be/aX3z3JoVEdE"
   ]
  },
  {
   "cell_type": "markdown",
   "id": "41d9e736",
   "metadata": {},
   "source": [
    "![img](https://wecomm.fr/wp-content/uploads/elements-url-http-www-nom-domaine-extension-explication.png)"
   ]
  },
  {
   "cell_type": "markdown",
   "id": "7c566683",
   "metadata": {},
   "source": [
    "L’Association Française pour le Nommage Internet en Coopération, ou l’<b>AFNIC</b>, est l’association\n",
    "qui gère le domaine .fr d’Internet. Sur son site, elle propose l’outil <b>Whois</b> qui permet d’obtenir des\n",
    "informations sur les noms de domaine se terminant par l’extension <b>.fr</b>.<br>\n",
    "<i>Sous Windows<br>\n",
    "Pour obtenir l’adresse IP d’un site Internet, il faut :<br>\n",
    "• taper cmd dans « Rechercher »<br>\n",
    "• taper la commande ping suivi d’un espace et de l’adresse du site sans le www ou taper<br>\n",
    "tracert suivi d’un espace et de l’adresse du site sans www."
   ]
  },
  {
   "cell_type": "markdown",
   "id": "8b4286c8",
   "metadata": {},
   "source": [
    "<b><u>Fonctionnement d’un DNS :</b></u><br>\n",
    "<mark>Un DNS possède une adresse IP\n",
    "comme toutes les machines\n",
    "connectées à Internet. Lorsque\n",
    "nous avons besoin d’une adresse\n",
    "IP, le DNS résolveur demande\n",
    "récursivement les informations\n",
    "au DNS Racine qui l’envoie vers\n",
    "le DNS TLD (Top Level\n",
    "Domain) pour ensuite trouver le\n",
    "DNS du domaine visé</mark> (pour\n",
    "notre exemple « org »)"
   ]
  },
  {
   "cell_type": "markdown",
   "id": "dd416ace",
   "metadata": {},
   "source": [
    "![img](https://upload.wikimedia.org/wikipedia/commons/c/c8/Protocole_HTTP_TCP-IP_Passerelle_Routage.svg)"
   ]
  },
  {
   "cell_type": "code",
   "execution_count": null,
   "id": "fb41bf8d",
   "metadata": {},
   "outputs": [],
   "source": [
    "# à faire: Répondre aux questions :\n",
    "# 1. à quel domaine appartient l'adresse www.education.gouv.fr ?\n",
    "# 2. comment connaitre son adresse IP ? "
   ]
  },
  {
   "cell_type": "markdown",
   "id": "6b3379ba",
   "metadata": {},
   "source": [
    "<b>5.Les débits et portés :</b><br><br>\n",
    "Il existe de multiple façon d’être\n",
    "raccordé à l’Internet, vous pouvez\n",
    "être connecté via votre\n",
    "smartphone en 4G ou en 5G ou\n",
    "sur votre ordinateur portable en\n",
    "WIFI et même directement à\n",
    "l’aide d’une câble RJ45 comme\n",
    "les ordinateurs du Lycée. Pour\n",
    "transmettre les informations, le\n",
    "réseau Internet est composé de\n",
    "route <i>plus ou moins rapides</i>. "
   ]
  },
  {
   "cell_type": "markdown",
   "id": "e53f8978",
   "metadata": {},
   "source": [
    "Normes | Débits de données | Portées | Type de connexion | Fréquence d'émission (porteuse)\n",
    " ---: | :---: | :---: | :---: | :--- \n",
    "Bluetooth 2.0 | 2,1 Mbit/s1 | 10 m | Sans fil | 2,4 GHz\n",
    "Bluetooth 5.0 | 2 Mbit/s3  | 60 m | sans fil | 2,4GHz\n",
    "Bluetooth 5.2 | 2 Mbit/s4  | . | Sans fil | 2,4 et 5Ghz (802.11 AMP)5\n",
    "Firewire 400 (IEEE 1394, i-LINK, Lynx) | 393 Mbit/s6 4,5 m (100 m par fibre optique) |  Câble Non applicable\n",
    "UMTS (3G) | 384 kbit/s (2Mbit/s théoriques) | . | Sans fil: téléphonie et données mobiles | entre 900 MHz et 2,1 GHz\n",
    "LTE (4G) | 50 à 150 Mbit/s théoriques | . | Sans fil: téléphonie et données mobiles | entre 700 MHz et 2,7 GHz\n",
    "NR (5G) | 10 Gbit/s (théoriques montant) 5 Gbit/s descendant (20 Gbit/s théoriques)10 | FR1 : jusqu'à 200 km11 FR2: De quelques dizaines à plusieurs centaines de mètres11,12 |  Sans fil : téléphonie et données\n",
    "mobiles | FR1: entre 450 MHz et 6 GHz FR2: entre 24,25 GHz et 52,6 GHz10 RS-232 (port série) 75 bit/s à 115 200 bit/s (max 20 000 bit/s théoriques (spécifications)) | de 2 m à 2 km | Câble | Non applicable\n",
    "USB 2.0 | 480 Mbit/s | 5 m | Câble | Non applicable\n",
    "USB 3.0 (ou USB 3.1 Gen 1) | 1,2 Gbit/s à 4 Gbit/s (5 Gbit/s théoriques) | - | Câble | Non applicable\n",
    "USB 3.1 (ou USB 3.1 Gen 2) | 10 Gbit/s théoriques | - | Câble | Non applicable\n",
    "Wireless Firewire | 100 à 480 Mbit/s | 10 m | Sans fil | ."
   ]
  },
  {
   "cell_type": "markdown",
   "id": "4af021de",
   "metadata": {},
   "source": [
    "<b>6.Les câbles RJ45 et autres câbles réseau filaires :</b>"
   ]
  },
  {
   "cell_type": "markdown",
   "id": "086f1e3d",
   "metadata": {},
   "source": [
    "![img](https://tse1.mm.bing.net/th?id=OIP.SOSsvACFHmcpnFp516kQHQHaFj&pid=Api&P=0&h=180)"
   ]
  },
  {
   "cell_type": "markdown",
   "id": "9abe18af",
   "metadata": {},
   "source": [
    "Les principaux types de réseaux filaires pour les réseaux informatiques d'entreprises ou de particuliers utilisent les protocoles suivant qui proviennent du standard Ethernet:\n",
    "\n",
    "    • 10BASE5 : câble coaxial épais bande de base (obsolète) ;\n",
    "    • 10BASE2 : câble coaxial fin bande de base (obsolète) ;\n",
    "    • 10BASE-T : paires torsadées (10 Mb/s) ;\n",
    "    • 100BASE-T : paires torsadées (100 Mb/s) les plus généralisées aujourd'hui en réseau local (LAN) ;\n",
    "    • 1000BASE-T : paires torsadées (1 Gb/s), présent dans les nouveaux ordinateurs ;\n",
    "    • 10GBASE-T : paires torsadées (10 Gb/s).\n"
   ]
  },
  {
   "cell_type": "code",
   "execution_count": null,
   "id": "06c3e48b",
   "metadata": {},
   "outputs": [],
   "source": [
    "# à faire: Répondre aux questions :\n",
    "# 1. un paquet emmit par un téléphone portable et transmis sur internet peut-il transiter sur un réseau filaire  ?\n",
    "# 2. la vitesse de transfert d'un paquet routé sur internet est-elle toujours la même ?\n",
    "# 3. imaginez une route traversée par un paquet et expliquez son parcours et les matériels qu'il traverse."
   ]
  },
  {
   "cell_type": "markdown",
   "id": "3484398e",
   "metadata": {},
   "source": [
    "<b>7.Exemple d’un échange de données sur Internet :</b>"
   ]
  },
  {
   "cell_type": "markdown",
   "id": "b76d6eab",
   "metadata": {},
   "source": [
    "Imaginons que M. X, situé à Paris, est connecté à Internet avec l’adresse IP publique. Il désire envoyer le message suivant « Bonjour cher ami comment allez-vous ? » à M. Y, situé à Ankara (‎Turquie), avec l’adresse IP publique 208.82.145.124, via le réseau Internet :"
   ]
  },
  {
   "cell_type": "markdown",
   "id": "9be70b05",
   "metadata": {},
   "source": [
    "![img](https://raw.githubusercontent.com/Defernez/NSI/main/%3CSNT%3E/Internet/internet1.jpg)"
   ]
  },
  {
   "cell_type": "markdown",
   "id": "b120c5b5",
   "metadata": {},
   "source": [
    "Le message initial de M. X va alors être découpé en plusieurs « paquets » par le protocole TCP/IP, de taille fixe, ceci de façon uniforme et indépendante du type de données transportées (texte, images, sons, vidéos, etc.). Ici, en quatre paquets, fictivement pour les besoins de l'exemple (en fait la taille réelle d'un paquet IP est d'environ 1500 octets) :"
   ]
  },
  {
   "cell_type": "code",
   "execution_count": null,
   "id": "e4d279d9",
   "metadata": {},
   "outputs": [],
   "source": [
    "message_initial = \"Bonjour cher ami comment allez-vous ?\"\n",
    "IP_monsieur_X = \"195.114.12.58\"\n",
    "IP_monsieur_Y = \"208.82.145.124\"\n",
    "message_initial"
   ]
  },
  {
   "cell_type": "code",
   "execution_count": null,
   "id": "c8de8a0d",
   "metadata": {},
   "outputs": [],
   "source": [
    "message = message_initial\n",
    "index_message = 1\n",
    "TCP_IP = {}\n",
    "maxi = 7\n",
    "longueur = 0\n",
    "decoupe = ''\n",
    "for car in message:\n",
    "    if longueur >= maxi :\n",
    "        decoupe = decoupe + car\n",
    "        TCP_IP[index_message] = decoupe\n",
    "        decoupe = ''\n",
    "        index_message = index_message + 1\n",
    "        longueur = 0\n",
    "    else:\n",
    "        decoupe = decoupe + car\n",
    "        longueur = longueur + 1\n",
    "if longueur !=0 :\n",
    "    TCP_IP[index_message] = decoupe\n",
    "\n",
    "print(\"TCP/IP va découper le message ainsi :\")\n",
    "    \n",
    "for p,v in TCP_IP.items():\n",
    "    print (f\"Paquet numéro {p}: {v}\")\n",
    "    \n",
    "print(\"C'est un exemple pour illustrer car les paquets sont plus gros en réalité\")"
   ]
  },
  {
   "cell_type": "markdown",
   "id": "bfccf1d4",
   "metadata": {},
   "source": [
    "<b>Maintenant le message traverse internet"
   ]
  },
  {
   "cell_type": "markdown",
   "id": "abdaac80",
   "metadata": {},
   "source": [
    "![img](https://cdn.pixabay.com/photo/2013/05/07/08/38/globe-109274_960_720.jpg)"
   ]
  },
  {
   "cell_type": "markdown",
   "id": "db84223e",
   "metadata": {},
   "source": [
    "Chaque en-tête/identifiant de paquet contient l'adresse de l'ordinateur de l'expéditeur, M.X, soit : 195.114.12.58  et celle du destinataire, M.Y, soit : 208.82.145.124.\n",
    "Une fois arrivé chez M.Y, le message sera reçu grâce au protocole IP, les paquets ne vont pas forcément arriver dans l’odre et TCP va s’occuper de demandé l’obtention des paquets perdus et la reconstitution du message d’origine c’est à dire la désencapsulation.\n",
    " Le routage (sur un réseau) consiste à trouver le chemin le plus court entre deux points du réseau en fonction de l'encombrement et de l'état du réseau. Ainsi, chaque paquet peut prendre un chemin différent pour arriver à destination."
   ]
  },
  {
   "cell_type": "markdown",
   "id": "179e913f",
   "metadata": {},
   "source": [
    "<b><i>Principe d’encapsulation :</b></i><br>\n",
    "Chaque paquet contient une en-tête spécifique au protocole TCP/IP , qui va former une trame, et va transiter de routeur en routeur (c’est le « routage ») jusqu'à atteindre le destinataire (récepteur) "
   ]
  },
  {
   "cell_type": "markdown",
   "id": "62a56921",
   "metadata": {},
   "source": [
    "![img](https://waytolearnx.com/ezoimgfmt/1.bp.blogspot.com/-8fTlpmjwXBo/XPWSJUKDtQI/AAAAAAAAD88/dtPaTq53ZwMOejuopdCTQJ9tRv2qB838gCLcBGAs/s1600/Encapsulation%2Bet%2Bd%25C3%25A9capsulation%2BTCP-IP.png?ezimgfmt=rs:770x272/rscb1/ng:webp/ngcb1)"
   ]
  },
  {
   "cell_type": "markdown",
   "id": "ae49c760",
   "metadata": {},
   "source": [
    "<i>source: waytolearnx"
   ]
  },
  {
   "cell_type": "code",
   "execution_count": null,
   "id": "87336baf",
   "metadata": {},
   "outputs": [],
   "source": [
    "print(\"Une fois arrivé chez monsieur Y:\")\n",
    "for paquet in TCP_IP.values():\n",
    "    print (paquet, end='') # décapsulation"
   ]
  },
  {
   "cell_type": "code",
   "execution_count": null,
   "id": "c1c1bed3",
   "metadata": {},
   "outputs": [],
   "source": [
    "# à faire : remplacer le message de monsieur X par un long message de votre choix "
   ]
  },
  {
   "cell_type": "code",
   "execution_count": null,
   "id": "6473db82",
   "metadata": {},
   "outputs": [],
   "source": []
  },
  {
   "cell_type": "code",
   "execution_count": null,
   "id": "16d5abdc",
   "metadata": {},
   "outputs": [],
   "source": [
    "# à faire : Vérifier où se situe géographiquement l'adresse ip trouvée pour wikipédia\n",
    "# vous avez trouvé cette adresse au paragraphe numéro 2\n",
    "# Que pouvez-vous en conclure ?\n",
    "#"
   ]
  },
  {
   "cell_type": "code",
   "execution_count": null,
   "id": "b283a22e",
   "metadata": {},
   "outputs": [],
   "source": [
    " # Pour lancer ce code pour vour rendre sur le site iplocation :\n",
    "from IPython.display import IFrame\n",
    "IFrame('https://iplocation.com/', width=850, height=700)"
   ]
  },
  {
   "cell_type": "markdown",
   "id": "930b798f",
   "metadata": {},
   "source": [
    "<b>Principe du routage :</b> Le message est déposé sur le routeur le plus proche\n",
    "     Les adresses IP émetteur et récepteur sont remises à jour sur chaque routeur."
   ]
  },
  {
   "cell_type": "markdown",
   "id": "66383eea",
   "metadata": {},
   "source": [
    "<b>7.Les algorithmes et les programmes :<b><br><br>\n",
    "\n",
    "Le principal algorithme d’internet est le routage des paquets de leurs émetteurs vers leurs\n",
    "destinataires. Il est effectué par des machines appelées routeurs, qui échangent en\n",
    "permanence avec leurs voisins pour établir une carte locale de ce qu’ils voient du réseau.\n",
    "Chaque paquet transite par une série de routeurs, chacun l’envoyant à un autre routeur\n",
    "selon sa carte locale et la destination prévue. Les routeurs s’ajustent en permanence et de\n",
    "proche en proche quand on les ajoute au réseau ou quand un routeur voisin disparaît. Il n’y a\n",
    "plus besoin de carte globale, ce qui permet le routage à grande échelle.\n",
    "Lors du routage, un paquet peut ne pas arriver pour deux raisons : une panne matérielle\n",
    "d’une ligne ou d’un routeur, ou sa destruction. Chaque paquet contient l’information d’un\n",
    "nombre maximal de routeurs à traverser : pour ne pas encombrer le réseau, il est détruit si\n",
    "ce nombre est atteint. C’est le protocole TCP qui fiabilise la communication en redemandant\n",
    "les paquets manquants. Il garantit que tout paquet finira par arriver, sauf panne matérielle\n",
    "incontournable. TCP réordonne aussi les paquets arrivés dans le désordre et diminue la\n",
    "congestion du réseau en gérant au mieux les redemandes. Mais ni internet ni TCP ne\n",
    "possèdent de garantie temporelle d’arrivée des paquets, ce qui nuit à la qualité du streaming\n",
    "du son ou des vidéos et de la téléconférence. En effet, dans une vidéo, on peut perdre une\n",
    "image isolée, mais pas le fil du temps.\n",
    "D’autres protocoles s’appuient sur ceux d’internet, par exemple les protocoles du Web\n",
    "(HTTP et HTTPS) et le protocole NTP (Network Time Protocol) qui permet de synchroniser\n",
    "finement les heures des ordinateurs et objets connectés."
   ]
  },
  {
   "cell_type": "markdown",
   "id": "76c8235b",
   "metadata": {},
   "source": [
    "![img](http://mathartung.xyz/isn/Reseaux/res/internet.gif)"
   ]
  },
  {
   "cell_type": "markdown",
   "id": "0a4d562e",
   "metadata": {},
   "source": [
    "<i>source: Marc Silanus"
   ]
  },
  {
   "cell_type": "markdown",
   "id": "305d52ee",
   "metadata": {},
   "source": [
    "<b>8. Les machines :</b><br><br>\n",
    "Réseau mondial, Internet fonctionne à l’aide de routeurs, de lignes de transmissions à très\n",
    "hauts débits (fibres optiques) entre routeurs, de réseaux de téléphonie mobile, et de réseaux\n",
    "locaux. Ses protocoles étant logiciels, il peut s’appuyer sur n’importe quel réseau\n",
    "physique qui les implémente : 4G, 5G, Ethernet, ADSL, Wi-Fi, Bluetooth, etc. TCP/IP n’est pas\n",
    "implémenté dans l’infrastructure, mais dans chacun des ordinateurs connectés, et un serveur\n",
    "DNS est aussi un ordinateur connecté. Des mécanismes complexes assurent la continuité\n",
    "de la connexion, par exemple pour passer sans interruption de téléphonie 5G au Wi-Fi, par exemple pour passer de façon invisible d’antenne à antenne avec un téléphone portable quand on voyage."
   ]
  },
  {
   "cell_type": "markdown",
   "id": "71792a8b",
   "metadata": {},
   "source": [
    "<b>9. Les réseaux pair-à-pair</b><br><br>\n",
    "Dans les réseaux pair-à-pair s’appuyant sur internet et souvent utilisé pour le transport de vidéos, chaque ordinateur sert à la fois d’émetteur et de récepteur. Impacts sur les pratiques humaines\n",
    "Internet a fait progressivement disparaître beaucoup des moyens de communication précédents : télégramme, télex, le courrier postal pour une bonne partie, et bientôt le téléphone fixe grâce à VoIP (voix sur IP). Son trafic pour 2021 est de 3 300 milliards de milliards d’octets (3,3 × 1021 octets).\n",
    "Internet a aussi ses problèmes : absence de garantie temporelle sur l’arrivée des paquets et possibilité d’attaques par saturation en envoyant un très grand nombre de messages à un site donné, pour y provoquer un déni de service.\n",
    "La neutralité du Net, présente dès l’origine du réseau, exprime l’idée que les routeurs doivent transmettre les paquets indépendamment du type de leur contenu : texte, vidéo, etc. Mais elle est constamment remise en cause par certains lobbies industriels.\n",
    "<br><br>\n",
    "Un réseau P2P (pair-à-pair) utilise des protocoles de recherche et de transfert de données au-dessus du protocole Internet (IP). Pour accéder à un réseau P2P, les utilisateurs téléchargent et installent simplement une application appropriée, appelée client P2P. Il existe de nombreux réseaux P2P et applications logicielles P2P. est un modèle d'échange en réseau où chaque entité est à la fois client et serveur, contrairement au modèle client-serveur.\n",
    "<br><br>\n",
    "<u>Les usages légaux du peer-to-peer :</u><br>\n",
    "\n",
    "Des sociétés ainsi que des scientifiques utilise ce protocole à des fin commerciales pour diffuser des mises à jour ou pour faire économie d’un serveur central coûteux à entretenir.\n",
    "<br><br>\n",
    "<u>Les usages illégaux du peer-to-peer :</u><b><br>\n",
    "\n",
    "On peut l’utiliser pour pirater des films, de la musique, des jeux vidéos en utilisant un client torrent . La Haute Autorité pour la diffusion des œuvres et la protection des droits sur Internet   (HADOPI) veille aux intérêts des titulaires d’œuvres de droits protégées au titre de la propriété intellectuelle."
   ]
  },
  {
   "cell_type": "markdown",
   "id": "e69be435",
   "metadata": {},
   "source": [
    "![img](https://2.bp.blogspot.com/-Cg8Pxm3o_i8/UiYTPnIUk4I/AAAAAAAAADo/kscNoy9RtuM/s400/Computer+Geek+HQ+-+Computer+Networking+Basics+Peer-to-Peer.png)"
   ]
  },
  {
   "cell_type": "markdown",
   "id": "2b70baeb",
   "metadata": {},
   "source": [
    "<i>source: theinfozones.com"
   ]
  },
  {
   "cell_type": "markdown",
   "id": "a3bb30cf",
   "metadata": {},
   "source": [
    "<b>10. La Blockchain :</b><br><br>\n",
    "![img](https://tse3.mm.bing.net/th?id=OIP.vs8uMwfk_FUcBeYAUuqdSQAAAA&pid=Api&P=0&h=180)\n",
    "Le peer-to-peer est utilisée en particulier pour les monnaies virtuelles comme le Bitcoin. La technologie blockchain consiste à répliquer sur de nombreuses machines les preuves chiffrées et vérifiables par chacun d'un ensemble d'information enregistrées.  la blockchain n’appartient à personne ou appartient à tous. Ces données qui sont partagées entre les serveurs de ce réseau P2P sont appelées blocks. Les mineurs sont des serveurs du réseau ayant pour tâches d’écouter l’ensemble des transactions du réseau, de maintenir leur liste de blocks à jour et les partager puis\n",
    "de tenter de construire le block suivant."
   ]
  },
  {
   "cell_type": "markdown",
   "id": "7b0be4e4",
   "metadata": {},
   "source": [
    "<b>11. Les routeurs :</b><br><br>\n",
    "\n",
    "Un routeur permet de relier ensemble plusieurs réseaux, il est composé d’un nombre plus ou moins important d’interfaces réseau (cartes réseau). Les routeurs les plus simples que l’on puisse rencontrer permettent de relier ensemble deux réseaux (ils possèdent alors 2 interfaces réseau), mais il existe des routeurs capables de relier ensemble une dizaine de réseaux."
   ]
  },
  {
   "cell_type": "markdown",
   "id": "ccfe20ec",
   "metadata": {},
   "source": [
    "![img](https://tse4.mm.bing.net/th?id=OIP.O-2coLUGZyX801QbphrCmQHaFj&pid=Api&P=0&h=180)"
   ]
  },
  {
   "cell_type": "code",
   "execution_count": null,
   "id": "c233df54",
   "metadata": {},
   "outputs": [],
   "source": [
    "# à faire            Regardez ce graphe et répondre aux questions"
   ]
  },
  {
   "cell_type": "markdown",
   "id": "7db9e1bc",
   "metadata": {},
   "source": [
    "![img](https://info-mounier.fr/terminale_nsi/archi_se_reseaux/data/ex5_2.png)"
   ]
  },
  {
   "cell_type": "markdown",
   "id": "6a1596bd",
   "metadata": {},
   "source": [
    "<i>source: info-mounier.fr"
   ]
  },
  {
   "cell_type": "code",
   "execution_count": null,
   "id": "0d65c5f3",
   "metadata": {},
   "outputs": [],
   "source": [
    "# les Machines A et H sont reliées entre elles par des routeurs dont le nombre est indiqué\n",
    "# sur chaque lien.\n",
    "# \n",
    "# 1. Que ce passe-t-il si les routeurs entre A et B sont inaccessibles ?\n",
    "# \n",
    "# 2. Déterminer le nombre minimum de routeurs qui relie la machine A à la machine H.\n",
    "#\n",
    "# 3. Déterminer le nombre minimum de routeurs qui relie la machine A à la machine H si les routeurs entre A et D,\n",
    "# B et F et B et H sont cassés\n",
    "#\n",
    "# 4. lister toutes les possibilités de routage d'un paquet entre la machine A à la machine H sans passer\n",
    "# deux fois par le même.\n",
    "#\n",
    "# 5. Quelle doit être la durée de vie minimale d'un paquet pour qu'il transite en A à H en prenant le chemin\n",
    "# le plus court ?\n",
    "#"
   ]
  },
  {
   "cell_type": "markdown",
   "id": "9ad0dc33",
   "metadata": {},
   "source": [
    "Vocabulaire à savoir :\n",
    "----\n",
    "* Client: programme envoyant une requête, c'est aussi l'ordinateur sur lequel se trouve ce programme\n",
    "* DNS: annuaire faisant correspondre adresses symbolique et IP.\n",
    "* Internet: réseau de réseaux interconnecté de machines.\n",
    "* IP: Protocole qui envoi des paquets aux bonnes adresses et aussi adresse d'une machine sur le réseau.\n",
    "* Pair-à-pair: protocole de communication où les machines reliées entre elles sont à la fois client et serveur.\n",
    "* Paquet: unité de données d'au maximum 1500 octets\n",
    "* Protocole de communication: ensembles de règles qui régissent les échanges de données.\n",
    "* Requête: demande d'information d'un client à un serveur.\n",
    "* Réseau informatique: ensemble de machines connectées entre elles.\n",
    "* Routeur: machine transmettant les données sur Internet pour qu'elles atteignent leur destination.\n",
    "* Serveur: programme répondant à une requête, c'est aussi l'ordinateur sur lequel se trouve ce programme.\n",
    "* TCP:protocole assurant le transport et l'intégrité des paquets."
   ]
  }
 ],
 "metadata": {
  "kernelspec": {
   "display_name": "Python 3 (ipykernel)",
   "language": "python",
   "name": "python3"
  },
  "language_info": {
   "codemirror_mode": {
    "name": "ipython",
    "version": 3
   },
   "file_extension": ".py",
   "mimetype": "text/x-python",
   "name": "python",
   "nbconvert_exporter": "python",
   "pygments_lexer": "ipython3",
   "version": "3.8.10"
  }
 },
 "nbformat": 4,
 "nbformat_minor": 5
}
