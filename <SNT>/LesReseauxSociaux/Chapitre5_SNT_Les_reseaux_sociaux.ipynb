{
 "cells": [
  {
   "cell_type": "markdown",
   "id": "15fb90df",
   "metadata": {},
   "source": [
    "<h1>Chapitre 5</h1>\n",
    "<h2><mark>SNT: Les réseaux sociaux</mark></h2>"
   ]
  },
  {
   "cell_type": "code",
   "execution_count": null,
   "id": "c1c4b688",
   "metadata": {},
   "outputs": [],
   "source": [
    "# Nom :\n",
    "# Prénom :\n",
    "# à rendre sur travail.nsi.free.fr"
   ]
  },
  {
   "cell_type": "markdown",
   "id": "c771eb70",
   "metadata": {},
   "source": [
    "https://youtu.be/aA_NZdasOg4?feature=shared"
   ]
  },
  {
   "cell_type": "code",
   "execution_count": 1,
   "id": "be9beb20",
   "metadata": {},
   "outputs": [
    {
     "data": {
      "text/html": [
       "<iframe width=\"560\" height=\"315\" src=\"https://www.youtube.com/embed/aA_NZdasOg4?si=tyOW2hPIsShuebxv\" title=\"YouTube video player\" frameborder=\"0\" allow=\"accelerometer; autoplay; clipboard-write; encrypted-media; gyroscope; picture-in-picture; web-share\" allowfullscreen></iframe>\n"
      ],
      "text/plain": [
       "<IPython.core.display.HTML object>"
      ]
     },
     "metadata": {},
     "output_type": "display_data"
    }
   ],
   "source": [
    "%%html\n",
    "<iframe width=\"560\" height=\"315\" src=\"https://www.youtube.com/embed/aA_NZdasOg4?si=tyOW2hPIsShuebxv\" title=\"YouTube video player\" frameborder=\"0\" allow=\"accelerometer; autoplay; clipboard-write; encrypted-media; gyroscope; picture-in-picture; web-share\" allowfullscreen></iframe>"
   ]
  },
  {
   "cell_type": "markdown",
   "id": "a5d5eae7",
   "metadata": {},
   "source": [
    "Les réseaux sociaux sont des applications basées sur les technologies du Web qui offrent un\n",
    "service de mise en relation d’internautes pour ainsi développer des communautés d’intérêts."
   ]
  },
  {
   "cell_type": "markdown",
   "id": "59770f49",
   "metadata": {},
   "source": [
    "Repères historiques\n",
    "--\n",
    "- *1995* : Classmates est l’un des premiers réseaux sociaux qui permettent aux\n",
    "étudiants de rester en relation \n",
    "- *2003* : apparition de Myspace, aujourd’hui en perte de vitesse, et de LinkedIn\n",
    "(racheté depuis par Microsoft), à vocation professionnelle \n",
    "- *2004* : apparition de Facebook, d’abord réservé aux étudiants de l’université Harvard,\n",
    "puis ouvert au grand public en 2006 \n",
    ". *2006* : apparition de Twitter, qui permet l’échange de courts messages, limités au\n",
    "départ à 140 puis à 280 caractères (on parle de microblogage) \n",
    "- *2009* : lancement de la messagerie instantanée WhatsApp (rachetée depuis par\n",
    "Facebook) qui se substitue à l’utilisation des SMS et MMS chez beaucoup\n",
    "d’utilisateurs \n",
    "- *2010* : arrivée d’Instagram (racheté depuis par Facebook), qui permet le partage de\n",
    "photos et de vidéos \n",
    "- *2011* : début de Snapchat qui permet, sur plateformes mobiles, le partage de photos\n",
    "et de vidéos, avec une limitation de durée \n",
    "- *2018* : on estime à 3,2 milliards le nombre d’utilisateurs actifs des réseaux sociaux."
   ]
  },
  {
   "cell_type": "markdown",
   "id": "b5b80e7a",
   "metadata": {},
   "source": [
    "En 2018, les réseaux sociaux utilisés en France sont états-uniens, toutefois il en existe bien\n",
    "d’autres : en Chine, par exemple, apparaît en 2009 l’application de microblogage Weibo\n",
    "avec plus de 350 millions d’utilisateurs actifs en 2018 ; en 2012 naît l’application de\n",
    "messagerie Weixin (développée par Tencent) qui compte en 2018 plus d’un milliard de\n",
    "comptes utilisateurs."
   ]
  },
  {
   "cell_type": "markdown",
   "id": "85fb6c93",
   "metadata": {},
   "source": [
    "| Contenus | Capacités attendues |\n",
    "|----------|---------------------|\n",
    "| Identité numérique,e-réputation, identification,authentification | Connaître les principaux concepts liés à l’usage des réseaux sociaux.|\n",
    "| Réseaux sociaux existants  | Distinguer plusieurs réseaux sociaux selon leurs caractéristiques, y compris un ordre de grandeur de leurs nombres d’abonnés. Paramétrer des abonnements pour assurer la confidentialité de données personnelles. |\n",
    "| Modèle économique des réseaux sociaux | Identifier les sources de revenus des entreprises de\n",
    "réseautage social. |\n",
    "| Rayon, diamètre et centre d’un graphe | Déterminer ces caractéristiques sur des graphes simples. |\n",
    "| Notion de « petit monde » Expérience de Milgram | Décrire comment l’information présentée par les réseaux sociaux est conditionnée par le choix préalable de ses amis. |\n",
    "| Cyberviolence |  Connaître les dispositions de l’article 222-33-2-2 du code pénal. Connaître les différentes formes de cyberviolence (harcèlement, discrimination, sexting...) et les ressources disponibles pour lutter contre la cyberviolence. |"
   ]
  },
  {
   "cell_type": "code",
   "execution_count": 1,
   "id": "ff238d26",
   "metadata": {},
   "outputs": [
    {
     "name": "stdout",
     "output_type": "stream",
     "text": [
      "import de networkx et de matplotlib\n"
     ]
    }
   ],
   "source": [
    "# Importer les modules nécessaires # networkx et pyplot\n",
    "import networkx as nx\n",
    "from matplotlib import pyplot\n",
    "# -----------------------------------------------------\n",
    "\n",
    "G=nx.Graph()  # créer un nouveau graphe\n",
    "\n",
    "print(\"import de networkx et de matplotlib\")"
   ]
  },
  {
   "cell_type": "code",
   "execution_count": 2,
   "id": "91aea36c",
   "metadata": {},
   "outputs": [
    {
     "name": "stdout",
     "output_type": "stream",
     "text": [
      "9 personnes sont ajoutées\n"
     ]
    }
   ],
   "source": [
    "# Ajout des arêtes\n",
    "G.add_edge(\"Gabriel\",\"Jean\")  # Ajout d'une arête entre \"Gabriel\" et \"Jean\"\n",
    "G.add_edge(\"Jean\",\"Mathis\")  # Ajout d'une arête entre \"Jean et \"Mathis\"\n",
    "G.add_edge(\"Mathis\",\"Nolan\")  # Ajout d'une arête entre \"Mathis\" et \"Nolan\"\n",
    "G.add_edge(\"Jean\",\"Nolan\")  # Ajout d'une arête entre \"Jean\" et \"Nolan\"\n",
    "G.add_edge(\"Gabriel\",\"Nolan\")  # Ajout d'une arête entre \"Gabriel\" et \"Nolan\"\n",
    "G.add_edge(\"Gabriel\",\"Lou\")  # Ajout d'une arête entre \"Gabriel\" et \"Lou\"\n",
    "G.add_edge(\"Lou\",\"Chloé\")  # Ajout d'une arête entre \"Lou\" et \"Chloé\"\n",
    "G.add_edge(\"Lou\",\"Enola\")  # Ajout d'une arête entre \"Lou\" et \"Enola\"\n",
    "G.add_edge(\"Gabriel\",\"Enola\")  # Ajout d'une arête entre \"Gabriel\" et \"Enola\"\n",
    "\n",
    "print(str(G.number_of_edges()) + \" personnes sont ajoutées\")"
   ]
  },
  {
   "cell_type": "code",
   "execution_count": 3,
   "id": "b795de37",
   "metadata": {},
   "outputs": [
    {
     "data": {
      "image/png": "[encoded data removed]",
      "text/plain": [
       "<Figure size 432x288 with 1 Axes>"
      ]
     },
     "metadata": {},
     "output_type": "display_data"
    }
   ],
   "source": [
    "# Dessiner le graphe\n",
    "nx.draw(G, with_labels=True, font_weight='bold')\n",
    "pyplot.show()\n"
   ]
  },
  {
   "cell_type": "markdown",
   "id": "1cd7d289",
   "metadata": {},
   "source": [
    "**Chaîne** : Dans un graphe, une chaîne reliant un sommet x à un sommet y est définie par une suite finie d'arêtes consécutives, reliant x à y.\n",
    "Exemple : Dans le graphe donné ci-dessus, Mathis - Jean - Gabriel - Lou - Chloé est une chaîne de 4 arêtes (M-J-G-L-C)"
   ]
  },
  {
   "cell_type": "code",
   "execution_count": 11,
   "id": "4af7f3a2",
   "metadata": {},
   "outputs": [
    {
     "data": {
      "text/plain": [
       "['Mathis', 'Jean', 'Gabriel', 'Lou', 'Chloé']"
      ]
     },
     "execution_count": 11,
     "metadata": {},
     "output_type": "execute_result"
    }
   ],
   "source": [
    "dico_de_paires_de_plus_cours_chemins = dict(nx.all_pairs_shortest_path(G))\n",
    "dico_de_paires_de_plus_cours_chemins[\"Mathis\"][\"Chloé\"]"
   ]
  },
  {
   "cell_type": "markdown",
   "id": "b8fec66f",
   "metadata": {},
   "source": [
    "**Distance entre 2 sommets** : La distance entre deux sommets d'un graphe est le nombre minimum d'arêtes d'une chaîne allant de l'un à l'autre.\n",
    "Exemple : La distance entre le sommet Mathis et le sommet Chloé est de 4 (chaîne M-J-G-L-C)."
   ]
  },
  {
   "cell_type": "code",
   "execution_count": 12,
   "id": "7be429da",
   "metadata": {},
   "outputs": [
    {
     "data": {
      "text/plain": [
       "4"
      ]
     },
     "execution_count": 12,
     "metadata": {},
     "output_type": "execute_result"
    }
   ],
   "source": [
    "dico_de_distances_apairees = dict(nx.all_pairs_shortest_path_length(G))\n",
    "dico_de_distances_apairees[\"Mathis\"][\"Chloé\"]"
   ]
  },
  {
   "cell_type": "markdown",
   "id": "b2df03f5",
   "metadata": {},
   "source": [
    "**Écartement** : L'écartement d'un sommet est la distance maximale existant entre ce sommet et les autres sommets du graphe."
   ]
  },
  {
   "cell_type": "markdown",
   "id": "ce9027b4",
   "metadata": {},
   "source": [
    "**Centre** : On appelle centre d'un graphe, le sommet d'écartement minimal (le centre n'est pas nécessairement unique).\n",
    "Exemple: Gabriel est le centre du graphe car c'est le sommet le plus proche de tous les autres"
   ]
  },
  {
   "cell_type": "code",
   "execution_count": 13,
   "id": "08c84a54",
   "metadata": {},
   "outputs": [
    {
     "name": "stdout",
     "output_type": "stream",
     "text": [
      "Centre du graphe : ['Gabriel']\n"
     ]
    }
   ],
   "source": [
    "print(f\"Centre du graphe : {nx.center(G)}\")"
   ]
  },
  {
   "cell_type": "markdown",
   "id": "13d4cb0a",
   "metadata": {},
   "source": [
    "**Rayon** : On appelle rayon d'un graphe G, l'écartement d'un centre de G.\n",
    "Exemple : Gabriel est le centre du graphe, nous pouvons donc dire que le rayon du graphe est la distance entre Mathis et lui ou entre Chloé et lui (2 arêtes)."
   ]
  },
  {
   "cell_type": "code",
   "execution_count": 14,
   "id": "a76e33d5",
   "metadata": {},
   "outputs": [
    {
     "data": {
      "text/plain": [
       "2"
      ]
     },
     "execution_count": 14,
     "metadata": {},
     "output_type": "execute_result"
    }
   ],
   "source": [
    "dico_de_distances_apairees = dict(nx.all_pairs_shortest_path_length(G))\n",
    "dico_de_distances_apairees[\"Gabriel\"][\"Chloé\"]"
   ]
  },
  {
   "cell_type": "code",
   "execution_count": 15,
   "id": "cfd192d3",
   "metadata": {},
   "outputs": [
    {
     "data": {
      "text/plain": [
       "2"
      ]
     },
     "execution_count": 15,
     "metadata": {},
     "output_type": "execute_result"
    }
   ],
   "source": [
    "dico_de_distances_apairees[\"Gabriel\"][\"Mathis\"]"
   ]
  },
  {
   "cell_type": "markdown",
   "id": "6e9b327d",
   "metadata": {},
   "source": [
    "**Diamètre** : On appelle diamètre d'un graphe G, la distance maximale entre deux sommets du graphe G.\n",
    "Exemple : Dans le graphe la distance maximale entre 2 sommets est de 4, nous pouvons donc dire que le diamètre du graphe est de 4 de \"Mathis\" à \"Chloé\""
   ]
  },
  {
   "cell_type": "code",
   "execution_count": 16,
   "id": "f3e2b64a",
   "metadata": {},
   "outputs": [
    {
     "name": "stdout",
     "output_type": "stream",
     "text": [
      "Diamètre du graphe : 4\n"
     ]
    }
   ],
   "source": [
    "print(f\"Diamètre du graphe : {nx.diameter(G)}\")"
   ]
  },
  {
   "cell_type": "code",
   "execution_count": 4,
   "id": "182fac13",
   "metadata": {},
   "outputs": [
    {
     "name": "stdout",
     "output_type": "stream",
     "text": [
      "Nombre de sommets : 7\n",
      "Nombre d'arêtes : 9\n",
      "Centre du graphe : ['Gabriel']\n",
      "Diamètre du graphe : 4\n"
     ]
    }
   ],
   "source": [
    "# Afficher des informations sur ce graphe :\n",
    "print(f\"Nombre de sommets : {G.number_of_nodes()}\")\n",
    "print(f\"Nombre d'arêtes : {G.number_of_edges()}\")\n",
    "print(f\"Centre du graphe : {nx.center(G)}\")\n",
    "print(f\"Diamètre du graphe : {nx.diameter(G)}\")\n"
   ]
  },
  {
   "cell_type": "code",
   "execution_count": 6,
   "id": "1e298fdb",
   "metadata": {},
   "outputs": [
    {
     "name": "stdout",
     "output_type": "stream",
     "text": [
      "('Gabriel', {'Gabriel': ['Gabriel'], 'Jean': ['Gabriel', 'Jean'], 'Nolan': ['Gabriel', 'Nolan'], 'Lou': ['Gabriel', 'Lou'], 'Enola': ['Gabriel', 'Enola'], 'Mathis': ['Gabriel', 'Jean', 'Mathis'], 'Chloé': ['Gabriel', 'Lou', 'Chloé']})\n",
      "('Jean', {'Jean': ['Jean'], 'Gabriel': ['Jean', 'Gabriel'], 'Mathis': ['Jean', 'Mathis'], 'Nolan': ['Jean', 'Nolan'], 'Lou': ['Jean', 'Gabriel', 'Lou'], 'Enola': ['Jean', 'Gabriel', 'Enola'], 'Chloé': ['Jean', 'Gabriel', 'Lou', 'Chloé']})\n",
      "('Mathis', {'Mathis': ['Mathis'], 'Jean': ['Mathis', 'Jean'], 'Nolan': ['Mathis', 'Nolan'], 'Gabriel': ['Mathis', 'Jean', 'Gabriel'], 'Lou': ['Mathis', 'Jean', 'Gabriel', 'Lou'], 'Enola': ['Mathis', 'Jean', 'Gabriel', 'Enola'], 'Chloé': ['Mathis', 'Jean', 'Gabriel', 'Lou', 'Chloé']})\n",
      "('Nolan', {'Nolan': ['Nolan'], 'Mathis': ['Nolan', 'Mathis'], 'Jean': ['Nolan', 'Jean'], 'Gabriel': ['Nolan', 'Gabriel'], 'Lou': ['Nolan', 'Gabriel', 'Lou'], 'Enola': ['Nolan', 'Gabriel', 'Enola'], 'Chloé': ['Nolan', 'Gabriel', 'Lou', 'Chloé']})\n",
      "('Lou', {'Lou': ['Lou'], 'Gabriel': ['Lou', 'Gabriel'], 'Chloé': ['Lou', 'Chloé'], 'Enola': ['Lou', 'Enola'], 'Jean': ['Lou', 'Gabriel', 'Jean'], 'Nolan': ['Lou', 'Gabriel', 'Nolan'], 'Mathis': ['Lou', 'Gabriel', 'Jean', 'Mathis']})\n",
      "('Chloé', {'Chloé': ['Chloé'], 'Lou': ['Chloé', 'Lou'], 'Gabriel': ['Chloé', 'Lou', 'Gabriel'], 'Enola': ['Chloé', 'Lou', 'Enola'], 'Jean': ['Chloé', 'Lou', 'Gabriel', 'Jean'], 'Nolan': ['Chloé', 'Lou', 'Gabriel', 'Nolan'], 'Mathis': ['Chloé', 'Lou', 'Gabriel', 'Jean', 'Mathis']})\n",
      "('Enola', {'Enola': ['Enola'], 'Lou': ['Enola', 'Lou'], 'Gabriel': ['Enola', 'Gabriel'], 'Chloé': ['Enola', 'Lou', 'Chloé'], 'Jean': ['Enola', 'Gabriel', 'Jean'], 'Nolan': ['Enola', 'Gabriel', 'Nolan'], 'Mathis': ['Enola', 'Gabriel', 'Jean', 'Mathis']})\n"
     ]
    }
   ],
   "source": [
    "for paire in nx.all_pairs_dijkstra_path(G):\n",
    "    print(paire)"
   ]
  },
  {
   "cell_type": "markdown",
   "id": "5df9cac4",
   "metadata": {},
   "source": [
    "**Tableau d'adjacence** :"
   ]
  },
  {
   "cell_type": "markdown",
   "id": "cac73e9e",
   "metadata": {},
   "source": [
    "| Adjacence  | Chloé| Enola | Lou | Gabriel | Jean | Mathis | Nolan |\n",
    "| :---------------: |:---------------:| :---------------:|:---------------:|:---------------:|:---------------:|:---------------:|:---------------:|\n",
    "| Chloé  |   0        |  0 |  1 |  0 |  0 |  0 |  0 |\n",
    "| Enola  | 0             |   0 |  1 |  1 |  0 |  0 |  0 |\n",
    "| Lou  | 1         |    1 |  0 |  1 |  0 |  0 |  0 |\n",
    "| Gabriel  |  0       |  1 |  1 |  0 |  1 |  0 |  1 |\n",
    "| Jean  | 0             |   0 |  0 |  1 |  0 |  1 |  1 |\n",
    "| Mathis  | 0         |    0 |  0 |  0 |  1 |  0 |  1 |\n",
    "| Nolan  | 0   |    0|  0 |  1 |  1 |  1 |  0 |"
   ]
  },
  {
   "cell_type": "markdown",
   "id": "5332f071",
   "metadata": {},
   "source": [
    "**Matrice d'adjacence** :"
   ]
  },
  {
   "cell_type": "code",
   "execution_count": 4,
   "id": "a698f94a",
   "metadata": {},
   "outputs": [
    {
     "data": {
      "text/plain": [
       "[[0, 0, 1, 0, 0, 0, 0],\n",
       " [0, 0, 1, 1, 0, 0, 0],\n",
       " [1, 1, 0, 1, 0, 0, 0],\n",
       " [0, 1, 1, 0, 1, 0, 1],\n",
       " [0, 0, 0, 1, 0, 1, 1],\n",
       " [0, 0, 0, 0, 1, 0, 1],\n",
       " [0, 0, 0, 1, 1, 1, 0]]"
      ]
     },
     "execution_count": 4,
     "metadata": {},
     "output_type": "execute_result"
    }
   ],
   "source": [
    "# Matrice d'adjacence :\n",
    "Matrice = [[0,0,1,0,0,0,0],[0,0,1,1,0,0,0],[1,1,0,1,0,0,0],[0,1,1,0,1,0,1],[0,0,0,1,0,1,1],[0,0,0,0,1,0,1],[0,0,0,1,1,1,0]]\n",
    "Matrice"
   ]
  },
  {
   "cell_type": "markdown",
   "id": "eb5bf1ea",
   "metadata": {},
   "source": [
    "À voius de réaliser le <strong>graphe</strong> d’un <strong>réseau social</strong> à partir des liens d'amitiés suivants :</p>\n",
    "<ul>\n",
    "<li>Abdoulaye est ami avec Boris et Eric</li>\n",
    "<li>Boris est ami avec Abdoulaye et Chloé</li>\n",
    "<li>Chloé est ami avec Boris, Florian et Doris</li>\n",
    "<li>Doris est ami avec Chloé, Florian et Eric</li>\n",
    "<li>Eric est ami avec Abdoulaye, Doris et Florian</li>\n",
    "<li>Florian est ami avec Chloé, Doris et Eric</li>"
   ]
  },
  {
   "cell_type": "code",
   "execution_count": 6,
   "id": "50449296",
   "metadata": {},
   "outputs": [
    {
     "data": {
      "image/png": "[encoded data removed]",
      "text/plain": [
       "<Figure size 432x288 with 1 Axes>"
      ]
     },
     "metadata": {},
     "output_type": "display_data"
    }
   ],
   "source": [
    "# Importer les modules nécessaires # networkx et pyplot\n",
    "import networkx as nx\n",
    "from matplotlib import pyplot\n",
    "# -----------------------------------------------------\n",
    "\n",
    "G2=nx.Graph()  # créer un nouveau graphe\n",
    "\n",
    "# Ajout des arêtes\n",
    "G2.add_edge(\"Abdoulaye\",\"Boris\")\n",
    "G2.add_edge(\"Abdoulaye\",\"Eric\")\n",
    "G2.add_edge(\"Eric\",\"Abdoulaye\")\n",
    "#\n",
    "# à compléter .....\n",
    "#\n",
    "# Dessiner le graphe\n",
    "nx.draw(G2, with_labels=True, font_weight='bold')\n",
    "pyplot.show()"
   ]
  },
  {
   "cell_type": "markdown",
   "id": "fd6aebd7",
   "metadata": {},
   "source": [
    "<b>Qu'est-ce que la désinformation, pourquoi est-elle si dangereuse ? </b> <br>\n",
    "https://youtu.be/-zYZuvK4RC0?si=MFRLcn8eztqaCc7p"
   ]
  },
  {
   "cell_type": "code",
   "execution_count": 2,
   "id": "2e3a8646",
   "metadata": {},
   "outputs": [
    {
     "data": {
      "text/html": [
       "<iframe width=\"560\" height=\"315\" src=\"https://www.youtube.com/embed/-zYZuvK4RC0?si=7Spv9Kb-nuAZ0gao\" title=\"YouTube video player\" frameborder=\"0\" allow=\"accelerometer; autoplay; clipboard-write; encrypted-media; gyroscope; picture-in-picture; web-share\" allowfullscreen></iframe>\n"
      ],
      "text/plain": [
       "<IPython.core.display.HTML object>"
      ]
     },
     "metadata": {},
     "output_type": "display_data"
    }
   ],
   "source": [
    "%%html\n",
    "<iframe width=\"560\" height=\"315\" src=\"https://www.youtube.com/embed/-zYZuvK4RC0?si=7Spv9Kb-nuAZ0gao\" title=\"YouTube video player\" frameborder=\"0\" allow=\"accelerometer; autoplay; clipboard-write; encrypted-media; gyroscope; picture-in-picture; web-share\" allowfullscreen></iframe>"
   ]
  },
  {
   "cell_type": "raw",
   "id": "d22b05c7",
   "metadata": {},
   "source": [
    "Regardez la vidéo pour répondre ici : \n",
    "....\n",
    "....\n",
    "...."
   ]
  },
  {
   "cell_type": "markdown",
   "id": "7a4d5ba9",
   "metadata": {},
   "source": [
    "![img](https://www.nouveautourismeculturel.com/blog/wp-content/contenus/2023/06/Social-Media-Landscape-2023-1.webp)"
   ]
  },
  {
   "cell_type": "markdown",
   "id": "9a51fd48",
   "metadata": {},
   "source": [
    "<b>Quelques type de réseaux sociaux :</b>\n",
    "*    Réseaux sociaux : Facebook, Twitter, LinkedIn.\n",
    "*    Réseaux de partage de médias : Instagram, Snapchat, YouTube.\n",
    "*    Forums de discussion : Reddit, Quora, Digg.\n",
    "*    Mise en signet et amp ; Réseaux de curation de contenu : Pinterest, Flipboard.\n",
    "*    Réseaux d’avis de consommateurs : Yelp, Zomato, TripAdvisor."
   ]
  },
  {
   "cell_type": "markdown",
   "id": "f06652cf",
   "metadata": {},
   "source": [
    "<b>Choisir 3 réseaux sociaux et cherchez sur le web : (soyez original pour le 3eme)<br>\n",
    "* le mode de fonctionnement\n",
    "* le type de réseau\n",
    "* le nombre d'abonnés\n",
    "* le modèle économique\n",
    "....\n",
    "...."
   ]
  },
  {
   "cell_type": "code",
   "execution_count": null,
   "id": "ed5b77a5",
   "metadata": {},
   "outputs": [],
   "source": [
    "Expliquer le proverbe suivant : « Si c'est gratuit, c'est que vous êtes le produit ». "
   ]
  },
  {
   "cell_type": "markdown",
   "id": "2406e3ab",
   "metadata": {},
   "source": [
    "Tous les réseaux sociaux ont un coût de fonctionnement. De plus, les réseaux sociaux les plus connus sont gérés par des entreprises commerciales, avec des employés, des charges, et un modèle économique visant à produire des bénéfices.\n",
    "\n",
    "<b>Quels sont les coûts de fonctionnement ? </b>"
   ]
  },
  {
   "cell_type": "raw",
   "id": "132c15b5",
   "metadata": {},
   "source": [
    "Votre réponse ici:\n",
    "....\n",
    "....\n",
    "..."
   ]
  },
  {
   "cell_type": "markdown",
   "id": "57df5191",
   "metadata": {},
   "source": [
    "Le cyberharcèlement est défini par l’article 222-33-2-2 du code pénal, créé par la loi n°2014-873 du 04 août 2014 et modifié par la loi n°2018-703 du 3 août 2018, comme suit : Le fait de harceler une personne par des propos ou comportements répétés ayant pour objet ou pour effet une dégradation de ses conditions de vie se traduisant par une altération de sa santé physique ou mentale est puni d'un an d'emprisonnement et de 15 000 € d'amende lorsque ces faits ont causé une incapacité totale de travail inférieure ou égale à huit jours ou n'ont entraîné aucune incapacité de travail.\n",
    "L'infraction est également constituée :\n",
    "a) Lorsque ces propos ou comportements sont imposés à une même victime par plusieurs personnes, de manière concertée ou à l'instigation de l'une d'elles, alors même que chacune de ces personnes n'a pas agi de façon répétée.\n",
    "b) Lorsque ces propos ou comportements sont imposés à une même victime, successivement, par plusieurs personnes qui, même en l'absence de concertation, savent que ces propos ou comportements caractérisent une répétition. \n",
    "https://e-enfance.org/loi-cyberharcelement/"
   ]
  },
  {
   "cell_type": "markdown",
   "id": "aa3ad786",
   "metadata": {},
   "source": [
    "<b>DM à faire: réaliser une affiche cocnernant le cyberhacèlement</b> <br> Travaux pratiques : Réalisez par groupe de deux ou trois personnes une affiche pour prévenir de cyberharcèlement. Faites un rappel à la loi en citant l’article 222-33-2-2 du code pénal."
   ]
  },
  {
   "cell_type": "markdown",
   "id": "c15e44ca",
   "metadata": {},
   "source": [
    "![img](https://bergson.paysdelaloire.e-lyco.fr/wp-content/uploads/sites/7/2022/11/tiny-SNT-8B.png)"
   ]
  },
  {
   "cell_type": "markdown",
   "id": "0cca3cce",
   "metadata": {},
   "source": [
    "<b>Comnent protéger sa vie privée :"
   ]
  },
  {
   "cell_type": "code",
   "execution_count": 3,
   "id": "f2b21672",
   "metadata": {},
   "outputs": [
    {
     "data": {
      "text/html": [
       "<iframe width=\"560\" height=\"315\" src=\"https://www.youtube.com/embed/U7xOBOnQ0G4?si=MsSKiHHCsgsP8Dwh\" title=\"YouTube video player\" frameborder=\"0\" allow=\"accelerometer; autoplay; clipboard-write; encrypted-media; gyroscope; picture-in-picture; web-share\" allowfullscreen></iframe>\n"
      ],
      "text/plain": [
       "<IPython.core.display.HTML object>"
      ]
     },
     "metadata": {},
     "output_type": "display_data"
    }
   ],
   "source": [
    "%%html\n",
    "<iframe width=\"560\" height=\"315\" src=\"https://www.youtube.com/embed/U7xOBOnQ0G4?si=MsSKiHHCsgsP8Dwh\" title=\"YouTube video player\" frameborder=\"0\" allow=\"accelerometer; autoplay; clipboard-write; encrypted-media; gyroscope; picture-in-picture; web-share\" allowfullscreen></iframe>"
   ]
  },
  {
   "cell_type": "markdown",
   "id": "99cd4ce7",
   "metadata": {},
   "source": [
    "<p>Cliquez sur les liens suivants et lisez le contenu :</p>\n",
    "<ul>\n",
    "<li><a href=\"https://www.cnil.fr/fr/nos-conseils-pour-mieux-maitriser-votre-reputation-en-ligne\" target=\"_blank\">CNIL - Nos conseils pour mieux maîtriser votre réputation en ligne</a></li>\n",
    "<li><a href=\"https://www.cnil.fr/fr/reagir-en-cas-de-harcelement-en-ligne\" target=\"_blank\">CNIL - Réagir en cas de harcèlement en ligne</a></li>\n",
    "<li><a href=\"http://webetab.ac-bordeaux.fr/college-dussarrat/fileadmin/0400729A/templates/PDF/harcelement/Harcelement_-Que_faire_-eleve_victime.pdf\" target=\"_blank\">Que faire si l'on est victime de cyberharcèlement ?</a></li>\n",
    "</ul>\n",
    "<p>Répondez aux questions suivantes :</p>"
   ]
  },
  {
   "cell_type": "raw",
   "id": "3f4dfb7d",
   "metadata": {},
   "source": [
    "Définir l'e-réputation :\n",
    "\n",
    "....."
   ]
  },
  {
   "cell_type": "raw",
   "id": "22c01e4b",
   "metadata": {},
   "source": [
    "Que faire si l'on découvre qu'un contenu non-souhaité est publié sur internet ?\n",
    "\n",
    "......"
   ]
  },
  {
   "cell_type": "raw",
   "id": "af5a97da",
   "metadata": {},
   "source": [
    "Donner des exemples de cyberharcèlement.\n",
    "\n",
    "......."
   ]
  },
  {
   "cell_type": "markdown",
   "id": "12b4bdf7",
   "metadata": {},
   "source": [
    "Recherchez sur <a href=\"https://google.fr/\" target=\"_blank\">Google</a> les définitions des termes suivants :</p>\n",
    "<ul>\n",
    "<li>Exclusion</li>\n",
    "<li>Flaming</li>\n",
    "<li>Sexting</li>\n",
    "<li>Dénigrement</li>\n",
    "<li>Usurpation d’identité</li>\n",
    "<li>Outing</li>\n",
    "<li>Happy Slapping</li>"
   ]
  },
  {
   "cell_type": "raw",
   "id": "c06c1562",
   "metadata": {},
   "source": [
    "\n",
    "    Exclusion :\n",
    "    Flaming :\n",
    "    Sexting :\n",
    "    Dénigrement :\n",
    "    Usurpation d’identité :\n",
    "    Outing :\n",
    "    Happy Slapping :"
   ]
  },
  {
   "cell_type": "raw",
   "id": "321c054d",
   "metadata": {},
   "source": [
    "Que faire si l'on est victime de cyberharcèlement ? À qui peut-on en parler ?\n",
    "......"
   ]
  },
  {
   "cell_type": "markdown",
   "id": "c7551234",
   "metadata": {},
   "source": [
    "En vous aidant de <a href=\"https://www.education.gouv.fr/non-au-harcelement/outils-de-sensibilisation-323028\" target=\"_blank\">cette page</a>, indiquez quelles sont les <strong>conséquences du cyberharcèlement</strong>, sur le <strong>harcelé</strong> et sur le <strong>harceleur</strong> ?"
   ]
  },
  {
   "cell_type": "raw",
   "id": "5f2cd479",
   "metadata": {},
   "source": [
    "quelles sont les conséquences du cyberharcèlement, sur le harcelé et sur le harceleur ? ......"
   ]
  },
  {
   "cell_type": "markdown",
   "id": "dd723067",
   "metadata": {},
   "source": [
    "Lisez <a href=\"https://www.cnil.fr/fr/comprendre-mes-droits/le-droit-leffacement-supprimer-vos-donnees-en-ligne\" target=\"_blank\">cette page</a> sur le <strong>droit à l'effacement</strong>.</p>\n",
    "<p>Qu'est-ce que ce droit ? À quoi sert-il ?</p>"
   ]
  },
  {
   "cell_type": "raw",
   "id": "36e2f8ce",
   "metadata": {},
   "source": [
    "Qu'est-ce que ce droit ? À quoi sert-il ?\n",
    "......"
   ]
  },
  {
   "cell_type": "markdown",
   "id": "44fcbf86",
   "metadata": {},
   "source": [
    "à rendre sur http://travail.nsi.free.fr"
   ]
  }
 ],
 "metadata": {
  "kernelspec": {
   "display_name": "Python 3 (ipykernel)",
   "language": "python",
   "name": "python3"
  },
  "language_info": {
   "codemirror_mode": {
    "name": "ipython",
    "version": 3
   },
   "file_extension": ".py",
   "mimetype": "text/x-python",
   "name": "python",
   "nbconvert_exporter": "python",
   "pygments_lexer": "ipython3",
   "version": "3.8.10"
  }
 },
 "nbformat": 4,
 "nbformat_minor": 5
}
