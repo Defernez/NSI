{
 "cells": [
  {
   "cell_type": "markdown",
   "id": "382e0699",
   "metadata": {},
   "source": [
    "<h1>Chapitre 4</h1>\n",
    "<h2><mark>SNT: Le WEB</mark></h2>"
   ]
  },
  {
   "cell_type": "code",
   "execution_count": null,
   "id": "08dc5be3",
   "metadata": {},
   "outputs": [],
   "source": [
    "# Nom :\n",
    "# Prénom :\n",
    "# à rendre sur travail.nsi.free.fr"
   ]
  },
  {
   "cell_type": "markdown",
   "id": "16ca59c3",
   "metadata": {},
   "source": [
    "http://info.cern.ch/hypertext/WWW/TheProject.html "
   ]
  },
  {
   "cell_type": "markdown",
   "id": "a8a0d52a",
   "metadata": {},
   "source": [
    "*************************************\n",
    "<h3>Capacités attendues</h3> <br>\n",
    "*************************************\n",
    "<br><b>Repères historiques :</b> <br>\n",
    "Connaître les étapes du développement du Web. <br>\n",
    "<br>\n",
    "<b>Notions juridiques : </b><br>\n",
    "Connaître certaines notions juridiques (licence, droit d’auteur,droit d’usage, valeur d’un bien). <br>\n",
    "<br>\n",
    "<b>Hypertexte: </b><br>\n",
    "Maîtriser les renvois d’un texte à différents contenus. <br>\n",
    "<br>\n",
    "<b>Langages HTML et CSS: </b><br>\n",
    "Distinguer ce qui relève du contenu d’une page et de son style de présentation. <br>\n",
    "Étudier et modifier une page HTML simple. <br>\n",
    "<br>\n",
    "<b>URL: </b><br>\n",
    "Décomposer l’URL d’une page. <br>\n",
    "Reconnaître les pages sécurisées. <br>\n",
    "<br>\n",
    "<b>Requête HTTP: </b><br>\n",
    "Décomposer le contenu d’une requête HTTP et identifier les paramètres passés. <br>\n",
    "<br>\n",
    "<b>Modèle client/serveur: </b><br>\n",
    "Inspecter le code d’une page hébergée par un serveur et distinguer ce qui est exécuté par le client et par le serveur. <br>\n",
    "<br>\n",
    "<b>Moteurs de recherche : principes et usages </b><br>\n",
    "Mener une analyse critique des résultats fournis par un moteur de recherche. <br>\n",
    "Comprendre les enjeux de la publication d’informations. <br>\n",
    "<br>\n",
    "<b>Paramètres de sécurité d’un navigateur:  </b><br>\n",
    "Maîtriser les réglages les plus importants concernant la gestion des cookies, la sécurité et la confidentialité d’un navigateur. <br>\n",
    "Sécuriser sa navigation en ligne et analyser les pages et fichiers. <br>"
   ]
  },
  {
   "cell_type": "markdown",
   "id": "ba73f6d9",
   "metadata": {},
   "source": [
    "![img](https://media.nouvelobs.com/referentiel/1200x630/16747250.jpg)"
   ]
  },
  {
   "cell_type": "markdown",
   "id": "b28ebbe7",
   "metadata": {},
   "source": [
    "Le \"World Wide Web\", plus communément appelé \"Web\" a été développé au CERN (Conseil Européen pour la Recherche Nucléaire) par le Britannique **Sir Timothy John Berners-Lee et le Belge Robert Cailliau** au début des années 90. À cette époque les principaux centres de recherche mondiaux étaient déjà connectés les uns aux autres, mais pour faciliter les échanges d'information Tim Berners-Lee met au point le système hypertexte qui permet, à partir d'un document, de consulter d'autres documents en cliquant sur des mots clés. Ces mots \"cliquables\" sont appelés hyperliens et sont souvent soulignés et en bleu. Ces hyperliens sont plutôt connus aujourd'hui sous le simple terme de \"liens\". "
   ]
  },
  {
   "cell_type": "markdown",
   "id": "938152e8",
   "metadata": {},
   "source": [
    "Cette première page web est toujours consultable à l'adresse suivante : http://info.cern.ch/hypertext/WWW/TheProject.html \n",
    "Tim Berners-Lee développe le premier navigateur web (logiciel permettant de lire des pages contenant des hypertextes), il l'appelle simplement \"WorldWideWeb\". Il faudra attendre 1993 et l'arrivée du navigateur web \"NCSA Mosaic\" pour que le web commence à devenir populaire en dehors du petit monde de la recherche. \n",
    "Techniquement le web se base sur trois choses : le protocole HTTP (HyperText Transfert Protocol), les URL (Uniform Resource Locator) et le langage de description HTML (HyperText Markup Language). "
   ]
  },
  {
   "cell_type": "markdown",
   "id": "29484d18",
   "metadata": {},
   "source": [
    "<b><u>Internet et le Web :</b></u><br>\n",
    "Une chose très importante à bien avoir à l'esprit : beaucoup de personnes confondent \"web\" et \"internet\". Même si le \"web\" \"s'appuie\" sur internet, les deux choses n'ont rien à voir puisqu' internet est un \"réseau de réseaux\" s'appuyant sur le protocole IP , alors que,  le web est la combinaison de trois technologies : HTTP, URL et HTML. Le web désigne un système donnant accès à un ensemble de données (page, image, son, vidéos) reliées par des liens et accessibles sur le réseau \"internet\".\n",
    "Le Web n’est pas Internet, mais c’est un service rendu par Internet.D'ailleurs on trouve autre chose que le \"web\" sur internet, par exemple, les e-mails avec le protocole SMTP (Simple Mail Transfert Protocol) et les transferts de fichiers avec le protocole FTP (File Transfert Protocol). "
   ]
  },
  {
   "cell_type": "markdown",
   "id": "b7deedd9",
   "metadata": {},
   "source": [
    "Source : https://pixees.fr/informatiquelycee/n_site/snt_web.html"
   ]
  },
  {
   "cell_type": "markdown",
   "id": "28af23fb",
   "metadata": {},
   "source": [
    "<b>Quelques dates :</b>\n",
    "\n",
    "• 1965 : invention et programmation du concept d’hypertexte par Ted Nelson <br>\n",
    "• 1989 : naissance du Web au CERN par Tim Berners Lee<br>\n",
    "• 1993 : mise dans le domaine public, disponibilité du premier navigateur Mosaic<br>\n",
    "• 1995 : mise à disposition de technologies pour le développement de site Web interactif<br>\n",
    "(langage JavaScript) et dynamique (langage PHP)<br>\n",
    "• 2001 : standardisation des pages grâce au DOM (Document Object Model)<br>\n",
    "• 2010 : mise à disposition de technologies pour le développement d’applications sur\n",
    "mobiles"
   ]
  },
  {
   "cell_type": "markdown",
   "id": "6707dd02",
   "metadata": {},
   "source": [
    "<b>Le protocole HTTP (HyperText Transfer Protocol) :</b> est le protocole le plus utilisé sur Internet depuis 1990. Le but du protocole HTTP est de permettre un transfert de fichiers (essentiellement au format HTML) localisés grâce à une chaîne de caractères appelée URL entre un navigateur (le client) et un serveur Web ."
   ]
  },
  {
   "cell_type": "code",
   "execution_count": null,
   "id": "4016d5ca",
   "metadata": {},
   "outputs": [],
   "source": [
    "import requests\n",
    "\n",
    "x = requests.get('https://www.lyceejeanperrin.fr/')\n",
    "print(x.status_code)"
   ]
  },
  {
   "cell_type": "markdown",
   "id": "439bfef7",
   "metadata": {},
   "source": [
    "Chercher sur internet la signification de ce code: https://fr.wikipedia.org/wiki/Liste_des_codes_HTTP"
   ]
  },
  {
   "cell_type": "code",
   "execution_count": null,
   "id": "b233b0e9",
   "metadata": {},
   "outputs": [],
   "source": [
    "# le code signifie que ...\n",
    "#\n",
    "#"
   ]
  },
  {
   "cell_type": "markdown",
   "id": "fd6a2736",
   "metadata": {},
   "source": [
    "Les codes de réponse sont ceux que vous voyez lorsque le navigateur n'arrive pas à vous fournir la page demandée. Le code de réponse est constitué de trois chiffres : le premier indique la classe de statut et les suivants la nature exacte de l'erreur."
   ]
  },
  {
   "cell_type": "markdown",
   "id": "0b379433",
   "metadata": {},
   "source": [
    "<b><i>Nous reviendrons plus en détail sur les requêtes un peu plus bas dasn ce TP"
   ]
  },
  {
   "cell_type": "markdown",
   "id": "8fe1ac33",
   "metadata": {},
   "source": [
    "<b>Un navigateur</b> est un logiciel qui joue le rôle de client Web. Il permet de demander à un serveur une page Web identifiée par son adresse URL. Les échanges entre le serveur et le client suivent le protocole HTTP. La réponse du serveur est une page écrite en langage HTML qui est interprétée puis affichée par le navigateur.\n",
    "Safari, Firefox, Edge, Chrome, Opera sont les navigateurs les plus connus."
   ]
  },
  {
   "cell_type": "markdown",
   "id": "4f301f1b",
   "metadata": {},
   "source": [
    "<h1>à faire :"
   ]
  },
  {
   "cell_type": "code",
   "execution_count": null,
   "id": "5142fe04",
   "metadata": {},
   "outputs": [],
   "source": [
    "# executer ce code\n",
    "import urllib\n",
    "page=urllib.request.urlopen('http://travail.nsi.free.fr/exemple_page/index.html')\n",
    "strpage=page.read()"
   ]
  },
  {
   "cell_type": "code",
   "execution_count": null,
   "id": "0290ff74",
   "metadata": {},
   "outputs": [],
   "source": [
    "# puis ce code\n",
    "print(strpage)"
   ]
  },
  {
   "cell_type": "markdown",
   "id": "8ed712e0",
   "metadata": {},
   "source": [
    "<b> ouvir cette page pour vérifier </b> <br>\n",
    "http://travail.nsi.free.fr/exemple_page/index.html"
   ]
  },
  {
   "cell_type": "code",
   "execution_count": null,
   "id": "b1d5e282",
   "metadata": {},
   "outputs": [],
   "source": [
    "# Répondre ici : Que remarquez vous ? \n",
    "\n",
    "# que contient strpage ?\n",
    "\n",
    "# Et que dire de la page : http://travail.nsi.free.fr/exemple_page/index.html"
   ]
  },
  {
   "cell_type": "markdown",
   "id": "24cefc4c",
   "metadata": {},
   "source": [
    "<b>Différences entre moteur de recherche et navigateur Web :</b><br>\n",
    "\n",
    "* Un navigateur ou browser est le logiciel permettant de naviguer sur le Web, réseau de documents reliés par des liens hypertextes. Il permet d’accéder directement à une page Web en saisissant\n",
    "son URL dans la barre d’adresse. <br>\n",
    "* Il n’existe pas de carte du Web. Un moteur de recherche est un logiciel s’exécutant sur un serveur Web permettant une recherche par mots clefs dans l’ensemble des pages Web qu’il a indexées. On interroge un moteur de recherche depuis son navigateur en remplissant un champ de formulaire contenu dans une page Web. Google search, Bing, Qwant sont les moteurs de recherche les plus connus. <b>\n",
    "\n",
    "\n",
    "\n",
    "\n",
    "<b>Principales tâches réalisées par un moteur de recherche :</b> (description simplifiée )<br>\n",
    "\n",
    "Phase de pré-calcul :<br>\n",
    "* Exploration : Des robots parcourent le Web en suivant les liens et repèrent les mots clefs.\n",
    "* Indexation : Les pages analysées sont rangées en fonctions des mots clefs contenus.\n",
    "* Classement de notoriété : Algorithme PageRank.\n",
    "    \n",
    "    \n",
    "Phase de recherche :<br>\n",
    "* Recherche par mots clefs : Le moteur recherche les pages indexées par les mots clefs de la requêtes.\n",
    "* Tri et classement : Plusieurs algorithmes interviennent dont fonctionnement reste secret (PageRank, filtrage par langue, localisation géographique, historique de recherche, terminal . . . )"
   ]
  },
  {
   "cell_type": "markdown",
   "id": "8d1e0ff7",
   "metadata": {},
   "source": [
    "<h1>PageRank"
   ]
  },
  {
   "cell_type": "markdown",
   "id": "46a3d62a",
   "metadata": {},
   "source": [
    "![img](https://raw.githubusercontent.com/Defernez/NSI/main/%3CSNT%3E/WEB/page_rank.jpg)"
   ]
  },
  {
   "cell_type": "markdown",
   "id": "89bc225d",
   "metadata": {},
   "source": [
    "<h1>à faire :"
   ]
  },
  {
   "cell_type": "markdown",
   "id": "499e7b87",
   "metadata": {},
   "source": [
    "<b>Exécutez le code 5 fois et reportez vos résultats dans le tableau"
   ]
  },
  {
   "cell_type": "code",
   "execution_count": null,
   "id": "9e20854d",
   "metadata": {},
   "outputs": [],
   "source": [
    "depuisA = [\"B\", \"G\", \"C\", \"D\", \"F\"] # cette liste représente les liens depuis A\n",
    "depuisB = [\"G\", \"A\"] # depuis B\n",
    "depuisC = [\"A\", \"G\", \"E\"] # depuis C ... ect ...\n",
    "depuisD = [\"E\"]\n",
    "depuisE = [\"G\", \"D\"]\n",
    "depuisF = [\"A\"]\n",
    "depuisG = [\"C\", \"A\", \"B\"]\n",
    "\n",
    "statA=0 # statistiques de toutes les pages visitées\n",
    "statB=0\n",
    "statC=0\n",
    "statD=0\n",
    "statE=0\n",
    "statF=0\n",
    "statG=0\n",
    "statH=0\n",
    "\n",
    "from random import choice  # cela importe une fonction de choix aléatoire dans une liste\n",
    "\n",
    "\n",
    "page_actuelle = choice ([\"A\",\"B\",\"C\",\"D\",\"E\",\"F\",\"G\",\"H\"]) # la première page visitée\n",
    "\n",
    "page_rank = [] # la liste des visites\n",
    "page_rank.append(page_actuelle) # on ajoute la première page\n",
    "           \n",
    "for i in range(49):                                        # boucle de 49 visites\n",
    "           if page_actuelle == \"A\":                        # si la page est A\n",
    "                page_actuelle = choice(depuisA)            # on choisit une page au hasard\n",
    "                statA = statA + 1                          # on ajoute 1 au compteur\n",
    "           elif page_actuelle == \"B\":                      # même chose pour B\n",
    "                page_actuelle = choice(depuisB)\n",
    "                statB = statB + 1\n",
    "           elif page_actuelle == \"C\":\n",
    "                page_actuelle = choice(depuisC)            # idem pour C, D, E, F et G\n",
    "                statC = statC + 1\n",
    "           elif page_actuelle == \"D\":\n",
    "                page_actuelle = choice(depuisD)\n",
    "                statD = statD + 1\n",
    "           elif page_actuelle == \"E\":\n",
    "                page_actuelle = choice(depuisE)\n",
    "                statE = statE + 1\n",
    "           elif page_actuelle == \"F\":\n",
    "                page_actuelle = choice(depuisF)\n",
    "                statF = statF + 1\n",
    "           elif page_actuelle == \"G\":\n",
    "                page_actuelle = choice(depuisG)\n",
    "                statG = statG + 1\n",
    "           page_rank.append(page_actuelle)\n",
    "           \n",
    "print(page_rank)                                        # On affiche les stats\n",
    "print(\"stat A: \" , ((statA/50)*100) , \"%\")\n",
    "print(\"stat B: \" , ((statB/50)*100) , \"%\")\n",
    "print(\"stat C: \" , ((statC/50)*100) , \"%\")\n",
    "print(\"stat D: \" , ((statD/50)*100) , \"%\")\n",
    "print(\"stat E: \" , ((statE/50)*100) , \"%\")\n",
    "print(\"stat F: \" , ((statF/50)*100) , \"%\")\n",
    "print(\"stat G: \" , ((statG/50)*100) , \"%\")"
   ]
  },
  {
   "cell_type": "raw",
   "id": "7946985c",
   "metadata": {},
   "source": [
    "Tableau des résultats à compléter :\n",
    "         1ere fois  2nde fois   3eme fois   4eme fois   5eme fois   Total\n",
    "stat A:  \n",
    "stat B:  \n",
    "stat C:  \n",
    "stat D:  \n",
    "stat E:  \n",
    "stat F:  \n",
    "stat G:  "
   ]
  },
  {
   "cell_type": "markdown",
   "id": "08cbd641",
   "metadata": {},
   "source": [
    "<b>Maintenant, faites une simulation (50 fois) à l'aide d'un dé à 6 faces* pour parcourir les pages du graphe</b>\n",
    "<br>parcourez aléatoirement ces\n",
    "pages web, en notant bien le nombre de\n",
    "visites dans le tableau au dessous du code du dé"
   ]
  },
  {
   "cell_type": "code",
   "execution_count": null,
   "id": "0f083025",
   "metadata": {},
   "outputs": [],
   "source": [
    "###############################################\n",
    "####  Programme fenêtre dé à six faces   ######\n",
    "###############################################\n",
    "\n",
    "from tkinter import *\n",
    "from random import choice\n",
    " \n",
    "fen_principale = Tk()\n",
    " \n",
    " \n",
    "def lancer():  #fonction permettant le lancer aléatoire du dé\n",
    "    nombre = [1, 2, 3, 4, 5, 6]\n",
    "    variable = choice(nombre)\n",
    "    numero['text'] = \"Résultat : %s\" % variable\n",
    " \n",
    " \n",
    "de = Button(fen_principale, text=\"lancer le dé\", width=10, command=lancer)\n",
    "de.pack(padx=20, pady=20, side=\"left\")\n",
    " \n",
    "#ce que le dé affiche\n",
    "numero = Label(fen_principale, text=\"Résultat :  \", width=14)\n",
    "numero.pack(padx=20, pady=20, side=\"left\")\n",
    " \n",
    "fen_principale.mainloop()"
   ]
  },
  {
   "cell_type": "code",
   "execution_count": null,
   "id": "cbd330c7",
   "metadata": {},
   "outputs": [],
   "source": [
    "# Comment allez-vous faire pour parcourir le graphe ?\n",
    "# si le dé fait 6 et que vous avez 1, 2 et 3 possibilités ?\n",
    "#\n",
    "#"
   ]
  },
  {
   "cell_type": "raw",
   "id": "b398ee91",
   "metadata": {},
   "source": [
    "Tableau des résultats à compléter :\n",
    "stat A:  \n",
    "stat B:  \n",
    "stat C:  \n",
    "stat D:  \n",
    "stat E:  \n",
    "stat F:  \n",
    "stat G:"
   ]
  },
  {
   "cell_type": "code",
   "execution_count": null,
   "id": "14f9903e",
   "metadata": {},
   "outputs": [],
   "source": [
    "# On s’intéresse à l’affirmation : « Plus une page a de liens qui viennent vers elle,\n",
    "# plus son score PageRank est élevé. »\n",
    "# En comparant les pages A et G, cette affirmation vous semble-t-elle correcte ?\n",
    "#\n",
    "#\n",
    "# Celà se vérifie-t-il pour E ?\n",
    "#\n",
    "#\n",
    "# E et C ont le même nombre de lien, expliquer pourquoi ils n'obtiennent pas le même score ?\n",
    "#\n",
    "#"
   ]
  },
  {
   "cell_type": "markdown",
   "id": "df5b43f8",
   "metadata": {},
   "source": [
    "<h3>Rôle de l’algorithme PageRank de Google search :</h3><br>\n",
    "L’algorithme PageRank de Google search classe les pages par notoriété/popularité. C’est le principe d’un vote démocratique qui se mord la queue : chaque page transmet une fraction de son\n",
    "PageRank vers les pages liées par ses liens sortants et reçoit des fractions de PageRank par ses liens entrants. \n",
    "\n",
    "Le PageRank est déterminé de façon itérative : un surfeur aléatoire parcourt les\n",
    "pages de lien en lien un certain nombre de fois. Le nombre de passages par page au bout d’un grand nombre d’itérations permet d’estimer le PageRank. \n",
    "\n",
    "Si une page n’a pas de lien sortant et 15\n",
    "fois sur 100 environ, le surfeur se téléporte aléatoirement vers une autre page du Web ce qui l’empêche de rester bloqué ou de tourner en rond.\n"
   ]
  },
  {
   "cell_type": "markdown",
   "id": "b649e7b9",
   "metadata": {},
   "source": [
    "![img](https://1.bp.blogspot.com/-rGm_RGcMCyk/T7Mfmx5CRYI/AAAAAAAAJgA/WGhcbX0k-WU/s1600/PageRanks-Example.svg.png)"
   ]
  },
  {
   "cell_type": "markdown",
   "id": "1bd1917f",
   "metadata": {},
   "source": [
    "<h3>Le référencement naturel</h3>, également appelé \"SEO\" (pour \"Search Engine Optimization\" en anglais), est l'ensemble des techniques qui visent à améliorer la visibilité et le classement d'un site internet dans les résultats de recherche de moteurs de recherche, comme Google. Le but du référencement naturel est d'optimiser un site internet afin qu'il soit considéré comme pertinent par les moteurs de recherche pour des requêtes précises, et ainsi être placé le plus haut possible dans les résultats de recherche.\n",
    "\n",
    "Il existe de nombreux éléments à prendre en compte pour améliorer le référencement naturel d'un site internet, tels que :\n",
    "\n",
    "    La qualité et la pertinence du contenu du site\n",
    "    La structure et l'accessibilité du site\n",
    "    La présence de liens externes pointant vers le site (les \"backlinks\")\n",
    "    La prise en compte de la sémantique et de la présence de mots-clés dans les pages du site\n",
    "\n",
    "Le référencement naturel est un enjeu important pour les entreprises et les organisations, car il peut avoir un impact considérable sur la visibilité et le trafic d'un site internet. Il est donc recommandé de consacrer du temps et des efforts pour améliorer le référencement naturel de son site, de manière à être bien placé dans les résultats de recherche et à attirer un maximum de visiteurs."
   ]
  },
  {
   "cell_type": "markdown",
   "id": "53e6cacb",
   "metadata": {},
   "source": [
    "<h1>La communication entre le navigateur et le serveur "
   ]
  },
  {
   "cell_type": "markdown",
   "id": "4d7d387f",
   "metadata": {},
   "source": [
    "![img](https://upload.wikimedia.org/wikipedia/commons/d/db/Mod%C3%A8le-client-serveur.svg)"
   ]
  },
  {
   "cell_type": "markdown",
   "id": "eb929345",
   "metadata": {},
   "source": [
    "La communication entre le navigateur et le serveur se fait en deux temps :<br>\n",
    "   * Le navigateur effectue une requête HTTP\n",
    "   * Le serveur traite la requête puis envoie une réponse HTTP <br>\n",
    "Le navigateur permet de traduire toutes les informations contenues dans les fichiers html, css et js ou php, en un rendu qui s'affiche à l'écran avec lequel l'utilisateur peut interagir. Pour afficher le code source d'une page, il suffit d'utiliser la combinaison CTRL+U. <br>\n",
    "*https://developer.mozilla.org/fr/docs/Web/HTTP/Basics_of_HTTP/MIME_types/Common_types\n",
    "(exemples : .html .css .js .avi .mp3 .pdf .xls .ppt .zip etc.)"
   ]
  },
  {
   "cell_type": "markdown",
   "id": "3ace8582",
   "metadata": {},
   "source": [
    "![img](https://raw.githubusercontent.com/Defernez/NSI/main/%3CSNT%3E/WEB/client_serveur_http.png)"
   ]
  },
  {
   "cell_type": "markdown",
   "id": "75e89ed7",
   "metadata": {},
   "source": [
    "Un serveur web traite les requêtes HTTP entrantes. \n",
    "Quelques exemples de serveurs web <br>\n",
    "\n",
    "* Serveur HTTP : envoie des fichiers de site web \n",
    "* Serveur FTP : permet de charger des fichiers \n",
    "* Serveur E-mail : permet l'envoi et la réception d'e-mails \n",
    "* Serveur de base de données : enregistre des informations définies dans des champs, essentielles à la bonne marche d'un site web."
   ]
  },
  {
   "cell_type": "markdown",
   "id": "cd1c5212",
   "metadata": {},
   "source": [
    "<h1>Une requête HTTP</h1> <b>est un ensemble de lignes envoyé au serveur par le navigateur. </b><br>\n",
    "Elle comprend :<br>\n",
    "\n",
    "* Une ligne de requête: c'est une ligne précisant le type de document demandé, la méthode qui doit être appliquée, et la version du protocole utilisée. La ligne comprend trois éléments devant être séparés par un espace :\n",
    "    * La méthode\n",
    "    * L'URL\n",
    "\n",
    "    * La version du protocole utilisé par le client (exemple : HTTP/1.0)\n",
    "\n",
    "\n",
    "* Les champs d'en-tête de la requête: il s'agit d'un ensemble de lignes facultatives permettant de donner des informations supplémentaires sur la requête et/ou le client (Navigateur, système d'exploitation, ...). Chacune de ces lignes est composée d'un nom qualifiant le type d'en-tête, suivi de deux points (:) et de la valeur de l'en-tête\n",
    "    Le corps de la requête: c'est un ensemble de lignes optionnelles devant être séparées des lignes précédentes par une ligne vide et permettant par exemple un envoi de données par une commande POST lors de l'envoi de données au serveur par un formulaire"
   ]
  },
  {
   "cell_type": "raw",
   "id": "663f83f5",
   "metadata": {},
   "source": [
    "METHODE URL VERSION<crlf>     \n",
    "EN-TETE : Valeur<crlf>     \n",
    ".    \n",
    ".    \n",
    ".    \n",
    "EN-TETE : Valeur<crlf>     \n",
    "Ligne vide<crlf>     \n",
    "CORPS DE LA REQUETE"
   ]
  },
  {
   "cell_type": "markdown",
   "id": "c7158a4f",
   "metadata": {},
   "source": [
    "<b><u><i>Voici donc un exemple de requête HTTP :"
   ]
  },
  {
   "cell_type": "raw",
   "id": "98cc1581",
   "metadata": {},
   "source": [
    "GET [/ https://www.commentcamarche.net/] HTTP/1.1    \n",
    "Accept : text/html    \n",
    "If-Modified-Since : Saturday, 15-January-2020 14:37:11 GMT    \n",
    "User-Agent : Mozilla/4.0 (compatible; MSIE 5.0; Windows 95)"
   ]
  },
  {
   "cell_type": "markdown",
   "id": "58b6a55c",
   "metadata": {},
   "source": [
    "Voici les différents éléments de cette requête HTTP :\n",
    "\n",
    "    La méthode HTTP \"GET\" indique au serveur que nous souhaitons récupérer une ressource.\n",
    "\n",
    "    L'URL \"/\" indique que nous souhaitons récupérer la page d'accueil du site.\n",
    "\n",
    "    La version du protocole HTTP utilisée est la 1.1.\n",
    "\n",
    "    L'en-tête \"Host\" indique le nom de domaine du site que nous souhaitons contacter.\n",
    "\n",
    "    L'en-tête \"User-Agent\" donne des informations sur le navigateur ou l'application qui envoie la requête.\n",
    "\n",
    "    L'en-tête \"Accept\" indique les types de contenu que nous acceptons de recevoir en réponse à notre requête.\n",
    "\n",
    "    L'en-tête \"Accept-Language\" indique la langue préférée du navigateur ou de l'application qui envoie la requête.\n",
    "\n",
    "Il existe de nombreux autres éléments qui peuvent être inclus dans une requête HTTP, selon les besoins de l'application qui la génère et selon les exigences du serveur qui la traite."
   ]
  },
  {
   "cell_type": "markdown",
   "id": "67a098c4",
   "metadata": {},
   "source": [
    "<h1>à faire :"
   ]
  },
  {
   "cell_type": "markdown",
   "id": "da359c29",
   "metadata": {},
   "source": [
    "<b>Reconstituez la requête à partir des données retournées par le serveur du site www.lyceejeanperrin.fr"
   ]
  },
  {
   "cell_type": "markdown",
   "id": "76e8e240",
   "metadata": {},
   "source": [
    "Exécutez le code ci-dessous :"
   ]
  },
  {
   "cell_type": "code",
   "execution_count": null,
   "id": "80e4dbff",
   "metadata": {},
   "outputs": [],
   "source": [
    "import requests\n",
    "\n",
    "x = requests.get('http://travail.nsi.free.fr/')\n",
    "print(x.headers)\n",
    "print(\"code status:\", x.status_code)"
   ]
  },
  {
   "cell_type": "markdown",
   "id": "dddec985",
   "metadata": {},
   "source": [
    "<b>Compléter la réponse HTTP ci-dessous :"
   ]
  },
  {
   "cell_type": "code",
   "execution_count": null,
   "id": "7bb2398e",
   "metadata": {},
   "outputs": [],
   "source": [
    "HTTP/1.1 ??? OK    \n",
    "Date : ????????????? GMT Server : ???????????   \n",
    "Content-Type : text/HTML    \n",
    "Content-Length : ???   \n",
    "Last-Modified : ???????? GMT"
   ]
  },
  {
   "cell_type": "markdown",
   "id": "e3284131",
   "metadata": {},
   "source": [
    "Une réponse HTTP est un ensemble de lignes envoyées au navigateur par le serveur. Elle comprend :\n",
    ">Une ligne de statut: c'est une ligne précisant la version du protocole utilisé et l'état du traitement de la requête à l'aide d'un code et d'un texte explicatif. La ligne comprend trois éléments devant être séparés par un espace :\n",
    "\n",
    "\t- La version du protocole utilisé\n",
    "\n",
    "\t- Le code de statut\n",
    "\n",
    "\t- La signification du code\n",
    "\n",
    "\n",
    ">Les champs d'en-tête de la réponse: il s'agit d'un ensemble de lignes facultatives permettant de donner des informations supplémentaires sur la réponse et/ou le serveur. Chacune de ces lignes est composée d'un nom qualifiant le type d'en-tête, suivi de deux points (:) et de la valeur de l'en-tête\n",
    ">Le corps de la réponse: il contient le document demandé\n",
    "\n",
    "\n",
    "\n",
    "Une réponse HTTP a donc la syntaxe suivante (<crlf> signifie retour chariot ou saut de ligne) :"
   ]
  },
  {
   "cell_type": "raw",
   "id": "0debf5d1",
   "metadata": {},
   "source": [
    "VERSION-HTTP CODE EXPLICATION<crlf>    \n",
    "EN-TETE : Valeur<crlf>    \n",
    ".    \n",
    ".    \n",
    ".    \n",
    "EN-TETE : Valeur<crlf>     \n",
    "Ligne vide<crlf>     \n",
    "CORPS DE LA REPONSE"
   ]
  },
  {
   "cell_type": "markdown",
   "id": "076578fa",
   "metadata": {},
   "source": [
    "Voici  un exemple de réponse HTTP :"
   ]
  },
  {
   "cell_type": "raw",
   "id": "2e1f31aa",
   "metadata": {},
   "source": [
    "HTTP/1.1 200 OK    \n",
    "Date : Sat, 15 Jan 2019 14:37:12 GMT Server : Microsoft-IIS/2.0    \n",
    "Content-Type : text/HTML    \n",
    "Content-Length : 1245    \n",
    "Last-Modified : Fri, 14 Jan 2019 08:25:13 GMT"
   ]
  },
  {
   "cell_type": "markdown",
   "id": "1f26a8aa",
   "metadata": {},
   "source": [
    "Les codes de réponse sont ceux que vous voyez lorsque le navigateur n'arrive pas à vous fournir la page demandée. Le code de réponse est constitué de trois chiffres : le premier indique la classe de statut et les suivants la nature exacte de l'erreur."
   ]
  },
  {
   "cell_type": "markdown",
   "id": "94f9318f",
   "metadata": {},
   "source": [
    "Pour voir les requêtes, il faut appuyer sur la touche F12, puis choisir l’onglet Réseau. Après que le site web a été « refresh ». Il faut cliquez sur n'importe quel adresse de gauche de « Developer Tools ». Et vous pouvez voir donc des informations de « Http Headers ». "
   ]
  },
  {
   "cell_type": "markdown",
   "id": "ea3a2ed0",
   "metadata": {},
   "source": [
    "![img](https://raw.githubusercontent.com/Defernez/NSI/main/%3CSNT%3E/WEB/requetteHTTPf12.png)"
   ]
  },
  {
   "cell_type": "markdown",
   "id": "cb428a6a",
   "metadata": {},
   "source": [
    "<b>Sécuriser sa navigation avec HTTPS :</b>\n",
    "\n",
    "    Lorsque vous naviguez sur internet, il est important de sécuriser votre connexion pour protéger vos données et votre vie privée. L'un des moyens de le faire est d'utiliser le protocole HTTPS (HyperText Transfer Protocol Secure), qui est une version sécurisée du protocole HTTP classique.\n",
    "    \n",
    "    Le HTTPS s'appuie sur le protocole SSL (Secure Sockets Layer) ou TLS (Transport Layer Security) pour chiffrer les données transmises entre votre navigateur et le serveur web. Cela signifie que, même si quelqu'un intercepte les données transmises entre votre navigateur et le serveur, il ne pourra pas les lire ou les utiliser de quelque manière que ce soit.\n",
    "    \n",
    "    Voici comment vous pouvez sécuriser votre navigation en utilisant le HTTPS :\n",
    "    • Lorsque vous accédez à un site web, assurez-vous que l'adresse commence par \"https://\" et non \"http://\".\n",
    "    • Vérifiez que le cadenas verrouillé est affiché dans la barre d'adresse de votre navigateur. Cela indique que la connexion est sécurisée par SSL ou TLS.\n",
    "    • Ne saisissez jamais de données sensibles (comme des mots de passe ou des numéros de carte de crédit) sur un site qui n'utilise pas le HTTPS.\n",
    "    \n",
    "    \n",
    "    En utilisant le HTTPS, vous pouvez naviguer en toute sécurité et protéger vos données contre les interceptions et les attaques."
   ]
  },
  {
   "cell_type": "markdown",
   "id": "c4f63a32",
   "metadata": {},
   "source": [
    "![img](https://www.servired.cl/wp-content/uploads/2019/06/1-1-768x419.jpg)"
   ]
  },
  {
   "cell_type": "markdown",
   "id": "a216c271",
   "metadata": {},
   "source": [
    "On parle de différents Web. En effet, il y a celui qui est visible (surface Web), celui qui est caché ou peu visible (deep Web) et celui qui est secret voire illégal (dark Web) \n"
   ]
  },
  {
   "cell_type": "markdown",
   "id": "c1477912",
   "metadata": {},
   "source": [
    "![img](https://upload.wikimedia.org/wikipedia/commons/thumb/1/1f/Deepweb_graphical_representation.svg/800px-Deepweb_graphical_representation.svg.png?20180417064709)"
   ]
  },
  {
   "cell_type": "markdown",
   "id": "1b91d831",
   "metadata": {},
   "source": [
    "Il y a aussi différentes natures du Web. Initialement, le Web est documentaire (Web 1.0), mais il est aussi un espace participatif (Web 2.0) via les réseaux sociaux notamment. Il est aussi qualifié de sémantique (Web 3.0) où les ressources sont structurées et traitables par des algorithmes. Enfin, on parle aussi de Web 4.0 avec les objets connectés.\n"
   ]
  },
  {
   "cell_type": "markdown",
   "id": "92b06d8c",
   "metadata": {},
   "source": [
    "<b>Les langages du web :</b><br>\n",
    "<i>Côté client :</i> Tous les navigateurs(clients) utilisent trois langages:\n",
    "\n",
    "    > html: HyperText Markup Language: Il contient le texte de la page et décrit ce texte afin qu'il puisse être compris par des programmes informatiques(navigateur web ou robots des moteurs de recherche). C’est le langage standard décrypté par un navigateur web et sans ce langage, il serait impossible d'afficher l'information demandée par le client via la requête HTTP.\n",
    "\n",
    "\n",
    "    > css: Cascading StyleSheet: permet de mettre en forme la page web en modifiant les couleurs, polices…\n",
    "\n",
    "\n",
    "    > js: javaScript:permet de rendre les pages web interactives, pour par exemple récupérer les données d'un utilisateur entrées dans un formulaire.\n",
    "\n",
    "\n",
    "\n",
    "Leurs syntaxes et leur possibilités ne cessent d'augmenter au fur et à mesure que nos usages d'internet évoluent.\n",
    "\n",
    "\n",
    "\n",
    "<i>Côté serveur :</i> Le navigateur du client peut envoyer des informations particulières au serveur par le biais du protocole HTTP. Le serveur peut adapter la page envoyée à ses paramètres grâce à un langage de programmation côté serveur. PHP(hypertext processor), Python, Ruby, NodeJS\n",
    "\n",
    "Le HTML (« HyperText Mark-Up Language ») est un langage dit de « marquage » (de « structuration » ou de « balisage ») dont le rôle est de formaliser l'écriture d'un document avec des balises de formatage. Les balises permettent d'indiquer la façon dont doit être présenté le document et les liens qu'il établit avec d'autres documents.Il permet notamment la lecture de documents sur Internet à partir de machines différentes, grâce au protocole HTTP, permettant d’accéder via le réseau à des documents repérés par une adresse unique, appelée URL.Le langage HTML est un standard, c'est-à-dire qu'il s'agit de recommandations publiées par un consortium international : le World Wide Web Consortium (W3C).Il arrive parfois que certains éditeurs de logiciels ajoutent des instructions HTML propriétaires, c'est-à-dire ne faisant pas partie des spécifications du W3C. Ainsi des pages web contenant ce type d'instruction pourront être parfaitement affichées sur un navigateur et seront totalement ou en partie illisibles sur les autres, d'où la nécessité de créer des pages web respectant les recommandations du W3C afin de permettre leur consultation par le plus grand nombre."
   ]
  },
  {
   "cell_type": "markdown",
   "id": "67ae5aed",
   "metadata": {},
   "source": [
    "<b><i>==> Voir votre projet de site Web"
   ]
  },
  {
   "cell_type": "markdown",
   "id": "3ff69b09",
   "metadata": {},
   "source": [
    "<h1>Les URL :</h1> \n",
    "\n",
    "Les documents sont localisés grâce à une URL (Uniform Resource Locator) et sont accessibles grâce au protocole HTTP (Hypertext Transfer Protocol) ou HTTPS, version plus sécurisée. Il suffit de saisir une URL dans la barre d’adresse de notre navigateur pour accéder au document.\n",
    "Les URL peuvent être de la forme suivante : https://sous-domaine.domaine.tld/dossier/fichier.html"
   ]
  },
  {
   "cell_type": "markdown",
   "id": "188c1dc2",
   "metadata": {},
   "source": [
    "![img](https://monlyceenumerique.fr/snt_seconde/web/img/explication_url.png)"
   ]
  },
  {
   "cell_type": "markdown",
   "id": "d8314218",
   "metadata": {},
   "source": [
    "<h1>Les cookies:"
   ]
  },
  {
   "cell_type": "markdown",
   "id": "cd1fce28",
   "metadata": {},
   "source": [
    "Un cookie : est défini par le protocole de communication HTTP comme étant une suite d'informations envoyée par un serveur HTTP à un client HTTP, afin que ce dernier retourne lors de chaque interrogation du même serveur HTTP sous certaines conditions.C'est un petit fichier texte qui vient se cacher dans notre disque dur. \n",
    "Il fut inventé dans les années 1990 par Lou Montulli. Il est un des fondateurs de Netscape à l’origine des cookies. Il souhaitait que les ordinateurs puissent enregistrer les actions des utilisateurs sur les sites. L'invention portait tout d'abord le nom de \"objet d'état client persistant\" puis fut vite remplacé par \"jazz cookies\" pour enfin s'appeler \"cookie\". \n",
    "Les cookies ont de nombreuses utilisations autre que pour vous proposer des pubs. En effet, ils peuvent vous permettre d'enregistrer votre mot de passe si votre navigateur ne vous le propose pas avant. Ils vous aide également à mémoriser les actions que vous avez pu faire dessus c'est-à-dire les paramètres tels que la langue ou encore l'affichage. Les cookies vont pouvoir informer l'éditeur du site sur le comportement des utilisateurs (combien de temps ils ont passé sur le site, quelles pages ils ont visitées...). De plus ils vont vous permettre de transférer plus facilement les pages sur différents réseaux sociaux. \n",
    "Enfin, ceux-ci peuvent vous tracer, donc enregistrer de nombreuses informations sur vous. Ce qui reste très contestés puisque c'est considéré comme une violation de propriété et régulé par la RGPD depuis mai 2018. Ce qui montre une certaine faiblesse de la sécurité sur internet. \n",
    "Catégories des cookies :\n",
    "\n",
    "\t> Cookies strictement nécessaires\n",
    "    \t> Cookies de performance\n",
    "    \t> Cookies de fonctionnalité\n",
    "    \t> Cookies de ciblage marketing\n",
    "    \t> Autres cookies ou inconnus\n",
    "\n",
    "Les trois premières catégories sont nécessaires ou servent à optimiser votre expérience . La vaste majorité des cookies installés sur votre ordinateur pendant la navigation appartiennent à des tiers et servent à vous identifier en tant que consommateur, ce qui permet ensuite de mettre en place un marketing plus précis et plus ciblé lors de vos futures navigations sur le web.\n",
    "Durée d'un cookie\n",
    "\n",
    "\n",
    "Chaque cookie a un nom et une date d’expiration. Lorsqu’un site web envoie un cookie, il demande à votre navigateur de conserver ce cookie jusqu’à une certaine date et heure, tel qu’écrit dans le fichier texte. La loi exige que les cookies soient supprimés à des périodes régulières. "
   ]
  },
  {
   "cell_type": "markdown",
   "id": "b87c4671",
   "metadata": {},
   "source": [
    "![img](https://martinkihn.files.wordpress.com/2019/10/montulli.jpg)"
   ]
  },
  {
   "cell_type": "markdown",
   "id": "e4e8345f",
   "metadata": {},
   "source": [
    "<h1>à faire :"
   ]
  },
  {
   "cell_type": "code",
   "execution_count": null,
   "id": "546b4998",
   "metadata": {},
   "outputs": [],
   "source": [
    "import requests\n",
    "\n",
    "url = 'https://www.lyceejeanperrin.fr/'\n",
    "\n",
    "x = requests.get(url)\n",
    "\n",
    "print(x.cookies)"
   ]
  },
  {
   "cell_type": "code",
   "execution_count": null,
   "id": "0ca4d9fb",
   "metadata": {},
   "outputs": [],
   "source": [
    "import requests\n",
    "\n",
    "url = 'https://www.laposte.net/'\n",
    "\n",
    "x = requests.get(url)\n",
    "\n",
    "print(x.cookies)"
   ]
  },
  {
   "cell_type": "code",
   "execution_count": null,
   "id": "df9e8d9b",
   "metadata": {},
   "outputs": [],
   "source": [
    "# La page d'acceuil du site du Lycée contient-il des cookies ?\n",
    "# Et celle de la poste ?"
   ]
  },
  {
   "cell_type": "markdown",
   "id": "66b30958",
   "metadata": {},
   "source": [
    "En France, la CNIL (Commission Nationale de l'Informatique et des Libertés) recommande que les cookies ait une durée de vie de maximum 13 mois (soit 390 jours) . Mais certains cookies se conservent bien plus longtemps. Dans Google AdWords , par exemple, un cookie peut durer jusqu’à 540 jours. Il existe même des exemples de cookies programmés pour durer plus de 7000 ans ! "
   ]
  },
  {
   "cell_type": "markdown",
   "id": "a81030f0",
   "metadata": {},
   "source": [
    "Dans le menu latéral de Mozilla Firefox, sélectionner le menu Modules complémentaires et installer l'extension Disconnect. Cette extension (ou plug-in ou add-on en anglais) du navigateur permet de visualiser et filtrer les tentatives de dépôts de cookies et autres traceurs par des sites tiers lorsqu'on accède à une page web."
   ]
  },
  {
   "cell_type": "markdown",
   "id": "027e3f5c",
   "metadata": {},
   "source": [
    "<h1>Quelques métiers :</h1>\n",
    "\n",
    "**Développeur Frontend :** développe sur les langages frontend utilisés par les clients (HTML, CSS, JavaScript). On parle aussi d’intégrateur web ou de développeur·se frontend junior pour désigner celles et ceux qui débutent et ne maîtrisent que HTML et CSS.L’intégrateur a pour mission de développer en HTML5 et CSS3… comme le dév front, mais il s’occupe plus particulièrement de faire en sorte que la page web réalisée corresponde au rendu attendu d’après la maquette qui lui a été fournie.\n",
    "\n",
    "**Développeur Backend :** développe sur des langages serveur (backend), comme PHP, Java, Python… Effectue aussi des requêtes à la base de données en SQL.\n",
    "\n",
    "**QA Manager :** teste les pages créées par les développeurs frontend et backend pour vérifier que tout fonctionne comme prévu.\n",
    "\n",
    "**SysAdmin :** s’occupe des serveurs (installation, configuration des logiciels, etc.). Un sysadmin fournit en somme l’environnement de travail des développeurs. Ce n’est pas vraiment un développeur, même s’il doit connaître et comprendre leur travail dans les grandes lignes.\n",
    "\n",
    "**Développeur Fullstack :** il s’agit généralement d’une personne qui sait aussi bien travailler sur du frontend que sur du backend… voire qui peut aussi jouer le rôle de sysadmin ! Ils sont assez rares, car les technologies évoluant vite, il est difficile d’être expert en tout."
   ]
  },
  {
   "cell_type": "markdown",
   "id": "883661b3",
   "metadata": {},
   "source": [
    "<h1>Vocabulaire</h1>\n",
    "<b><u>Web:</b></u> ensemble des pages accessible par le réseau internet. <br>\n",
    "<b><u>HTTP:</b></u> protocole de transmission de pages Web en clair, le HTTPS est sa version cryptée.<br>\n",
    "<b><u>Client:</b></u> logiciel demandant des données à un serveur<br>\n",
    "<b><u>Serveur:</b></u> ordinateur ou logiciel à l'écoute des requêtes de ses clients afin de fournir des données<br>\n",
    "<b><u>Lien hypertexte:</b></u> lien permettant d'aller d'une page à une autre.<br>\n",
    "<b><u>Indexation:</b></u> base de données réalisée à partir des mots clés des pages web.<br>\n",
    "<b><u>Navigateur:</b></u> logiciel permettant d'afficher les page Web.<br>\n",
    "<b><u>Moteur de recherche:</b></u> programme permettant de trouver un ressource comme les pages Web, les vidéos, les images ect...<br>\n",
    "<b><u>URL:</b></u> Uniform Resource Locator, adresse d'une page Web<br>\n",
    "<b><u>HTML:</b></u> HyperText Markup Language, c'est le langage de balisage des page web.<br>\n",
    "<b><u>CSS:</b></u> Cascading Style Sheets, feuille de style pour page html<br>"
   ]
  },
  {
   "cell_type": "markdown",
   "id": "667117ae",
   "metadata": {},
   "source": [
    "![img](https://bergson.paysdelaloire.e-lyco.fr/wp-content/uploads/sites/7/2021/01/NSI-et-autres-sp%C3%A9.jpg)"
   ]
  },
  {
   "cell_type": "markdown",
   "id": "27682f0e",
   "metadata": {},
   "source": [
    "à déposer sur le site: http://travail.nsi.free.fr"
   ]
  }
 ],
 "metadata": {
  "kernelspec": {
   "display_name": "Python 3 (ipykernel)",
   "language": "python",
   "name": "python3"
  },
  "language_info": {
   "codemirror_mode": {
    "name": "ipython",
    "version": 3
   },
   "file_extension": ".py",
   "mimetype": "text/x-python",
   "name": "python",
   "nbconvert_exporter": "python",
   "pygments_lexer": "ipython3",
   "version": "3.8.10"
  }
 },
 "nbformat": 4,
 "nbformat_minor": 5
}
