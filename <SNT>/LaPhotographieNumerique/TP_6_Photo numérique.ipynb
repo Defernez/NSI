{
 "cells": [
  {
   "cell_type": "markdown",
   "id": "61f05af6",
   "metadata": {},
   "source": [
    "<h1>TP_Photo numérique"
   ]
  },
  {
   "cell_type": "raw",
   "id": "1eb602a7",
   "metadata": {},
   "source": [
    "/!\\ Attention aux spécialistes du rendu des travaux pratiques réalisés par d'autres élèves : je vous rappelle qu'il est impératif de soumettre des images différentes pour chaque TP. En cas de détection de TP identiques, je peux retrouver le propriétaire initial grâce à la signature hexadécimale du fichier. Dans tous les cas, des points seront retirés en cas de non-respect de cette consigne."
   ]
  },
  {
   "cell_type": "raw",
   "id": "2419d198",
   "metadata": {},
   "source": [
    "nom :\n",
    "Prénom :"
   ]
  },
  {
   "cell_type": "markdown",
   "id": "d48e9f1b",
   "metadata": {},
   "source": [
    "<p>La bibliothèque PIL (Python Imaging Library), souvent appelée simplement \"Pillow\" en Python, est une bibliothèque logicielle très populaire utilisée pour manipuler et traiter des images en Python. Voici quelques points clés à retenir sur PIL :</p><ul><li><p><strong>Fonctionnalités de base</strong> : PIL offre une large gamme de fonctionnalités pour ouvrir, manipuler, et enregistrer différents types d'images, y compris les formats les plus courants comme JPEG, PNG, BMP, GIF, etc.</p></li><li><p><strong>Traitement d'images</strong> : Avec PIL, vous pouvez effectuer des opérations telles que le redimensionnement, la rotation, le recadrage, le changement de format, la modification des couleurs, et bien d'autres encore sur les images.</p></li><li><p><strong>Dessin sur les images</strong> : Vous pouvez dessiner sur les images en créant des objets <code>ImageDraw</code> et en utilisant diverses méthodes pour tracer des lignes, des rectangles, des cercles, du texte, etc.</p></li><li><p><strong>Traitement de données</strong> : PIL permet également de traiter les données des images pixel par pixel, ce qui est utile pour les opérations plus avancées nécessitant un accès direct aux données de l'image.</p></li><li><p><strong>Facile à utiliser</strong> : PIL est une bibliothèque conviviale et bien documentée, ce qui la rend facile à utiliser même pour les débutants en traitement d'images.</p></li><li><p><strong>Compatibilité</strong> : Pillow est une fourchette (fork) de la bibliothèque PIL qui est activement développée et maintenue. Elle est compatible avec les versions récentes de Python et offre de nombreuses améliorations par rapport à PIL.</p>"
   ]
  },
  {
   "cell_type": "markdown",
   "id": "b2580247",
   "metadata": {},
   "source": [
    "![a500](https://raw.githubusercontent.com/Defernez/NSI/main/%3CSNT%3E/LaPhotographieNumerique/A500.png)"
   ]
  },
  {
   "cell_type": "markdown",
   "id": "b53cbc86",
   "metadata": {},
   "source": [
    "![img](https://raw.githubusercontent.com/Defernez/NSI/main/%3CSNT%3E/LaPhotographieNumerique/zen.jpg)"
   ]
  },
  {
   "cell_type": "markdown",
   "id": "5de4009c",
   "metadata": {},
   "source": [
    "<b>Dessiner avec PIL"
   ]
  },
  {
   "cell_type": "code",
   "execution_count": 2,
   "id": "6aa1bdf7",
   "metadata": {},
   "outputs": [],
   "source": [
    "from PIL import Image\n",
    "\n",
    "# Définir la taille de l'image et la couleur de fond\n",
    "width = 100 # Largeur\n",
    "height = 100 # Hauteur\n",
    "background_color = (255, 255, 255)  # Un triplet de valeurs (255, 255, 255) représente la couleur blanche\n",
    "\n",
    "# Créer une nouvelle image avec le mode RGB et la couleur de fond spécifiée\n",
    "image = Image.new(\"RGB\", (width, height), background_color)\n",
    "\n",
    "# Définir les couleurs des pixels\n",
    "pixels = [\n",
    "    (255, 0, 0),    # Rouge\n",
    "    (0, 255, 0),    # Vert\n",
    "    (0, 0, 255),    # Bleu\n",
    "    (255, 255, 0),  # Jaune\n",
    "    (255, 0, 255),  # Magenta\n",
    "    (0, 255, 255),  # Cyan\n",
    "]\n",
    "\n",
    "# Dessiner les pixels sur l'image à l'ai de deux boucles\n",
    "for y in range(height):\n",
    "    for x in range(width):\n",
    "        # Choisir une couleur de la liste pour chaque pixel\n",
    "        color = pixels[(x + y) % len(pixels)] # % donne le reste d'une division euclidienne\n",
    "        image.putpixel((x, y), color)\n",
    "\n",
    "# Enregistrer l'image\n",
    "image.save(\"pixel_art.png\")\n",
    "\n",
    "# Afficher l'image\n",
    "image.show()\n"
   ]
  },
  {
   "cell_type": "code",
   "execution_count": 44,
   "id": "b1d17d79",
   "metadata": {},
   "outputs": [],
   "source": [
    "from PIL import Image, ImageDraw\n",
    "\n",
    "# Définir la taille de l'image\n",
    "width = 100\n",
    "height = 100\n",
    "\n",
    "# Créer une nouvelle image avec le mode RGB\n",
    "image = Image.new(\"RGB\", (width, height), \"white\")\n",
    "\n",
    "# Créer un objet ImageDraw pour dessiner sur l'image\n",
    "draw = ImageDraw.Draw(image)\n",
    "\n",
    "# Dessiner un insecte \n",
    "draw.rectangle([(40, 10), (60, 30)], fill=(0, 0, 255))  # Tête\n",
    "draw.rectangle([(30, 30), (70, 50)], fill=(255, 255, 0))  # Corps\n",
    "draw.rectangle([(20, 50), (80, 70)], fill=(255, 0, 0))  # Jambes\n",
    "draw.rectangle([(40, 70), (60, 90)], fill=(192, 192, 192))  # Bras\n",
    "draw.rectangle([(35, 10), (45, 20)], fill=(0, 0, 0))  # Yeux\n",
    "draw.rectangle([(55, 10), (65, 20)], fill=(0, 0, 0))  # Yeux\n",
    "\n",
    "# Enregistrer l'image\n",
    "image.save(\"dessin.png\")\n",
    "\n",
    "# Afficher l'image\n",
    "image.show()\n",
    "\n"
   ]
  },
  {
   "cell_type": "markdown",
   "id": "e111fa39",
   "metadata": {},
   "source": [
    "<h1 style=\"display: inline\">1)</h1><b>à faire: inspirez-vous des codes python au-dessus pour representer un dessin avec des rectangles, puis rédigez un second code en manipulant les pixels pour dessiner un pixel art et enfin répondez aux questions."
   ]
  },
  {
   "cell_type": "code",
   "execution_count": 3,
   "id": "1ca8254d",
   "metadata": {},
   "outputs": [],
   "source": [
    "# votre code ici votre code ici votre code ici votre code ici votre code ici votre code ici\n",
    "\n",
    "from PIL import Image, ImageDraw\n",
    "\n",
    "# Définir la taille de l'image\n",
    "width = 200\n",
    "height = 200\n",
    "\n",
    "# Créer une nouvelle image avec le mode RGB\n",
    "image = Image.new(\"RGB\", (width, height), \"white\")\n",
    "\n",
    "# Créer un objet ImageDraw pour dessiner sur l'image\n",
    "draw = ImageDraw.Draw(image)\n",
    "\n",
    "# Dessiner ci-dessous\n",
    "draw.rectangle([(20, 10), (50, 60)], fill=(0, 0, 150))  # Exemple en bleu (x,y), (Largeur,Hauteur)\n",
    "# votre code ici votre code ici votre code ici votre code ici votre code ici votre code ici\n",
    "# votre code ici votre code ici votre code ici votre code ici votre code ici votre code ici\n",
    "# votre code ici votre code ici votre code ici votre code ici votre code ici votre code ici\n",
    "# votre code ici votre code ici votre code ici votre code ici votre code ici votre code ici\n",
    "# votre code ici votre code ici votre code ici votre code ici votre code ici votre code ici\n",
    "\n",
    "# Enregistrer l'image\n",
    "image.save(\"monpixelArt.png\")\n",
    "\n",
    "# Afficher l'image\n",
    "image.show()"
   ]
  },
  {
   "cell_type": "markdown",
   "id": "302e242b",
   "metadata": {},
   "source": [
    "PIL (Pillow) est une bibliothèque Python qui offre la possibilité de manipuler des images pixel par pixel. Chaque image est traitée comme une matrice où chaque élément contient un triplet de valeurs (R, G, B) représentant les composantes de couleur."
   ]
  },
  {
   "cell_type": "markdown",
   "id": "6814afaa",
   "metadata": {},
   "source": [
    "<p>Les remarques suivantes doivent être prises en compte concernant les coordonnées :</p><ul><li>Les coordonnées débutent à 0, une convention courante en informatique, tout comme dans les ascenseurs.</li><li>L'axe vertical est gradué de haut en bas, contrairement à la convention habituelle en mathématiques où il est gradué de bas en haut.</li>"
   ]
  },
  {
   "cell_type": "code",
   "execution_count": 1,
   "id": "86a508ed",
   "metadata": {},
   "outputs": [],
   "source": [
    "from PIL import Image\n",
    "\n",
    "# Nouvelle image de 3 pixels de large et 2 pixels de haut\n",
    "image = Image.new('RGB', (3, 2))\n",
    "\n",
    "image.putpixel((0, 0), (5, 20, 64))\n",
    "image.putpixel((0, 1), (5, 20, 64))\n",
    "image.putpixel((1, 0), (255, 255, 255))\n",
    "image.putpixel((1, 1), (255, 255, 255))\n",
    "image.putpixel((2, 0), (236, 25, 32))\n",
    "image.putpixel((2, 1), (236, 25, 32))\n",
    "\n",
    "# Afficher l'image\n",
    "image.show()"
   ]
  },
  {
   "cell_type": "code",
   "execution_count": null,
   "id": "8b20df0c",
   "metadata": {},
   "outputs": [],
   "source": [
    "# votre code ici votre code ici votre code ici votre code ici votre code ici votre code ici\n",
    "# votre code ici votre code ici votre code ici votre code ici votre code ici votre code ici\n",
    "# votre code ici votre code ici votre code ici votre code ici votre code ici votre code ici\n",
    "# votre code ici votre code ici votre code ici votre code ici votre code ici votre code ici\n",
    "# votre code ici votre code ici votre code ici votre code ici votre code ici votre code ici"
   ]
  },
  {
   "cell_type": "raw",
   "id": "c15300d2",
   "metadata": {},
   "source": [
    "Répondre aux questions :\n",
    "\n",
    "Que représente cette ligne : from PIL import Image\n",
    "La ligne sert à ..............\n",
    "\n",
    "Comment créer une nouvelle image de dimensions 3 pixels de large par 2 pixels de haut en utilisant Python ?\n",
    "...................\n",
    "\n",
    "Comment Tracer un pixel de couleur (5, 20, 64) aux coordonnées (0, 1) ?\n",
    ".......................\n",
    "\n",
    "Comment afficher l'image ?\n",
    "-.......................\n",
    "\n",
    "Comment enregistrer l'image ?\n",
    "-......................."
   ]
  },
  {
   "cell_type": "code",
   "execution_count": 9,
   "id": "a36b820b",
   "metadata": {},
   "outputs": [],
   "source": [
    "# exemple plus compliqué avec des boucles\n",
    "from PIL import Image , ImageDraw, ImageFont\n",
    "\n",
    "# Création d'une nouvelle image de taille 13x8 (13 bandes horizontales, 50 étoiles)\n",
    "largeur = 130\n",
    "hauteur = 80\n",
    "image = Image.new('RGB', (largeur, hauteur), \"white\")\n",
    "\n",
    "\n",
    "# Dimensions des bandes rouges et blanches\n",
    "largeur_bande = largeur // 13\n",
    "\n",
    "# Couleur des bandes rouges et blanches\n",
    "couleur_rouge = (191, 10, 48)\n",
    "couleur_blanche = (255, 255, 255)\n",
    "\n",
    "# Dessin des bandes rouges et blanches\n",
    "for i in range(13):\n",
    "    if i % 2 == 0:     # Si c'est pair\n",
    "        couleur = couleur_rouge\n",
    "    else:              # Sinon,  c'est impair\n",
    "        couleur = couleur_blanche\n",
    "    image.paste(couleur, (i * largeur_bande, 0, (i + 1) * largeur_bande, hauteur))\n",
    "\n",
    "# Dessin du rectangle bleu dans le coin supérieur gauche\n",
    "image.paste((0, 40, 104), (0, 0, 76, 52))\n",
    "\n",
    "# Dessin des étoiles (rectangle blancs) row pour rangée et col pour colonne\n",
    "for row in range(9):\n",
    "    for col in range(11):\n",
    "        if (row + col) % 2 == 0:   # Si c'est pair (seulement)\n",
    "            image.paste(couleur_blanche, (9 + col * 7, 9 + row * 5, 16 + col * 7, 14 + row * 5))\n",
    "\n",
    "# Affichage de l'image\n",
    "image.show()\n"
   ]
  },
  {
   "cell_type": "code",
   "execution_count": 16,
   "id": "b13b70be",
   "metadata": {},
   "outputs": [],
   "source": [
    "# exemple pour écrire\n",
    "from PIL import Image, ImageDraw, ImageFont\n",
    "\n",
    "# Créer une nouvelle image blanche\n",
    "largeur, hauteur = 400, 200\n",
    "image = Image.new(\"RGB\", (largeur, hauteur), \"white\")\n",
    "\n",
    "# Initialiser l'objet ImageDraw pour dessiner sur l'image\n",
    "draw = ImageDraw.Draw(image)\n",
    "\n",
    "# Spécifier les coordonnées et le texte à dessiner\n",
    "position = (50, 50)\n",
    "texte = \"J'aime la SNT !\"\n",
    "\n",
    "# Pas de commentaire, c'est à vous de trouver ...\n",
    "draw.text(position, texte, fill=\"blue\")\n",
    "\n",
    "# Afficher l'image\n",
    "image.show()\n"
   ]
  },
  {
   "cell_type": "raw",
   "id": "14d25668",
   "metadata": {},
   "source": [
    "Répondre aux questions :\n",
    "\n",
    "Comment créer une image blanche de 500 pixels sur 500 pixels ?\n",
    "-.......................\n",
    "\n",
    "Que représente cette ligne : draw.text(position, texte, fill=\"blue\")\n",
    "La ligne sert à .............."
   ]
  },
  {
   "cell_type": "markdown",
   "id": "85adcda0",
   "metadata": {},
   "source": [
    "<b>Afficher une image stockée sur internet avec PIL"
   ]
  },
  {
   "cell_type": "code",
   "execution_count": 63,
   "id": "5b7103d7",
   "metadata": {},
   "outputs": [],
   "source": [
    "from PIL import Image\n",
    "import requests\n",
    "from io import BytesIO\n",
    "\n",
    "# URL de l'image à télécharger\n",
    "url = \"https://raw.githubusercontent.com/Defernez/NSI/main/%3CSNT%3E/LaPhotographieNumerique/zen.jpg\"\n",
    "\n",
    "# Télécharger l'image depuis l'URL\n",
    "response = requests.get(url)\n",
    "\n",
    "# Vérifier si le téléchargement a réussi (révision chapitre 4 WEB)\n",
    "if response.status_code == 200:\n",
    "    # Ouvrir l'image à partir des données téléchargées\n",
    "    image = Image.open(BytesIO(response.content))\n",
    "\n",
    "    # Afficher l'image\n",
    "    image.show()\n",
    "else:\n",
    "    print(\"Impossible de télécharger l'image.\")\n"
   ]
  },
  {
   "cell_type": "raw",
   "id": "87562107",
   "metadata": {},
   "source": [
    "Répondre aux questions :\n",
    "\n",
    "Où l'image est-elle stoquée à l'origine ?\n",
    "-.......................\n",
    "\n",
    "Que représente cette ligne : if response.status_code == 200:\n",
    "La ligne sert à .............."
   ]
  },
  {
   "cell_type": "markdown",
   "id": "e9c0d15a",
   "metadata": {},
   "source": [
    "<h1 style=\"display: inline\">2)</h1><b>à faire: copier/coller le code et le modifier pour afficher l'image de votre choix"
   ]
  },
  {
   "cell_type": "code",
   "execution_count": null,
   "id": "038479e0",
   "metadata": {},
   "outputs": [],
   "source": [
    "# votre code ici votre code ici votre code ici votre code ici votre code ici votre code ici\n",
    "# votre code ici votre code ici votre code ici votre code ici votre code ici votre code ici\n",
    "# votre code ici votre code ici votre code ici votre code ici votre code ici votre code ici\n",
    "# votre code ici votre code ici votre code ici votre code ici votre code ici votre code ici\n",
    "# votre code ici votre code ici votre code ici votre code ici votre code ici votre code ici"
   ]
  },
  {
   "cell_type": "markdown",
   "id": "88396e03",
   "metadata": {},
   "source": [
    "<b>Chrominance dans un signal vidéo (télévisions, écrans, smartphones, vidéo-projecteurs)"
   ]
  },
  {
   "cell_type": "markdown",
   "id": "11610a95",
   "metadata": {},
   "source": [
    "La chrominance désigne la partie du signal vidéo correspondant à l'information de couleur.\n",
    "\n",
    "Le signal vidéo nécessite une information de luminance et deux informations de chrominance afin de reconstituer les trois couleurs primaires rouge, vert et bleu (RGB) de l'affichage couleur qui utilise le principe de la synthèse additive. Ce choix fut historiquement guidé par la nécessité d'assurer la compatibilité des téléviseurs noir et blanc lors de la naissance des standards NTSC, PAL puis SÉCAM1, et après avoir observé que la vision humaine présente une sensibilité moindre à la couleur qu'à la luminosité. (Wikipédia)"
   ]
  },
  {
   "cell_type": "code",
   "execution_count": 61,
   "id": "615e0033",
   "metadata": {},
   "outputs": [
    {
     "data": {
      "text/html": [
       "<iframe width=\"560\" height=\"315\" src=\"https://fr.wikipedia.org/wiki/Chrominance\" title=\"Wikipédia\" frameborder=\"0\" allow=\"accelerometer; autoplay; clipboard-write; encrypted-media; gyroscope; picture-in-picture; web-share\" allowfullscreen></iframe>\n"
      ],
      "text/plain": [
       "<IPython.core.display.HTML object>"
      ]
     },
     "metadata": {},
     "output_type": "display_data"
    }
   ],
   "source": [
    "%%html\n",
    "<iframe width=\"560\" height=\"315\" src=\"https://fr.wikipedia.org/wiki/Chrominance\" title=\"Wikipédia\" frameborder=\"0\" allow=\"accelerometer; autoplay; clipboard-write; encrypted-media; gyroscope; picture-in-picture; web-share\" allowfullscreen></iframe>"
   ]
  },
  {
   "cell_type": "markdown",
   "id": "42d546fa",
   "metadata": {},
   "source": [
    "<h1 style=\"display: inline\">3)</h1><b>à faire: expliquer le code niveau de gris, ensuite, copier/coller le programme pour l'appliquer à l'image de votre choix."
   ]
  },
  {
   "cell_type": "code",
   "execution_count": 46,
   "id": "6b013bcb",
   "metadata": {},
   "outputs": [],
   "source": [
    "from PIL import Image\n",
    "import requests\n",
    "from io import BytesIO\n",
    "\n",
    "# URL de l'image à télécharger\n",
    "url = \"https://raw.githubusercontent.com/Defernez/NSI/main/%3CSNT%3E/LaPhotographieNumerique/zen.jpg\"\n",
    "\n",
    "# Télécharger l'image depuis l'URL\n",
    "response = requests.get(url)\n",
    "\n",
    "# Vérifier si le téléchargement a réussi\n",
    "if response.status_code == 200:\n",
    "    # Ouvrir l'image à partir des données téléchargées\n",
    "    image = Image.open(BytesIO(response.content))\n",
    "\n",
    "    # Récupérer les dimensions de l'image\n",
    "    largeur, hauteur = image.size\n",
    "\n",
    "    # Parcourir chaque pixel de l'image\n",
    "    for y in range(hauteur):\n",
    "        for x in range(largeur):\n",
    "            # Obtenir la valeur du pixel (r, g, b)\n",
    "            r, g, b = image.getpixel((x, y))\n",
    "            \n",
    "            # Convertir en niveau de gris (pourquoi cette formule ?)\n",
    "            niveau_gris = int(0.299 * r + 0.587 * g + 0.114 * b)\n",
    "            \n",
    "            # Définir la couleur du pixel en noir et blanc\n",
    "            image.putpixel((x, y), (niveau_gris, niveau_gris, niveau_gris))\n",
    "\n",
    "    # Afficher l'image en noir et blanc\n",
    "    image.show()\n",
    "else:\n",
    "    print(\"Impossible de télécharger l'image.\")\n",
    "\n"
   ]
  },
  {
   "cell_type": "raw",
   "id": "f22d3d4a",
   "metadata": {},
   "source": [
    "Expliquer ici .......\n",
    "Expliquer ici .....\n",
    "Expliquer ici ...\n",
    "Expliquer ici .....\n",
    "Expliquer ici .......\n",
    "\n",
    "ET\n",
    "\n",
    "# Convertir en niveau de gris (pourquoi cette formule ?)\n",
    "            niveau_gris = int(0.299 * r + 0.587 * g + 0.114 * b)\n",
    "Expliquer ici ......."
   ]
  },
  {
   "cell_type": "code",
   "execution_count": null,
   "id": "2cbf2f43",
   "metadata": {},
   "outputs": [],
   "source": [
    "# copier/coller le programme pour l'appliquer à l'image de votre choix.........\n",
    "\n",
    "from PIL import Image\n",
    "import requests\n",
    "from io import BytesIO\n",
    "\n",
    "# URL de l'image à télécharger\n",
    "# votre code ici votre code ici votre code ici votre code ici votre code ici votre code ici\n",
    "\n",
    "# votre code ici votre code ici votre code ici votre code ici votre code ici votre code ici\n",
    "\n",
    "# votre code ici votre code ici votre code ici votre code ici votre code ici votre code ici\n",
    "\n",
    "# votre code ici votre code ici votre code ici votre code ici votre code ici votre code ici\n",
    "\n",
    "# votre code ici votre code ici votre code ici votre code ici votre code ici votre code ici\n",
    "\n",
    "# ect..."
   ]
  },
  {
   "cell_type": "markdown",
   "id": "03306bae",
   "metadata": {},
   "source": [
    "<b>Voici le code qui permet de visualiser l'image uniquement en niveau de bleu"
   ]
  },
  {
   "cell_type": "code",
   "execution_count": 66,
   "id": "6e6944bf",
   "metadata": {},
   "outputs": [],
   "source": [
    "from PIL import Image\n",
    "import requests\n",
    "from io import BytesIO\n",
    "\n",
    "# URL de l'image à télécharger\n",
    "url = \"https://raw.githubusercontent.com/Defernez/NSI/main/%3CSNT%3E/LaPhotographieNumerique/zen.jpg\"\n",
    "\n",
    "# Télécharger l'image depuis l'URL\n",
    "response = requests.get(url)\n",
    "\n",
    "# Vérifier si le téléchargement a réussi\n",
    "if response.status_code == 200:\n",
    "    # Ouvrir l'image à partir des données téléchargées\n",
    "    image = Image.open(BytesIO(response.content))\n",
    "\n",
    "    # Récupérer les dimensions de l'image\n",
    "    largeur, hauteur = image.size\n",
    "\n",
    "    # Parcourir chaque pixel de l'image\n",
    "    for y in range(hauteur):\n",
    "        for x in range(largeur):\n",
    "            # Obtenir la valeur du pixel (r, g, b)\n",
    "            r, g, b = image.getpixel((x, y))\n",
    "            \n",
    "            \n",
    "            # Ne conserver que le bleu\n",
    "            image.putpixel((x, y), (1, 1, b))\n",
    "\n",
    "    # Afficher l'image en noir et blanc\n",
    "    image.show()\n",
    "else:\n",
    "    print(\"Impossible de télécharger l'image.\")\n"
   ]
  },
  {
   "cell_type": "markdown",
   "id": "ea64d617",
   "metadata": {},
   "source": [
    "<h1 style=\"display: inline\">4)</h1><b>à faire: modifier le code pour afficher seulement la composante rouge de l'image de votre choix."
   ]
  },
  {
   "cell_type": "code",
   "execution_count": null,
   "id": "0aa38148",
   "metadata": {},
   "outputs": [],
   "source": [
    "from PIL import Image\n",
    "import requests\n",
    "from io import BytesIO\n",
    "\n",
    "# URL de l'image à télécharger\n",
    "# votre code ici votre code ici votre code ici votre code ici votre code ici votre code ici\n",
    "\n",
    "# votre code ici votre code ici votre code ici votre code ici votre code ici votre code ici\n",
    "\n",
    "# votre code ici votre code ici votre code ici votre code ici votre code ici votre code ici\n",
    "\n",
    "# votre code ici votre code ici votre code ici votre code ici votre code ici votre code ici\n",
    "\n",
    "# votre code ici votre code ici votre code ici votre code ici votre code ici votre code ici\n",
    "\n",
    "# ect..."
   ]
  },
  {
   "cell_type": "markdown",
   "id": "7def4cd4",
   "metadata": {},
   "source": [
    "<b>Réduire une image"
   ]
  },
  {
   "cell_type": "code",
   "execution_count": 38,
   "id": "628a382e",
   "metadata": {},
   "outputs": [],
   "source": [
    "from PIL import Image\n",
    "import requests\n",
    "from io import BytesIO\n",
    "\n",
    "# URL de l'image à télécharger\n",
    "url = \"https://raw.githubusercontent.com/Defernez/NSI/main/%3CSNT%3E/LaPhotographieNumerique/zen.jpg\"\n",
    "\n",
    "# Télécharger l'image depuis l'URL\n",
    "response = requests.get(url)\n",
    "\n",
    "# Vérifier si le téléchargement a réussi\n",
    "if response.status_code == 200:\n",
    "    # Ouvrir l'image à partir des données téléchargées\n",
    "    image = Image.open(BytesIO(response.content))\n",
    "\n",
    "    # Récupérer les dimensions de l'image\n",
    "    largeur, hauteur = image.size\n",
    "\n",
    "    # Facteur de réduction \n",
    "    facteur_reduction = 8\n",
    "\n",
    "    # Créer une nouvelle image avec une taille réduite\n",
    "    nouvelle_image = Image.new(\"RGB\", (largeur // facteur_reduction, hauteur // facteur_reduction))\n",
    "\n",
    "    # Parcourir chaque pixel de l'image originale et copier les pixels correspondants dans la nouvelle image\n",
    "    for y in range(0, hauteur, facteur_reduction):\n",
    "        for x in range(0, largeur, facteur_reduction):\n",
    "            pixel = image.getpixel((x, y))\n",
    "            nouvelle_image.putpixel((x // facteur_reduction, y // facteur_reduction), pixel)\n",
    "\n",
    "    # Afficher l'image réduite\n",
    "    nouvelle_image.show()\n",
    "else:\n",
    "    print(\"Impossible de télécharger l'image.\")"
   ]
  },
  {
   "cell_type": "markdown",
   "id": "541a2ba3",
   "metadata": {},
   "source": [
    "<h1 style=\"display: inline\">5)</h1><b>à faire: modifier le code pour afficher réduire de l'image de votre choix, essayer 2 facteurs de votre choix."
   ]
  },
  {
   "cell_type": "markdown",
   "id": "e5a2f4a7",
   "metadata": {},
   "source": [
    "Lorsque l'on réduit la taille d'une image en supprimant des pixels, on doit s' assurer que la division de la largeur et de la hauteur de l'image par le facteur de réduction donne un nombre entier. Si ce n'est pas le cas, certains pixels peuvent être ignorés ou mal positionnés, ce qui peut entraîner des résultats inattendus.\n"
   ]
  },
  {
   "cell_type": "code",
   "execution_count": null,
   "id": "553924c1",
   "metadata": {},
   "outputs": [],
   "source": [
    "# Avec votre premier choix de facteur de réduction\n",
    "from PIL import Image\n",
    "import requests\n",
    "from io import BytesIO\n",
    "\n",
    "# URL de l'image à télécharger\n",
    "# votre code ici votre code ici votre code ici votre code ici votre code ici votre code ici\n",
    "\n",
    "# votre code ici votre code ici votre code ici votre code ici votre code ici votre code ici\n",
    "\n",
    "# votre code ici votre code ici votre code ici votre code ici votre code ici votre code ici\n",
    "\n",
    "# votre code ici votre code ici votre code ici votre code ici votre code ici votre code ici\n",
    "\n",
    "# votre code ici votre code ici votre code ici votre code ici votre code ici votre code ici\n",
    "\n",
    "# ect..."
   ]
  },
  {
   "cell_type": "code",
   "execution_count": null,
   "id": "89325adc",
   "metadata": {},
   "outputs": [],
   "source": [
    "# Avec votre second choix de facteur de réduction\n",
    "from PIL import Image\n",
    "import requests\n",
    "from io import BytesIO\n",
    "\n",
    "# URL de l'image à télécharger\n",
    "# votre code ici votre code ici votre code ici votre code ici votre code ici votre code ici\n",
    "\n",
    "# votre code ici votre code ici votre code ici votre code ici votre code ici votre code ici\n",
    "\n",
    "# votre code ici votre code ici votre code ici votre code ici votre code ici votre code ici\n",
    "\n",
    "# votre code ici votre code ici votre code ici votre code ici votre code ici votre code ici\n",
    "\n",
    "# votre code ici votre code ici votre code ici votre code ici votre code ici votre code ici\n",
    "\n",
    "# ect..."
   ]
  },
  {
   "cell_type": "markdown",
   "id": "3deed386",
   "metadata": {},
   "source": [
    "<b>Agandir une image"
   ]
  },
  {
   "cell_type": "markdown",
   "id": "5126f21a",
   "metadata": {},
   "source": [
    "<h1 style=\"display: inline\">6)</h1><b>à faire: En essayant plusieurs facteurs d'agrandissement, qu'observez-vous ?"
   ]
  },
  {
   "cell_type": "code",
   "execution_count": 41,
   "id": "39bbcd8e",
   "metadata": {},
   "outputs": [],
   "source": [
    "from PIL import Image\n",
    "import requests\n",
    "from io import BytesIO\n",
    "\n",
    "# URL de l'image à télécharger\n",
    "url = \"https://raw.githubusercontent.com/Defernez/NSI/main/%3CSNT%3E/LaPhotographieNumerique/A500.png\"\n",
    "\n",
    "# Facteur d'agrandissement\n",
    "facteur_agrandissement = 4\n",
    "\n",
    "# Télécharger l'image depuis l'URL\n",
    "response = requests.get(url)\n",
    "\n",
    "# Vérifier si le téléchargement a réussi\n",
    "if response.status_code == 200:\n",
    "    # Ouvrir l'image à partir des données téléchargées\n",
    "    image = Image.open(BytesIO(response.content))\n",
    "\n",
    "    # Récupérer les dimensions de l'image\n",
    "    largeur, hauteur = image.size\n",
    "\n",
    "    # Créer une nouvelle image agrandie\n",
    "    nouvelle_largeur = largeur * facteur_agrandissement\n",
    "    nouvelle_hauteur = hauteur * facteur_agrandissement\n",
    "    nouvelle_image = Image.new(\"RGB\", (nouvelle_largeur, nouvelle_hauteur))\n",
    "\n",
    "    # Parcourir chaque pixel de l'image originale et le répéter pour agrandir l'image\n",
    "    for y in range(hauteur):\n",
    "        for x in range(largeur):\n",
    "            pixel = image.getpixel((x, y))\n",
    "            for i in range(facteur_agrandissement):\n",
    "                for j in range(facteur_agrandissement):\n",
    "                    nouvelle_image.putpixel((x * facteur_agrandissement + i, y * facteur_agrandissement + j), pixel)\n",
    "\n",
    "    # Afficher l'image agrandie\n",
    "    nouvelle_image.show()\n",
    "else:\n",
    "    print(\"Impossible de télécharger l'image.\")\n"
   ]
  },
  {
   "cell_type": "raw",
   "id": "4d8038ef",
   "metadata": {},
   "source": [
    "Expliquer ici .......\n",
    "Expliquer ici .....\n",
    "Expliquer ici ...\n",
    "Expliquer ici .....\n",
    "Expliquer ici ......."
   ]
  },
  {
   "cell_type": "markdown",
   "id": "542d29e4",
   "metadata": {},
   "source": [
    "<h1 style=\"display: inline\">7)</h1><b>à faire: Avec tous les codes que vous avez vus, affichez une image et placez des rectangles ou du texte au-dessus de celle-ci."
   ]
  },
  {
   "cell_type": "code",
   "execution_count": null,
   "id": "548d7e30",
   "metadata": {},
   "outputs": [],
   "source": [
    "from PIL import Image\n",
    "import requests\n",
    "from io import BytesIO\n",
    "\n",
    "# URL de l'image à télécharger\n",
    "# votre code ici votre code ici votre code ici votre code ici votre code ici votre code ici\n",
    "\n",
    "# votre code ici votre code ici votre code ici votre code ici votre code ici votre code ici\n",
    "\n",
    "# votre code ici votre code ici votre code ici votre code ici votre code ici votre code ici\n",
    "\n",
    "# votre code ici votre code ici votre code ici votre code ici votre code ici votre code ici\n",
    "\n",
    "# votre code ici votre code ici votre code ici votre code ici votre code ici votre code ici\n",
    "\n",
    "# ect..."
   ]
  }
 ],
 "metadata": {
  "kernelspec": {
   "display_name": "Python 3 (ipykernel)",
   "language": "python",
   "name": "python3"
  },
  "language_info": {
   "codemirror_mode": {
    "name": "ipython",
    "version": 3
   },
   "file_extension": ".py",
   "mimetype": "text/x-python",
   "name": "python",
   "nbconvert_exporter": "python",
   "pygments_lexer": "ipython3",
   "version": "3.8.10"
  }
 },
 "nbformat": 4,
 "nbformat_minor": 5
}
