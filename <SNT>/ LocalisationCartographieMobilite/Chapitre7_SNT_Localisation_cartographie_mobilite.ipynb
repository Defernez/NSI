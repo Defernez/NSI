{
 "cells": [
  {
   "cell_type": "markdown",
   "id": "85f87031",
   "metadata": {},
   "source": [
    "<h1>TD 7 Localisation, cartographie et mobilité"
   ]
  },
  {
   "cell_type": "raw",
   "id": "251d2642",
   "metadata": {},
   "source": [
    "nom :\n",
    "Prénom :"
   ]
  },
  {
   "cell_type": "markdown",
   "id": "47c107c4",
   "metadata": {},
   "source": [
    "Contenus | Capacités attendues\n",
    " --- | --- \n",
    "GPS, Galileo |  Décrire le principe de fonctionnement de la géolocalisation.\n",
    "Cartes numériques | Identifier les différentes couches d’information de GeoPortail pour extraire différents types de données. Contribuer à OpenStreetMap de façon collaborative.\n",
    "Protocole NMEA 0183 | Décoder une trame NMEA pour trouver des coordonnées géographiques.\n",
    "Calculs d’itinéraires | Utiliser un logiciel pour calculer un itinéraire. Représenter un calcul d’itinéraire comme un problème sur un graphe.\n",
    "Confidentialité | Régler les paramètres de confidentialité d’un téléphone pour partager ou non sa position."
   ]
  },
  {
   "cell_type": "markdown",
   "id": "0bfb3b3e",
   "metadata": {},
   "source": [
    "<b>Introduction :"
   ]
  },
  {
   "cell_type": "markdown",
   "id": "78a634ea",
   "metadata": {},
   "source": [
    "La cartographie est essentielle pour beaucoup d’activités : agriculture, urbanisme, transports,\n",
    "loisirs, etc. Elle a été révolutionnée par l’arrivée des cartes numériques accessibles depuis\n",
    "les ordinateurs, tablettes et téléphones, bien plus souples à l’usage que les cartes papier.\n",
    "Les cartes numériques rassemblent toutes les échelles et permettent de montrer différents\n",
    "aspects de la région visualisée sur une seule carte. Les algorithmes de recherche permettent\n",
    "de retrouver sur la carte les endroits en donnant simplement leur nom, et de calculer des\n",
    "itinéraires entre points selon des modes de transports variés."
   ]
  },
  {
   "cell_type": "markdown",
   "id": "c2f21e25",
   "metadata": {},
   "source": [
    "https://www.youtube.com/embed/iTfNhcC2vBA?si=PrV9vS6zClTXv97X"
   ]
  },
  {
   "cell_type": "markdown",
   "id": "0ab77724",
   "metadata": {},
   "source": [
    "<b>Repères historiques :"
   ]
  },
  {
   "cell_type": "markdown",
   "id": "2ddaab38",
   "metadata": {},
   "source": [
    "Les cartes ont été systématiquement numérisées à la fin du XXe siècle.\n",
    "Le principal instrument de localisation, GPS (Global Positioning System), a été conçu par\n",
    "l’armée américaine dans les années soixante. Le premier satellite GPS fut lancé en 1978. Il y\n",
    "en a actuellement une trentaine, de sorte qu’à tout moment quatre à six satellites au moins\n",
    "sont visibles depuis tout point de la Terre. Couplé aux cartes numériques, le système GPS\n",
    "permet de se situer. Il n’est pas toujours efficace en ville, et peut être complété par d’autres\n",
    "moyens de localisation comme la détection de bornes Wi-Fi proches. D’autres systèmes plus\n",
    "précis, dont Galileo, sont en cours de déploiement."
   ]
  },
  {
   "cell_type": "markdown",
   "id": "dc4ff952",
   "metadata": {},
   "source": [
    "<b>4 octobre 1957</b> Lancement du premier satellite artificiel Spoutnik\n",
    "![img](https://raw.githubusercontent.com/Defernez/NSI/main/%3CSNT%3E/%20LocalisationCartographieMobilite/Spoutnik.png)\n",
    "<b>1978</b> Lancement du premier satellite GPS \n",
    "<br>\n",
    "<b>24 septembre 1995</b> Mise en service de Glonass, système russe\n",
    "<br>\n",
    "<b>11 juin 2001</b> Naissance de Google Earth\n",
    "<br>\n",
    "<b>2003 </b>Mise en service de Beidou, système chinois\n",
    "<br>\n",
    "<b>2006</b> Création de Géoportail\n",
    "<b>2006</b> Création de OpenStreetMap\n",
    "<b>2006</b> Création de Google Maps\n",
    "<br>\n",
    "<b>2013</b> Mise en service de INRSS, système indien\n",
    "<br>\n",
    "<b>2010</b> Mise en service de QZSS, système japonais\n",
    "<br>\n",
    "<b>2021</b> Déploiement de Galileo\n",
    "<img src = \"https://raw.githubusercontent.com/Defernez/NSI/main/%3CSNT%3E/%20LocalisationCartographieMobilite/galileo.png\" width =\"200\" />"
   ]
  },
  {
   "cell_type": "markdown",
   "id": "6ca008d9",
   "metadata": {},
   "source": [
    "<b>Les données et l’information :"
   ]
  },
  {
   "cell_type": "markdown",
   "id": "0eabffe7",
   "metadata": {},
   "source": [
    "Les informations des cartes numériques proviennent de nombreuses sources : services\n",
    "géographiques des États, photos prises par des satellites, avions ou voitures, données\n",
    "fournies par les utilisateurs, etc. Ces informations sont de natures diverses : topographiques,\n",
    "géologiques, photographiques, liées aux transports, à l’activité industrielle ou touristique, etc.\n",
    "Des projets collaboratifs comme OpenStreetMap permettent à chaque utilisateur d’ajouter\n",
    "des informations à une carte en libre accès, qui deviennent alors visibles par tous les\n",
    "utilisateurs.\n",
    "Un satellite GPS contient une horloge atomique mesurant le temps à une très grande\n",
    "précision et envoyant régulièrement des messages contenant cette heure. Chaque message\n",
    "se propageant à la vitesse de la lumière, le récepteur peut calculer sa distance au satellite.\n",
    "On peut en déduire sa position en suivant plusieurs satellites, ce que fait automatiquement le\n",
    "récepteur GPS."
   ]
  },
  {
   "cell_type": "markdown",
   "id": "c62e1ad2",
   "metadata": {},
   "source": [
    "<b>Code pour creer un carte : <i>Carte.html"
   ]
  },
  {
   "cell_type": "code",
   "execution_count": null,
   "id": "9288161a",
   "metadata": {},
   "outputs": [],
   "source": [
    "import folium\n",
    "c= folium.Map(location=[50.64767 , 3.03822])\n",
    "c.save('Carte.html')\n",
    "print (\"rendez-vous dans le repertoire de votre TD pour ouvrir Carte.html\")"
   ]
  },
  {
   "cell_type": "markdown",
   "id": "2a173967",
   "metadata": {},
   "source": [
    "<i>Le code du est facile à comprendre :</i>\n",
    "\n",
    "    En premier lieu, avec la ligne \"import folium\", nous importons la bibliothèque folium pour l'utiliser dans notre programme.\n",
    "\n",
    "    La deuxième ligne est cruciale. Nous définissons une variable \"c\" qui va contenir notre objet carte. En utilisant \"folium.Map(location=[longitude, latitude])\", nous créons cet objet carte. La carte sera centrée sur les coordonnées spécifiées, avec la latitude et la longitude. Il suffit donc de fournir les bonnes coordonnées pour que la carte soit centrée sur le point désiré.\n",
    "\n",
    "    Enfin, la dernière ligne du programme génère la page HTML nécessaire pour afficher la carte, rendant ainsi le résultat visuel accessible."
   ]
  },
  {
   "cell_type": "markdown",
   "id": "f1fd6e26",
   "metadata": {},
   "source": [
    "<b>à faire :</b> Adaptez le code précédent en spécifiant les coordonnées de la ville de votre choix pour générer une carte centrée sur cette localité. Les informations sur la latitude et la longitude d'une ville peuvent être aisément trouvées en ligne. Modifiez aussi le nom de la carte"
   ]
  },
  {
   "cell_type": "code",
   "execution_count": null,
   "id": "a073f7fb",
   "metadata": {},
   "outputs": [],
   "source": [
    "# votre code ici"
   ]
  },
  {
   "cell_type": "markdown",
   "id": "40c7e8d6",
   "metadata": {},
   "source": [
    "<b>Plus précisément :"
   ]
  },
  {
   "cell_type": "code",
   "execution_count": null,
   "id": "4c7b0bdd",
   "metadata": {},
   "outputs": [],
   "source": [
    "import folium\n",
    "c= folium.Map(location=[50.64767, 3.03822],zoom_start=20) # Plus la valeur de \"zoom_start\" sera grande et plus le zoom sera important. \n",
    "folium.Marker([50.647663899450606,3.039295232849133],popup=\"Lycée J Perrin\").add_to(c)\n",
    "c.save('JP.html')\n",
    "print (\"RDV dans votre répertoire pour afficher JP.html\")"
   ]
  },
  {
   "cell_type": "markdown",
   "id": "c4692a55",
   "metadata": {},
   "source": [
    "<b>Les algorithmes et les programmes :"
   ]
  },
  {
   "cell_type": "markdown",
   "id": "c776ecbe",
   "metadata": {},
   "source": [
    "Les algorithmes cartographiques concernent principalement l’affichage sélectif d’informations\n",
    "variées et le calcul d’itinéraires. L’affichage est paramétré par les informations à montrer,\n",
    "que l’on peut choisir par simples clics. Une difficulté est liée au mélange d’informations de\n",
    "types différents lors des changements d’échelle : les graphismes peuvent être très différents\n",
    "et beaucoup d’informations doivent être supprimées pour les grandes échelles, mais une\n",
    "route doit être représentée avec à peu près la même largeur, quelle que soit l’échelle.\n",
    "Les récepteurs GPS fournissent la localisation sous une forme normalisée facilement\n",
    "décodable, par exemple selon le protocole NMEA 0183  ou directement dans les métadonnées EXIF d’une photo. La localisation et les cartes se couplent dans le suivi permanent de la position sur la carte ou sur un itinéraire précalculé.\n",
    "\n",
    "Pour que deux ordinateurs puissent dialoguer, il faut respecter un ensemble de règles et de normes. Nous avons vu avec internet et le WEB que c'est en respectant des protocoles informatiques que les ordinateurs et leurs périphériques arivent à s'échanger des données. Il en va de même pour les GPS. Ils utilisent la norme NMEA 0183 qui regroupe un ensemble de données permettant la communication entre équipements marins, et donc les GPS. Cette norme est contrôlée par la National Marine Electronics Association qui est une association américaine de fa"
   ]
  },
  {
   "cell_type": "raw",
   "id": "a64a89db",
   "metadata": {},
   "source": [
    "Trame NMEA :\n",
    "$GPGGA,064036.289,4836.5375,N,00740.9373,E,1,04,3.2,200.2,M,,,,0000*0E\n",
    "\n",
    "$GPGGA       \t\t: Type de trame\n",
    "064036.289  9\t\t: Trame envoyée à 06 h 40 min 36 s 289 (heure UTC)\n",
    "4836.5375,N  \t\t: Latitude 48,608958° Nord = 48° 36' 32.25\" Nord\n",
    "00740.9373,E,\t\t: Longitude 7,682288° Est = 7° 40' 56.238\" Est\n",
    "1            \t\t: Type de positionnement (le 1 est un positionnement GPS)\n",
    "04           \t\t: Nombre de satellites utilisés pour calculer les coordonnées\n",
    "3.2          \t\t: Précision horizontale ou HDOP (Horizontal dilution of precision)\n",
    "200.2,M      \t\t: Altitude 200,2, en mètres\n",
    ",,,,,0000    \t\t: D'autres informations peuvent être inscrites dans ces champs\n",
    "*            \t\t: séparateur de checksum\n",
    "0E           \t\t: Somme de contrôle de parité, un simple XOR sur les caractères entre $ et *\n",
    "\n",
    "Source : Wikipédia"
   ]
  },
  {
   "cell_type": "markdown",
   "id": "0f05a6ab",
   "metadata": {},
   "source": [
    "<b> à faire:</b> Compléter ce code en modifiant les 5 libellés repérés \n",
    " dans la liste libelles par 'x - à modifier'"
   ]
  },
  {
   "cell_type": "code",
   "execution_count": null,
   "id": "a60cdbcc",
   "metadata": {},
   "outputs": [],
   "source": [
    "# à faire: Compléter ce code en modifiant les 5 libellés repérés \n",
    "# dans la liste libelles par 'x - à modifier'\n",
    "def decode_nmea_trame(trame):\n",
    "    # Séparation de la trame en champs en utilisant la virgule comme délimiteur\n",
    "    champs = trame.split(',')\n",
    "\n",
    "    # Définition des libellés pour chaque champ\n",
    "    libelles = [\n",
    "        \"1 - à modifier\",\n",
    "        \"Heure UTC du fix GPS, au format HHMMSS.SSS\",\n",
    "        \"Latitude, au format DDMM.MMMM\",\n",
    "        \"Latitude direction (N/S)\",\n",
    "        \"2 - à modifier\",\n",
    "        \"3 - à modifier\",\n",
    "        \"Qualité du fix (1 = Fix GPS, 0 = Pas de fix)\",\n",
    "        \"4 - à modifier\",\n",
    "        \"Précision horizontale en mètres\",\n",
    "        \"Altitude au-dessus du niveau de la mer en mètres\",\n",
    "        \"M pour mètres\",\n",
    "        \"Les champs suivants sont ignorés (,,,,)\",\n",
    "        \"Les champs suivants sont ignorés (,,,,)\",\n",
    "        \"Les champs suivants sont ignorés (,,,,)\",\n",
    "        \"5 - à modifier\"\n",
    "    ]\n",
    "\n",
    "    # Affichage des champs avec leurs libellés\n",
    "    for i in range(len(champs)):\n",
    "        print(\"***********************************************************\")\n",
    "        print(f\"{libelles[i]}: {champs[i]}\")\n",
    "\n",
    "# Exemple d'utilisation avec la trame que vous avez fournie\n",
    "trame_nmea = \"$GPGGA,064036.289,4836.5375,N,00740.9373,E,1,04,3.2,200.2,M,,,,0000*0E\"\n",
    "decode_nmea_trame(trame_nmea)"
   ]
  },
  {
   "cell_type": "markdown",
   "id": "942b50d3",
   "metadata": {},
   "source": [
    "<b>Les machines :</b><br>\n",
    "Les machines utilisées pour la cartographie sont surtout les ordinateurs, tablettes et\n",
    "téléphones classiques équipés d’une application ad hoc. Les récepteurs GPS spécialisés\n",
    "restent importants pour la navigation maritime ou aérienne, mais ceux pour la randonnée\n",
    "pédestre sont en voie de disparition, supplantés par les téléphones.\n",
    "L’heure fournie par le GPS sert aussi de base pour la synchronisation précise des horloges\n",
    "internes des ordinateurs connectés à internet, ce qui est très important pour tous les\n",
    "échanges d’informations.\n",
    "<br>\n",
    "Lorsque le récepteur GPS reçoit le signal, il note son heure d’arrivée : Tarrivée\n",
    "Le récepteur GPS peut alors calculer sa distance au satellite en utilisant la formule :\n",
    "D=(Tarrivee−Tdepart)×c où c est la vitesse de la lumière et vaut environ 300 000 km/s.\n",
    "<br>\n",
    "Une erreur d’une nanoseconde ( 10<sup>-9</sup> s) sur la mesure du temps de parcours entraîne une erreur de 30 cm. Une erreur d’une microseconde (un millionième de seconde) entraîne une erreur de 300 m.\n",
    "<br>\n",
    "\n",
    "Pour trouver sa position, le récepteur GPS a besoin  de connaître la position de 3 satellites et sa distance à chacun de ces satellites.\n",
    "<br>\n",
    "En effet, lorsque le récepteur connaît la position d’un satellite et sa distance D1 à ce satellite, il sait qu’il se trouve sur une sphère de rayon D autour du satellite. Lorsqu’il connaît la position de 2 satellites et sa distance à ces deux satellites, alors le récepteur GPS sait qu’il est à l’un des deux points d’intersection des deux sphères des positions possibles. Avec un troisième satellite, le récepteur GPS peut calculer sa position dans l’espace : à l’intersection des 3 sphères.\n",
    "<br>\n",
    "En pratique, comme l’horloge du récepteur GPS est beaucoup moins bonne que celle des satellites, il faut un quatrième satellite pour trouver la position du récepteur GPS."
   ]
  },
  {
   "cell_type": "markdown",
   "id": "d824d8e1",
   "metadata": {},
   "source": [
    "![img](https://raw.githubusercontent.com/Defernez/NSI/main/%3CSNT%3E/%20LocalisationCartographieMobilite/gps.png)"
   ]
  },
  {
   "cell_type": "markdown",
   "id": "10c4c095",
   "metadata": {},
   "source": [
    "<b>à faire : <br>Vous souhaitez vous rendre de la ville A à la ville B. Une carte schématisée se trouve ci- dessous.</b>"
   ]
  },
  {
   "cell_type": "markdown",
   "id": "1b5c392b",
   "metadata": {},
   "source": [
    "![img](https://raw.githubusercontent.com/Defernez/NSI/main/%3CSNT%3E/%20LocalisationCartographieMobilite/graphecarto1.png)"
   ]
  },
  {
   "cell_type": "markdown",
   "id": "b1c10805",
   "metadata": {},
   "source": [
    "1. Pour y arriver le plus vite possible, déterminer la route à prendre."
   ]
  },
  {
   "cell_type": "raw",
   "id": "d314828e",
   "metadata": {},
   "source": [
    "# votre réponse ici"
   ]
  },
  {
   "cell_type": "markdown",
   "id": "d7d02887",
   "metadata": {},
   "source": [
    "2. Pour faire du tourisme et prendre son temps, déterminer la route à prendre sans passer\n",
    "deux fois par la même ville."
   ]
  },
  {
   "cell_type": "raw",
   "id": "b0b76734",
   "metadata": {},
   "source": [
    "# votre réponse ici"
   ]
  },
  {
   "cell_type": "code",
   "execution_count": null,
   "id": "96d86aa2",
   "metadata": {},
   "outputs": [],
   "source": [
    "3. Préciser comment être sûr du résultat."
   ]
  },
  {
   "cell_type": "raw",
   "id": "7d70c935",
   "metadata": {},
   "source": [
    "# votre réponse ici"
   ]
  },
  {
   "cell_type": "markdown",
   "id": "17d795b5",
   "metadata": {},
   "source": [
    "<br><br>"
   ]
  },
  {
   "cell_type": "code",
   "execution_count": null,
   "id": "ec90904f",
   "metadata": {},
   "outputs": [],
   "source": [
    "# Importer les modules nécessaires # networkx et pyplot\n",
    "import networkx as nx\n",
    "from matplotlib import pyplot\n",
    "# -----------------------------------------------------\n",
    "\n",
    "G=nx.Graph()  # créer un nouveau graphe\n",
    "\n",
    "print(\"import de networkx et de matplotlib\")"
   ]
  },
  {
   "cell_type": "code",
   "execution_count": null,
   "id": "f5d4c9ad",
   "metadata": {},
   "outputs": [],
   "source": [
    "# Importer les modules nécessaires\n",
    "import networkx as nx\n",
    "import matplotlib.pyplot as plt\n",
    "\n",
    "# -----------------------------------------------------\n",
    "\n",
    "G = nx.Graph()  # créer un nouveau graphe\n",
    "\n",
    "# Ajouter des nœuds\n",
    "G.add_nodes_from([1, 2, 3])\n",
    "\n",
    "# Ajouter des arêtes pondérées\n",
    "G.add_edge(1, 2, weight=3)\n",
    "G.add_edge(1, 3, weight=5)\n",
    "G.add_edge(2, 3, weight=2)\n",
    "\n",
    "# Dessiner le graphe avec des poids sur les arêtes\n",
    "pos = nx.spring_layout(G)  # Positionnement des nœuds (vous pouvez utiliser un autre algorithme)\n",
    "nx.draw(G, pos, with_labels=True, font_weight='bold', node_size=700, node_color='skyblue', font_size=10)\n",
    "\n",
    "# Ajouter des étiquettes de poids sur les arêtes\n",
    "labels = nx.get_edge_attributes(G, 'weight')\n",
    "nx.draw_networkx_edge_labels(G, pos, edge_labels=labels)\n",
    "\n",
    "# Afficher le graphe\n",
    "plt.show()\n"
   ]
  },
  {
   "cell_type": "markdown",
   "id": "f6e328dd",
   "metadata": {},
   "source": [
    "<b>L'algorithme de Dijkstra</b><br> sert à résoudre le problème du plus court chemin. Il permet, par exemple, de déterminer un plus court chemin pour se rendre d'une ville à une autre connaissant le réseau routier d'une région. Il calcule des plus courts chemins à partir d'une source vers tous les autres sommets dans un graphe orienté pondéré par des réels positifs. <i>Wikipédia</i>"
   ]
  },
  {
   "cell_type": "code",
   "execution_count": null,
   "id": "730f3c3d",
   "metadata": {},
   "outputs": [],
   "source": [
    "import networkx as nx\n",
    "import matplotlib.pyplot as plt\n",
    "\n",
    "# Créer un graphe pondéré\n",
    "G = nx.Graph()\n",
    "\n",
    "# Ajouter des nœuds\n",
    "G.add_nodes_from(['A', 'B', 'C', 'D', 'E'])\n",
    "\n",
    "# Ajouter des arêtes pondérées\n",
    "G.add_edge('A', 'B', weight=4)\n",
    "G.add_edge('A', 'C', weight=2)\n",
    "G.add_edge('B', 'C', weight=5)\n",
    "G.add_edge('B', 'D', weight=10)\n",
    "G.add_edge('C', 'D', weight=3)\n",
    "G.add_edge('D', 'E', weight=7)\n",
    "\n",
    "# Dessiner le graphe\n",
    "pos = nx.spring_layout(G)\n",
    "nx.draw(G, pos, with_labels=True, font_weight='bold', node_size=700, node_color='skyblue', font_size=10)\n",
    "\n",
    "# Ajouter des étiquettes de poids sur les arêtes\n",
    "labels = nx.get_edge_attributes(G, 'weight')\n",
    "nx.draw_networkx_edge_labels(G, pos, edge_labels=labels)\n",
    "\n",
    "# Afficher le graphe\n",
    "plt.show()\n",
    "\n",
    "# Appliquer l'algorithme de Dijkstra\n",
    "start_node = 'A'\n",
    "shortest_paths = nx.single_source_dijkstra_path_length(G, source=start_node)\n",
    "\n",
    "# Afficher les chemins les plus courts depuis le nœud de départ\n",
    "print(f\"Les chemins les plus courts depuis le nœud {start_node} :\")\n",
    "for node, distance in shortest_paths.items():\n",
    "    print(f\"{node}: {distance}\")\n"
   ]
  },
  {
   "cell_type": "code",
   "execution_count": null,
   "id": "73b4fe48",
   "metadata": {},
   "outputs": [],
   "source": [
    "import networkx as nx\n",
    "import matplotlib.pyplot as plt\n",
    "\n",
    "# Créer un graphe pondéré\n",
    "G = nx.Graph()\n",
    "\n",
    "# Ajouter des nœuds\n",
    "G.add_nodes_from(['A', 'B', 'C', 'D', 'E'])\n",
    "\n",
    "# Ajouter des arêtes pondérées\n",
    "G.add_edge('A', 'B', weight=4)\n",
    "G.add_edge('A', 'C', weight=2)\n",
    "G.add_edge('B', 'C', weight=5)\n",
    "G.add_edge('B', 'D', weight=10)\n",
    "G.add_edge('C', 'D', weight=3)\n",
    "G.add_edge('D', 'E', weight=7)\n",
    "\n",
    "# Dessiner le graphe\n",
    "pos = nx.spring_layout(G)\n",
    "nx.draw(G, pos, with_labels=True, font_weight='bold', node_size=700, node_color='skyblue', font_size=10)\n",
    "\n",
    "# Ajouter des étiquettes de poids sur les arêtes\n",
    "labels = nx.get_edge_attributes(G, 'weight')\n",
    "nx.draw_networkx_edge_labels(G, pos, edge_labels=labels)\n",
    "\n",
    "# Afficher le graphe\n",
    "plt.show()\n",
    "\n",
    "# Appliquer l'algorithme de Dijkstra\n",
    "start_node = 'A'\n",
    "shortest_paths, distances = nx.single_source_dijkstra(G, source=start_node)\n",
    "\n",
    "# Afficher les chemins les plus courts depuis le nœud de départ avec détails sur les nœuds visités\n",
    "print(f\"Les chemins les plus courts depuis le nœud {start_node} :\")\n",
    "for node, path in shortest_paths.items():\n",
    "    distance = distances[node]\n",
    "    print(f\"Chemin vers {node}: {path}, Distance: {distance}\")\n",
    "\n"
   ]
  },
  {
   "cell_type": "markdown",
   "id": "1673e24d",
   "metadata": {},
   "source": [
    "<b>à faire: </b> codez ce graphe à l'aide des codes ci-dessus et affichez le plus court chemin pour aller de A à L\n",
    "<br>\n",
    "Ensuite, expliquez la solution trouvé par l'algorithme de Dijkstra\n"
   ]
  },
  {
   "cell_type": "markdown",
   "id": "817a7326",
   "metadata": {},
   "source": [
    "![img](https://raw.githubusercontent.com/Defernez/NSI/main/%3CSNT%3E/%20LocalisationCartographieMobilite/graphecarto2.png)"
   ]
  },
  {
   "cell_type": "code",
   "execution_count": null,
   "id": "72774681",
   "metadata": {},
   "outputs": [],
   "source": [
    "# votre code ici"
   ]
  },
  {
   "cell_type": "markdown",
   "id": "23ccd1ac",
   "metadata": {},
   "source": [
    "Expliquez la solution trouvé par l'algorithme de Dijkstra ici"
   ]
  },
  {
   "cell_type": "markdown",
   "id": "973ae185",
   "metadata": {},
   "source": [
    "<b>Impacts sur les pratiques humaines :</b><br>\n",
    "Les cartes numériques, accessibles depuis un téléphone, remplacent progressivement les\n",
    "cartes sur papier. Leurs interfaces permettent d’accéder commodément à de nombreux\n",
    "types d’information. Couplé aux algorithmes de calculs d’itinéraires, le GPS est utilisé\n",
    "systématiquement pour les transports, l’agriculture, la randonnée, la navigation à voile, etc.\n",
    "Le maintien à jour des cartes numériques est un problème difficile qui demande beaucoup\n",
    "de ressources au plan mondial. Les erreurs dans les cartes, inévitables à cause de l’énorme\n",
    "quantité d’informations à collecter, peuvent avoir des conséquences dramatiques.\n",
    "Par ailleurs, de nombreuses applications ont accès à la localisation dans un téléphone, ce\n",
    "qui leur permet d’envoyer des publicités non désirées, de suivre vos itinéraires, ou de\n",
    "localiser une personne. Enfin, le GPS n’est pas toujours sûr, car facile à brouiller à l’aide\n",
    "d’appareils simples."
   ]
  },
  {
   "cell_type": "markdown",
   "id": "d5dac29c",
   "metadata": {},
   "source": [
    "<h1><mark>Vocabulaire:</mark></h1>\n",
    "\n",
    "<h2><mark style=\"color: red; font-size: 20px;\" >Graphe:</mark></h2> <p style=\"color: blue; font-size: 16px;\"> ensemble de sommets relié par des arêtes (traits relient deux sommets)</p>\n",
    "\n",
    "<h2><mark style=\"color: red; font-size: 20px;\" >Protocole:</mark></h2> <p style=\"color: blue; font-size: 16px;\">  ensemble de règles à respecter pour que deux ordinateurs et ou leurs périphériques puissent se comprendre et échanger leurs données.\n",
    "\n",
    "<h2><mark style=\"color: red; font-size: 20px;\" >Trame NMEA:</mark></h2> <p style=\"color: blue; font-size: 16px;\">  données informatiques provenant de satélites permettant la géolocalisation.\n",
    "\n",
    "<h2><mark style=\"color: red; font-size: 20px;\" >Trilatération:</mark></h2> <p style=\"color: blue; font-size: 16px;\">  méthode de calcul par triangulation (3 points connus) permettant de situer un objet sur la terre.\n",
    "\n",
    "<h2><mark style=\"color: red; font-size: 20px;\" >Géolocalisation:</mark></h2> <p style=\"color: blue; font-size: 16px;\">  Calcul des coordonnées d'un objet afin de trouver sa position sur terre.\n",
    "\n",
    "<h2><mark style=\"color: red; font-size: 20px;\" >GPS:</mark></h2> <p style=\"color: blue; font-size: 16px;\">  Système de positionnement mondial (Global Positioning System) "
   ]
  },
  {
   "cell_type": "markdown",
   "id": "f87189d5",
   "metadata": {},
   "source": [
    "à rendre avec votre nom : http://travail.nsi.free.fr/snt/index.html\n"
   ]
  }
 ],
 "metadata": {
  "kernelspec": {
   "display_name": "Python 3 (ipykernel)",
   "language": "python",
   "name": "python3"
  },
  "language_info": {
   "codemirror_mode": {
    "name": "ipython",
    "version": 3
   },
   "file_extension": ".py",
   "mimetype": "text/x-python",
   "name": "python",
   "nbconvert_exporter": "python",
   "pygments_lexer": "ipython3",
   "version": "3.8.10"
  }
 },
 "nbformat": 4,
 "nbformat_minor": 5
}
