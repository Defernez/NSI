{
 "cells": [
  {
   "cell_type": "code",
   "execution_count": null,
   "metadata": {},
   "outputs": [],
   "source": []
  },
  {
   "cell_type": "markdown",
   "metadata": {},
   "source": [
    "<h1>TP non noté: les bases du html"
   ]
  },
  {
   "cell_type": "markdown",
   "metadata": {},
   "source": [
    "<b>ne pas rendre ce TP"
   ]
  },
  {
   "cell_type": "markdown",
   "metadata": {},
   "source": [
    "Une balise HTML est un élément que l'on va ajouter au texte de départ pour dire au navigateur de quelle manière\n",
    "l'afficher. Elle n'est pas affichée telle quelle dans le navigateur, elle est interprétée par celui-ci.\n",
    "Elle est toujours délimitée par les signes < et >. Les balises doubles sont dites ouvrantes/fermantes, c'est-à-dire qu'elles nécessitent deux balises, une ouvrante et\n",
    "une fermante dans lesquelles on va pouvoir mettre d'autres balises ou du texte.\n",
    "La balise fermante est identique à la balise ouvrante, à la différence qu'elle contient un \"/\" pour indiquer à quel endroit\n",
    "on la ferme."
   ]
  },
  {
   "cell_type": "code",
   "execution_count": null,
   "metadata": {},
   "outputs": [],
   "source": [
    "%%html\n",
    "<h1>Ceci est un titre</h1>\n",
    "<h2>Ceci est un sous titre</h2>\n",
    "<p>ceci est un paragraphe<p>\n",
    "<p>le %%html est utile pour afficher du html dans Jupyter notebook<p>"
   ]
  },
  {
   "cell_type": "markdown",
   "metadata": {},
   "source": [
    "Une balise (ou tag) peut en plus comporter de zéro à plusieurs attributs. Les attributs sont des informations complémentaires\n",
    "qui la caractérisent. Ils se présentent sous la forme nomattribut=\"valeur\"."
   ]
  },
  {
   "cell_type": "raw",
   "metadata": {},
   "source": [
    "Exemple de balise et son attribut :\n",
    "<html lang=\"fr\">"
   ]
  },
  {
   "cell_type": "markdown",
   "metadata": {},
   "source": [
    "Les balises simples sont des balises qui sont dites \"vides\", c'est-à-dire qu'elles ne vont contenir aucune autre balise HTML. Ces\n",
    "balises n'ont pas besoin d'être fermées."
   ]
  },
  {
   "cell_type": "raw",
   "metadata": {},
   "source": [
    "Exemples de balise simple :\n",
    "<img src=\"adresse/de/l/image\">\n",
    "<br>\n",
    "<br />"
   ]
  },
  {
   "cell_type": "raw",
   "metadata": {},
   "source": [
    "La balise <br> est seule, la balise fermant n’est pas requise. Mais en XHTML on doit fermer le tag <br> (<br />)."
   ]
  },
  {
   "cell_type": "markdown",
   "metadata": {},
   "source": [
    "Lorsque l'on cumule l'écriture de plusieurs balises ouvrantes (forcément inévitable), il est impératif de respecter la\n",
    "hiérarchie des balises, c'est-à-dire que la première ouverte sera la dernière à être fermée.\n",
    "Le chevauchement des balises est une grave erreur."
   ]
  },
  {
   "cell_type": "code",
   "execution_count": null,
   "metadata": {},
   "outputs": [],
   "source": [
    "%%html\n",
    "<b><u>Ici les balises imbriquées.</u></b>"
   ]
  },
  {
   "cell_type": "markdown",
   "metadata": {},
   "source": [
    "<h1>La structure minimale obligatoire d'une page HTML :"
   ]
  },
  {
   "cell_type": "raw",
   "metadata": {},
   "source": [
    "<!DOCTYPE html>\n",
    "<html lang=\"fr\">\n",
    "<head>\n",
    "\t<meta charset=\"UTF-8\">\n",
    "</head>\n",
    "<body>\n",
    "\tLe code HTML ici\n",
    "</body>\n",
    "</html>"
   ]
  },
  {
   "cell_type": "markdown",
   "metadata": {},
   "source": [
    "C'est dans la balise <b>body</b> que nous allons mettre tout le texte et toutes les images qui apparaîtront lorsqu'un visiteur\n",
    "viendra sur notre page."
   ]
  },
  {
   "cell_type": "code",
   "execution_count": null,
   "metadata": {},
   "outputs": [],
   "source": [
    "%%html\n",
    "\n",
    "<!DOCTYPE html>\n",
    "<html lang=\"fr\">\n",
    "<head>\n",
    "\t<meta charset=\"UTF-8\">\n",
    "</head>\n",
    "<body>\n",
    "\tLe code HTML ici\n",
    "</body>\n",
    "</html>"
   ]
  },
  {
   "cell_type": "markdown",
   "metadata": {},
   "source": [
    "<h1>Commentaires HTML :"
   ]
  },
  {
   "cell_type": "raw",
   "metadata": {},
   "source": [
    "<!-- Voici un premier commentaire sur une ligne. -->\n",
    "<!-- Voici un deuxième commentaire.\n",
    "Celui-ci est multilignes. -->"
   ]
  },
  {
   "cell_type": "markdown",
   "metadata": {},
   "source": [
    "<h1>Image :"
   ]
  },
  {
   "cell_type": "raw",
   "metadata": {},
   "source": [
    "Exemple d'images :\n",
    "<img src=\"images/dinosaur.jpg\" />\n",
    "<img src=\"https://4.bp.blogspot.com/-ScwvRUGmlaQ/Tzfrzvdk2RI/AAAAAAAAAqw/O08E7oFsAIs/s1600/alan-turing.jpeg\" />"
   ]
  },
  {
   "cell_type": "markdown",
   "metadata": {},
   "source": [
    "<h1>Liens :"
   ]
  },
  {
   "cell_type": "markdown",
   "metadata": {},
   "source": [
    "Un lien hypertexte est un élement HTML permettant d'envoyer le visiteur vers une nouvelle page. On peut insérer dans\n",
    "cet élément toute sorte de textes, images et autres balises dites \"inline\" (comme les balises <b>span</b>, <b>strong</b>, etc).\n",
    "Un lien sera représenté dans le code par la balise <b>a</b>. Tout ce qui sera dans cette balise fera office de lien. L'adresse\n",
    "de destination doit se trouver dans l'attribut href.\n",
    "L'attribut title, quant à lui, permet de renseigner un petit descriptif sur le contenu de la page cible, et est un atout non\n",
    "néligeable en matière de référencement et d'accessibilité."
   ]
  },
  {
   "cell_type": "raw",
   "metadata": {},
   "source": [
    "Exemple d'un lien texte :\n",
    "<a href=\"adresse/de/destination.html\">Texte du lien</a>"
   ]
  },
  {
   "cell_type": "markdown",
   "metadata": {},
   "source": [
    "Les ancres permettent de naviguer à l'intérieur d'une même page. \n",
    "Pour faire une ancre, il faut utiliser le signe dièse (#) suivi d'un mot-clef. Ce mot-clef sera repris dans l'attribut id d'une\n",
    "balise à laquelle on fait faire une ancre"
   ]
  },
  {
   "cell_type": "raw",
   "metadata": {},
   "source": [
    "Exemple de l'ancre :\n",
    "<a href=\"#motClé\">texte de l'ancre</a>\n",
    "...\n",
    "...\n",
    "...\n",
    "<h2 id=\"motClé\">texte vers lequel l'ancre est renvoyée</h2>"
   ]
  },
  {
   "cell_type": "raw",
   "metadata": {},
   "source": [
    "Exemple d'une ancre externe :\n",
    "<a href=\"adresse/de/destination.html#motClef\">Texte de mon ancre</a>"
   ]
  },
  {
   "cell_type": "raw",
   "metadata": {},
   "source": [
    "Exemple d'un lien vers une adresse e-mail :\n",
    "<a href=\"mailto:travail.nsi@free.fr\">envoyez-moi un courriel</a>"
   ]
  },
  {
   "cell_type": "raw",
   "metadata": {},
   "source": [
    "Infobulle sur le lien :\n",
    "<a href=\"adresse/de/destination.html\" title=\"Description de la page cible\">Texte du lien</a>"
   ]
  },
  {
   "cell_type": "markdown",
   "metadata": {},
   "source": [
    "<h1>Les listes :"
   ]
  },
  {
   "cell_type": "raw",
   "metadata": {},
   "source": [
    "<p>Liste de courses :</p>\n",
    "<ul>\n",
    "<li>Pâtes</li>\n",
    "<li>Farine</li>\n",
    "<li>Champoing</li>\n",
    "<li>ect...</li>\n",
    "</ul>"
   ]
  },
  {
   "cell_type": "code",
   "execution_count": null,
   "metadata": {},
   "outputs": [],
   "source": [
    "%%html\n",
    "<p>Liste de courses :</p>\n",
    "<ul>\n",
    "<li>Pâtes</li>\n",
    "<li>Farine</li>\n",
    "<li>Champoing</li>\n",
    "<li>ect...</li>\n",
    "</ul>"
   ]
  },
  {
   "cell_type": "code",
   "execution_count": null,
   "metadata": {},
   "outputs": [],
   "source": [
    "%%html\n",
    "<p>Liste de courses :</p>\n",
    "<ul type=\"square\">\n",
    "<li>Pâtes</li>\n",
    "<li>Farine</li>\n",
    "<li>Champoing</li>\n",
    "<li>ect...</li>\n",
    "</ul>"
   ]
  },
  {
   "cell_type": "code",
   "execution_count": null,
   "metadata": {},
   "outputs": [],
   "source": [
    "%%html \n",
    "<p>Chapitres de snt :</p>\n",
    "<ol>\n",
    "<li>Python</li>\n",
    "<li>Internet</li>\n",
    "<li>WEB</li>\n",
    "</ol>"
   ]
  },
  {
   "cell_type": "code",
   "execution_count": null,
   "metadata": {},
   "outputs": [],
   "source": [
    "%%html \n",
    "<p>Chapitres de snt :</p>\n",
    "<ol type=\"A\">\n",
    "<li>Python</li>\n",
    "<li>Internet</li>\n",
    "<li>WEB</li>\n",
    "</ol>"
   ]
  },
  {
   "cell_type": "raw",
   "metadata": {},
   "source": [
    "Tableau de deux lignes et deux colonnes :\n",
    "<table border=\"1\">\n",
    "<tr>\n",
    "<td>Cellule 1</td>\n",
    "<td>Cellule 2</td>\n",
    "</tr>\n",
    "<tr>\n",
    "<td>Cellule 3</td>\n",
    "<td>Cellule 4</td>\n",
    "</tr>\n",
    "</table>"
   ]
  },
  {
   "cell_type": "code",
   "execution_count": null,
   "metadata": {},
   "outputs": [],
   "source": [
    "%%html\n",
    "<table border=\"1\">\n",
    "<tr>\n",
    "<td>Cellule 1</td>\n",
    "<td>Cellule 2</td>\n",
    "</tr>\n",
    "<tr>\n",
    "<td>Cellule 3</td>\n",
    "<td>Cellule 4</td>\n",
    "</tr>\n",
    "</table>"
   ]
  },
  {
   "cell_type": "code",
   "execution_count": null,
   "metadata": {},
   "outputs": [],
   "source": [
    "%%html \n",
    "<table border=\"1\">\n",
    "<caption align=\"bottom\">Notes de la classe de 2nd 5</caption>\n",
    "<tr>\n",
    "<th>Elèves</th>\n",
    "<th>Français</th>\n",
    "<th>Mathématiques</th>\n",
    "<th>Histoire</th>\n",
    "<th>Sport</th>\n",
    "</tr>\n",
    "<tr>\n",
    "<td>Laurent</td>\n",
    "<td>14</td>\n",
    "<td>10</td>\n",
    "<td>11</td>\n",
    "<td>11</td>\n",
    "</tr>\n",
    "<tr>\n",
    "<td>Carla</td>\n",
    "<td>14</td>\n",
    "<td>10</td>\n",
    "<td>11</td>\n",
    "<td>11</td>\n",
    "</tr>\n",
    "</table>"
   ]
  },
  {
   "cell_type": "code",
   "execution_count": null,
   "metadata": {},
   "outputs": [],
   "source": [
    "%%html\n",
    "<table border=\"1\">\n",
    "<tr>\n",
    "<td colspan=\"5\">Cellule qui se répend sur 5 colonnes</td>\n",
    "</tr>\n",
    "<tr>\n",
    "<td>Colonne 1</td>\n",
    "<td>Colonne 2</td>\n",
    "<td>Colonne 3</td>\n",
    "<td>Colonne 4</td>\n",
    "<td>Colonne 5</td>\n",
    "</tr>\n",
    "<tr>\n",
    "<td>Colonne 1.1</td>\n",
    "<td>Colonne 2.1</td>\n",
    "<td>Colonne 3.1</td>\n",
    "<td>Colonne 4.1</td>\n",
    "<td>Colonne 5.1</td>\n",
    "</tr>\n",
    "<tr>\n",
    "<td>Colonne 1.2</td>\n",
    "<td>Colonne 2.2</td>\n",
    "<td>Colonne 3.2</td>\n",
    "<td>Colonne 4.2</td>\n",
    "<td>Colonne 5.2</td>\n",
    "</tr>\n",
    "</table>"
   ]
  },
  {
   "cell_type": "markdown",
   "metadata": {},
   "source": [
    "<h1> Les formulaires (fonctionne avec php par exemple)"
   ]
  },
  {
   "cell_type": "markdown",
   "metadata": {},
   "source": [
    "<h1>le CSS interne :"
   ]
  },
  {
   "cell_type": "markdown",
   "metadata": {},
   "source": [
    "Les CSS ( Cascading Style Sheets en anglais, ou « feuilles de style en cascade ») sont le code utilisé pour mettre en forme une page web. "
   ]
  },
  {
   "cell_type": "raw",
   "metadata": {},
   "source": [
    "%%html\n",
    "<head>\n",
    "  <style type=\"text/css\">\n",
    "    div \n",
    "    {\n",
    "      background-color:#339;\n",
    "      color:#fff;\n",
    "      padding:15px;\n",
    "      border-bottom:5px solid red;\n",
    "      margin-bottom:15px;\n",
    "    }\n",
    "  </style>\n",
    "</head>\n",
    " \n",
    "<body>\n",
    "  <div>\n",
    "    Cette phrase est présentée en fonction du style défini dans l'en-tête\n",
    "  </div>\n",
    "  <div>\n",
    "    Cette phrase aussi, est pourtant le style n'a été défini qu'une fois !\n",
    "  </div>\n",
    "</body>"
   ]
  },
  {
   "cell_type": "code",
   "execution_count": 30,
   "metadata": {},
   "outputs": [
    {
     "data": {
      "text/html": [
       "<div style=\"background-color:orange; border:1px solid black; color:yellow; font-size:150%; padding:1em;\">\n",
       "  Cette balise div a du style !\n",
       "</div>\n"
      ],
      "text/plain": [
       "<IPython.core.display.HTML object>"
      ]
     },
     "metadata": {},
     "output_type": "display_data"
    }
   ],
   "source": [
    "%%html\n",
    "<div style=\"background-color:orange; border:1px solid black; color:yellow; font-size:150%; padding:1em;\">\n",
    "  Cette balise div a du style !\n",
    "</div>"
   ]
  },
  {
   "cell_type": "markdown",
   "metadata": {},
   "source": [
    " La façon idéale de définir les CSS consiste à les enregistrer dans un document indépendant de vos pages (X)HTML. Grâce à cette méthode, toutes les pages qui font référence à cette feuille de style externe hériteront de toutes ses définitions.\n",
    "\n",
    "Un autre intérêt de cette méthode est de pouvoir définir plusieurs feuilles de styles pour le même contenu et de basculer d'une feuille à l'autre en fonction du support sur lequel le contenu est affiché (écran, imprimante, etc.)."
   ]
  },
  {
   "cell_type": "markdown",
   "metadata": {},
   "source": [
    "Lier une page html avec une feuille de style css :"
   ]
  },
  {
   "cell_type": "raw",
   "metadata": {},
   "source": [
    "<!DOCTYPE html>\n",
    "<html lang=\"fr\">\n",
    "<head>\n",
    "\t<meta charset=\"UTF-8\">\n",
    "    <link rel=\"stylesheet\" type=\"text/css\" href=\"chemin/du/fichier.css\">\n",
    "</head>\n",
    "<body>\n",
    "\tLe code HTML ici\n",
    "</body>\n",
    "</html>"
   ]
  },
  {
   "cell_type": "markdown",
   "metadata": {},
   "source": [
    "exemple de feuille de style css :"
   ]
  },
  {
   "cell_type": "raw",
   "metadata": {},
   "source": [
    "html, body {\n",
    " margin: 0;\n",
    " padding: 0;\n",
    " }\n",
    "body {\n",
    " background-color: white; \n",
    " font-family: Verdana, sans-serif; \n",
    " font-size: 100%;\n",
    " }\n",
    "h1 {\n",
    " font-size: 200%; \n",
    " color: navy; \n",
    " text-align: center;\n",
    " }\n",
    "h2 {\n",
    " font-size: 150%; \n",
    " color: red; \n",
    " padding-left: 15px;\n",
    " }\n",
    "p,ul,li,td {\n",
    " color: black; \n",
    " }\n",
    "a:link {\n",
    " color: green;\n",
    " text-decoration: underline;\n",
    " }\n",
    "a:visited {\n",
    " color: gray;\n",
    " }\n",
    "a:hover {\n",
    " color: red;\n",
    " text-decoration: none;\n",
    "}\n",
    "a:active, a:focus {\n",
    " color: red;\n",
    "}"
   ]
  },
  {
   "cell_type": "markdown",
   "metadata": {},
   "source": [
    "<b><i>générateur de css :"
   ]
  },
  {
   "cell_type": "markdown",
   "metadata": {},
   "source": [
    "http://boraklerouge.free.fr/CSS-Auto/index.html"
   ]
  },
  {
   "cell_type": "markdown",
   "metadata": {},
   "source": [
    "<h1>Le TP se termine ici, mais voici en plus pas mal de CSS :"
   ]
  },
  {
   "cell_type": "markdown",
   "metadata": {},
   "source": [
    "Sélecteurs simples :"
   ]
  },
  {
   "cell_type": "raw",
   "metadata": {},
   "source": [
    "/* --- Base --- */\n",
    "* { ... }                /* Tous les tags */\n",
    "p { ... }                /* paragraphe */\n",
    "h1, h2, h3 { ... }       /* Titre 1 ou titre 2 ou titre 3 */\n",
    "\n",
    "/* --- Classe ou identifiant --- */\n",
    "h1.letitre { ... }       /* Titre 1 dont la classe est \"letitre\" */\n",
    "h1#letitre { ... }       /* Titre 1 dont l'ID est \"letitre\" */\n",
    ".letitre { ... }         /* Tout Tag dont la classe est \"letitre\" */\n",
    "#letitre { ... }         /* Le Tag dont l'ID est \"letitre\" */\n",
    "\n",
    "/* --- Lien --- */\n",
    "a:link { ... }           /* Lien non visité */\n",
    "a:visited { ... }        /* Lien visité */\n",
    "a:hover, a:focus { ... } /* Lien survolé ou ayant le focus */\n",
    "a:active { ... }         /* Lien actif (état cliqué) */\n",
    "\n",
    "/* --- autre Pseudo-classe --- */\n",
    "p:first-letter { ... }   /* Premier caractère de l'élément P */\n",
    "div:first-line { ... }   /* Première ligne de l'élément DIV */\n",
    "div:first-child { ... }  /* Premier élément d'un bloc DIV */"
   ]
  },
  {
   "cell_type": "markdown",
   "metadata": {},
   "source": [
    "Sélecteurs hiérachiques :"
   ]
  },
  {
   "cell_type": "raw",
   "metadata": {},
   "source": [
    "/* --- Base --- */\n",
    "div p { ... }            /* Tous les tags p contenu dans un tag div */\n",
    "div.cl p { ... }         /* Tous les tags p contenu dans un tag div de classe \"cl\" */\n",
    "div#id p { ... }         /* Tous les tags p contenu dans un tag div d'ID \"id\" */\n",
    "\n",
    "/* --- Hierachie évoluée --- */\n",
    "div > p { ... }          /* Tous les tags p directement contenu dans un tag div */\n",
    "div + p { ... }          /* Tous les tags p précédé par un tag div */\n",
    "div:lang(fr) { ... }     /* Tag div dont le contenu est déclaré français */\n",
    "\n",
    "/* --- Sélecteur sur Attribut à partir de IE7 --- */\n",
    "div[class] { ... }       /* Tous les tags div contenant un attribut \"class\" */\n",
    "div[width][height] { ... } /* Tous les tags div contenant un attribut \"width\" et \"height\" */\n",
    "div[class=\"cl\"] { ... }  /* Tous les tags div contenant un attribut \"class\" \n",
    "                            égal à \"cl\" */\n",
    "div[class^=\"cl\"] { ... } /* Tous les tags div contenant un attribut \"class\"\n",
    "                            qui débute par \"cl\" */\n",
    "div[class$=\"cl\"] { ... } /* Tous les tags div contenant un attribut \"class\"\n",
    "                            qui se termine par \"cl\" */\n",
    "div[class*=\"cl\"] { ... } /* Tous les tags div contenant un attribut \"class\"\n",
    "                            qui contient \"cl\" */\n",
    "div[class~=\"cl\"] { ... } /* Tous les tags div contenant un attribut \"class\"\n",
    "                            dont l'une des valeurs est \"cl\" */"
   ]
  },
  {
   "cell_type": "markdown",
   "metadata": {},
   "source": [
    "choix global d'une police de caractères: "
   ]
  },
  {
   "cell_type": "raw",
   "metadata": {},
   "source": [
    "font: bold 12px/14px Arial ;"
   ]
  },
  {
   "cell_type": "markdown",
   "metadata": {},
   "source": [
    "Choix de la police de caractères:"
   ]
  },
  {
   "cell_type": "code",
   "execution_count": null,
   "metadata": {},
   "outputs": [],
   "source": [
    "font-family: \"Times New Roman\", serif ;\n",
    "font-family: Georgia, serif ;\n",
    "font-family: Arial, sans-serif ;\n",
    "font-family: Helvetica, Verdana, sans-serif ;\n",
    "font-family: \"Courier New\", monospace ;"
   ]
  },
  {
   "cell_type": "markdown",
   "metadata": {},
   "source": [
    "Taille de la police de caractères :"
   ]
  },
  {
   "cell_type": "raw",
   "metadata": {},
   "source": [
    "font-size: 1em ;\n",
    "font-size: 12px ;\n",
    "font-size: 100% ;\n",
    "font-size: 12pt ;\n",
    "font-size: 12px ;"
   ]
  },
  {
   "cell_type": "markdown",
   "metadata": {},
   "source": [
    "Couleur de la police :"
   ]
  },
  {
   "cell_type": "raw",
   "metadata": {},
   "source": [
    "color: white ;\n",
    "color: #FFFFFF ;\n",
    "color: rgb(255,255,255) ;\n",
    "color: transparent ;"
   ]
  },
  {
   "cell_type": "markdown",
   "metadata": {},
   "source": [
    "Style :"
   ]
  },
  {
   "cell_type": "code",
   "execution_count": null,
   "metadata": {},
   "outputs": [],
   "source": [
    "font-style: normal ;\n",
    "font-style: italic ;\n",
    "font-style: oblique ;"
   ]
  },
  {
   "cell_type": "markdown",
   "metadata": {},
   "source": [
    "Epaisseur :"
   ]
  },
  {
   "cell_type": "raw",
   "metadata": {},
   "source": [
    "font-weight: normal ;\n",
    "font-weight: bold ;\n",
    "font-weight: bolder ;"
   ]
  },
  {
   "cell_type": "markdown",
   "metadata": {},
   "source": [
    "Soulignement ou surlignement :"
   ]
  },
  {
   "cell_type": "raw",
   "metadata": {},
   "source": [
    "text-decoration: none ;\n",
    "text-decoration: underline ;\n",
    "text-decoration: line-through ;\n",
    "text-decoration: overline ;"
   ]
  },
  {
   "cell_type": "markdown",
   "metadata": {},
   "source": [
    "Forcer en majuscules/minuscules :"
   ]
  },
  {
   "cell_type": "raw",
   "metadata": {},
   "source": [
    "text-transform: capitalize ;\n",
    "text-transform: uppercase ;\n",
    "text-transform: lowercase ;"
   ]
  },
  {
   "cell_type": "markdown",
   "metadata": {},
   "source": [
    "Alignement :"
   ]
  },
  {
   "cell_type": "raw",
   "metadata": {},
   "source": [
    "text-align: left ;\n",
    "text-align: center ;\n",
    "text-align: right ;\n",
    "text-align: justify ;"
   ]
  },
  {
   "cell_type": "markdown",
   "metadata": {},
   "source": [
    "Décalage de la première ligne du texte :"
   ]
  },
  {
   "cell_type": "raw",
   "metadata": {},
   "source": [
    "text-indent: 5px ;\n",
    "text-indent: 5em ;\n",
    "text-indent: 100% ;"
   ]
  },
  {
   "cell_type": "markdown",
   "metadata": {},
   "source": [
    "Hauteurs et espacements :"
   ]
  },
  {
   "cell_type": "raw",
   "metadata": {},
   "source": [
    "line-height: normal ;\n",
    "line-height: 1em ;\n",
    "line-height: 12px ;\n",
    "line-height: 100% ;\n",
    "line-height: 12pt ;\n",
    "line-height: 12px ;\n",
    "\n",
    "letter-spacing: normal ;\n",
    "letter-spacing: 12px ;\n",
    "letter-spacing: 100% ;\n",
    "letter-spacing: 12pt ;\n",
    "letter-spacing: 12px ;\n",
    "    \n",
    "word-spacing: normal ;\n",
    "word-spacing: 12px ;\n",
    "word-spacing: 100% ;\n",
    "word-spacing: 12pt ;\n",
    "word-spacing: 12px ;"
   ]
  },
  {
   "cell_type": "markdown",
   "metadata": {},
   "source": [
    "Arrière-Plans :"
   ]
  },
  {
   "cell_type": "raw",
   "metadata": {},
   "source": [
    "background-color: red url(images/fond.png) no-repeat scroll center top ;\n",
    "\n",
    "background-color: red ;\n",
    "background-color: #FF0000 ;\n",
    "background-color: rgb(255,0,0) ;\n",
    "\n",
    "background-image: url(Images/LaBelleImage) ;\n",
    "\n",
    "background-repeat: repeat ;\n",
    "background-repeat: repeat-x ;\n",
    "background-repeat: repeat-y ;\n",
    "background-repeat: no-repeat ;\n",
    "\n",
    "background-attachment: scroll ;\n",
    "background-attachment: fixed ;\n",
    "\n",
    "background-position: left top ;\n",
    "background-position: center center ;\n",
    "background-position: right bottom ;\n",
    "background-position: 50% 50% ;\n",
    "background-position: 5px 10px ;\n",
    "    "
   ]
  },
  {
   "cell_type": "markdown",
   "metadata": {},
   "source": [
    "Marges autour des blocs :"
   ]
  },
  {
   "cell_type": "raw",
   "metadata": {},
   "source": [
    "margin: 1em ;              /* 1em de chaque coté */\n",
    "margin: 10px 20px ;        /* Haut et bas : 10px, droite et gauche 20px */\n",
    "margin: 10px auto ;        /* Centré à droite et à gauche */\n",
    "margin: 1px 2px 3px 4px ;  /* Marge Haut, droite, bas, gauche */\n",
    "margin-top: 10%;       margin-bottom: 20px;\n",
    "margin-right: 30px;    margin-left:   40px; "
   ]
  },
  {
   "cell_type": "markdown",
   "metadata": {},
   "source": [
    "Marges à l'intérieur des blocs :"
   ]
  },
  {
   "cell_type": "raw",
   "metadata": {},
   "source": [
    "padding: 1em ;              /* 1em de chaque coté */\n",
    "padding: 10px 20px ;        /* Haut et bas : 10px, droite et gauche 20px */\n",
    "padding: 1px 2px 3px 4px ;  /* padding Haut, droite, bas, gauche */\n",
    "padding-top: 10%;       padding-bottom: 20px;\n",
    "padding-right: 30px;    padding-left:   40px;"
   ]
  },
  {
   "cell_type": "markdown",
   "metadata": {},
   "source": [
    "Bordure :"
   ]
  },
  {
   "cell_type": "raw",
   "metadata": {},
   "source": [
    "border: 5px dotted green ;\n",
    "\n",
    "border-width: 5px ;\n",
    "border-width: 0.3em ;\n",
    "border-width: 1px 2px 3px 4px ;  /* bordure Haut, droite, bas, gauche */\n",
    "border-width-top: 1px ;\n",
    "\n",
    "border-color: red ;\n",
    "border-color: #FF0000 ;\n",
    "border-color: rgb(255,0,0) ;\n",
    "\n",
    "border-style: none ;\n",
    "\n",
    "border-style: solid ;\n",
    "\n",
    "border-style: dotted ;\n",
    "\n",
    "border-style: dashed ;\n",
    "\n",
    "border-style: inset ;\n",
    "\n",
    "border-style: outset ;\n",
    "\n",
    "border-style: double ;\n",
    "\n",
    "border-style: groove ;\n",
    "\n",
    "border-style: ridge ;"
   ]
  },
  {
   "cell_type": "markdown",
   "metadata": {},
   "source": [
    "Pointeur :"
   ]
  },
  {
   "cell_type": "raw",
   "metadata": {},
   "source": [
    "cursor: auto ;\n",
    "cursor: pointer ;\n",
    "cursor: defaut ;\n",
    "cursor: crosshair ;\n",
    "cursor: move ;\n",
    "cursor: help ;\n",
    "cursor: wait ;"
   ]
  },
  {
   "cell_type": "markdown",
   "metadata": {},
   "source": [
    "Tableaux :"
   ]
  },
  {
   "cell_type": "raw",
   "metadata": {},
   "source": [
    "Séparation ou collage des cellules du tableau :\n",
    "border-collapse: separate;\n",
    "border-collapse: collapse;\n",
    "\n",
    "Taille de l'espacement entre les cellules :\n",
    "border-spacing: 3px;\n",
    "border-spacing: 1em;\n",
    "\n",
    "Gère l'affichage ou non d'une cellule si elle est vide :\n",
    "empty-cell: hide;\n",
    "empty-cell: show;\n",
    "\n",
    "légende du tableau :\n",
    "caption-side: top;\n",
    "caption-side: right;\n",
    "caption-side: bottom;\n",
    "caption-side: left;\n",
    "\n",
    "Alignement vertical dans la cellule :\n",
    "vertical-align: baseline;\n",
    "vertical-align: top;\n",
    "vertical-align: middle;\n",
    "vertical-align: bottom;\n",
    "\n",
    "Technique de calcul des la taille des cellules du tableau :\n",
    "table-layout: auto;\n",
    "table-layout: fixed;"
   ]
  },
  {
   "cell_type": "markdown",
   "metadata": {},
   "source": [
    "Mode d'affichage (ou non) d'un bloc ou d'un élément : "
   ]
  },
  {
   "cell_type": "raw",
   "metadata": {},
   "source": [
    "display: none;\n",
    "display: block;\n",
    "display: inline;"
   ]
  },
  {
   "cell_type": "markdown",
   "metadata": {},
   "source": [
    "Positionnement :"
   ]
  },
  {
   "cell_type": "raw",
   "metadata": {},
   "source": [
    "width: 0;\n",
    "width: 400px;\n",
    "width: 50em;\n",
    "width: 60%;\n",
    "min-width: 100px;\n",
    "max-width: 100px;\n",
    "height: 0;\n",
    "height: 60%;\n",
    "min-height: 100px;\n",
    "max-height: 100px;\n",
    "\n",
    "position: static ;  /* par défaut */\n",
    "position: absolute ;\n",
    "position: fixed ;\n",
    "position: relative ;\n",
    "\n",
    "top: 5px ;\n",
    "right: 10em ;\n",
    "bottom: 0 ;\n",
    "left: 10% ;\n",
    "\n",
    "float: none ;\n",
    "float: left ;\n",
    "float: right ;\n",
    "\n",
    "overflow-x: auto ;\n",
    "overflow-x: visible ;\n",
    "overflow-y: hidden ;\n",
    "overflow-y: scroll ;\n",
    "\n",
    "z-index: auto ;\n",
    "z-index: 10 ;\n",
    "z-index: 999 ;"
   ]
  },
  {
   "cell_type": "markdown",
   "metadata": {},
   "source": [
    "Liste :"
   ]
  },
  {
   "cell_type": "raw",
   "metadata": {},
   "source": [
    "liste-style: circle outside url(toto.jpg) ;\n",
    "    \n",
    "liste-style-type: none ;\n",
    "liste-style-type: disc ;\n",
    "liste-style-type: circle ;\n",
    "liste-style-type: square ;\n",
    "liste-style-type: decimal ;\n",
    "liste-style-type: upper-roman ;\n",
    "liste-style-type: lower-alpha ;\n",
    "liste-style-type: upper-alpha ;\n",
    "\n",
    "liste-style-position: outside ;\n",
    "liste-style-position: inside ;\n",
    "\n",
    "liste-style-image: none ;\n",
    "liste-style-image: url(images/point.jpg) ;\n"
   ]
  },
  {
   "cell_type": "markdown",
   "metadata": {},
   "source": [
    "Page :"
   ]
  },
  {
   "cell_type": "raw",
   "metadata": {},
   "source": [
    "page d'impression :\n",
    "size: auto ;\n",
    "size: portrait ;\n",
    "size: landscape ;\n",
    "\n",
    "Force un saut de ligne avant ou après un objet:\n",
    "page-break-after: auto ;\n",
    "page-break-before: always ;   /* Saut de page à faire  */\n",
    "page-break-before: avoid ;    /* Saut de page à éviter */"
   ]
  },
  {
   "cell_type": "markdown",
   "metadata": {},
   "source": [
    "Coin arrondi sur tout un bloc :\n",
    "    "
   ]
  },
  {
   "cell_type": "raw",
   "metadata": {},
   "source": [
    "div.page \n",
    "{  border-radius:         8px ;\n",
    "   -webkit-border-radius: 8px ;\n",
    "   -moz-border-radius:    8px ;\n",
    "   -khtml-border-radius:  8px ;\n",
    "}"
   ]
  },
  {
   "cell_type": "markdown",
   "metadata": {},
   "source": [
    "Coin arrondi sur la partie haute d'un bloc :"
   ]
  },
  {
   "cell_type": "raw",
   "metadata": {},
   "source": [
    "div.haut\n",
    "{  border-radius:         8px 8px 0 0 ;\n",
    "   -moz-border-radius:    8px 8px 0 0 ;\n",
    "   -webkit-border-top-left-radius:  8px ;\n",
    "   -webkit-border-top-right-radius: 8px ;\n",
    "   -khtml-border-radius:  8px 8px 0 0 ;\n",
    "}"
   ]
  },
  {
   "cell_type": "markdown",
   "metadata": {},
   "source": [
    "Ombrage décalé vers le bas et la droite, diffus de 6px d'une couleur grise :"
   ]
  },
  {
   "cell_type": "raw",
   "metadata": {},
   "source": [
    "div \n",
    "{  box-shadow:         3px 3px 6px #444 ;\n",
    "   -moz-box-shadow:    3px 3px 6px #444 ;\n",
    "   -webkit-box-shadow: 3px 3px 6px #444 ;\n",
    "   -khtml-box-shadow:  3px 3px 6px #444 ;\n",
    "}"
   ]
  },
  {
   "cell_type": "markdown",
   "metadata": {},
   "source": [
    "Ombrage peu décalé sur un tableau :"
   ]
  },
  {
   "cell_type": "raw",
   "metadata": {},
   "source": [
    "table \n",
    "{  box-shadow: 1px 1px 7px #666 ;\n",
    "   -moz-box-shadow: 1px 1px 7px #666 ;\n",
    "   -webkit-box-shadow: 1px 1px 7px #666 ;\n",
    "   -khtml-box-shadow: 1px 1px 7px #666 ;\n",
    "}"
   ]
  },
  {
   "cell_type": "markdown",
   "metadata": {},
   "source": [
    "Ombrage de texte décalé vers le bas et la droite, diffus de 3px d'une couleur grise :"
   ]
  },
  {
   "cell_type": "raw",
   "metadata": {},
   "source": [
    "h2, h3 \n",
    "{  text-shadow:  2px 2px 3px #999;\n",
    "}"
   ]
  },
  {
   "cell_type": "markdown",
   "metadata": {},
   "source": [
    "Rotation d'un bloc :"
   ]
  },
  {
   "cell_type": "raw",
   "metadata": {},
   "source": [
    "a:hover img \n",
    "{  transform-origin: 50% 50%;\n",
    "   transform: scale(1.00) rotate(-5deg) ;\n",
    "   -moz-transform-origin: 50% 50%;\n",
    "   -moz-transform: scale(1.00) rotate(-5deg) ;\n",
    "   -webkit-transform-origin: 50% 50%;\n",
    "   -webkit-transform: scale(1.00) rotate(-5deg) ;\n",
    "} "
   ]
  },
  {
   "cell_type": "markdown",
   "metadata": {},
   "source": [
    "source : http://boraklerouge.free.fr/CSS-AideMemoire/"
   ]
  },
  {
   "cell_type": "code",
   "execution_count": null,
   "metadata": {},
   "outputs": [],
   "source": []
  }
 ],
 "metadata": {
  "kernelspec": {
   "display_name": "Python 3",
   "language": "python",
   "name": "python3"
  },
  "language_info": {
   "codemirror_mode": {
    "name": "ipython",
    "version": 3
   },
   "file_extension": ".py",
   "mimetype": "text/x-python",
   "name": "python",
   "nbconvert_exporter": "python",
   "pygments_lexer": "ipython3",
   "version": "3.7.3"
  }
 },
 "nbformat": 4,
 "nbformat_minor": 2
}
