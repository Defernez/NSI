{
 "cells": [
  {
   "cell_type": "markdown",
   "metadata": {},
   "source": [
    "<h1>Chapitre 8 interface homme machine"
   ]
  },
  {
   "cell_type": "markdown",
   "metadata": {},
   "source": [
    "<h1><i>Informatique embarquée et objets connectés"
   ]
  },
  {
   "cell_type": "markdown",
   "metadata": {},
   "source": [
    "https://python.microbit.org/v/3"
   ]
  },
  {
   "cell_type": "markdown",
   "metadata": {},
   "source": [
    "source :https://apical.xyz/fiches/le_gpio_general_purpose_input_output/qu_est-ce_que_le_gpio"
   ]
  },
  {
   "cell_type": "markdown",
   "metadata": {},
   "source": [
    "![img](https://raw.githubusercontent.com/Defernez/NSI/main/%3CSNT%3E/InformatiqueEmbarqueeEtObjetsConnectes/IHMcapacites.png)"
   ]
  },
  {
   "cell_type": "markdown",
   "metadata": {},
   "source": [
    "![img](https://raw.githubusercontent.com/Defernez/NSI/main/%3CSNT%3E/InformatiqueEmbarqueeEtObjetsConnectes/IHMrpy.png)"
   ]
  },
  {
   "cell_type": "markdown",
   "metadata": {},
   "source": [
    "![img](https://raw.githubusercontent.com/Defernez/NSI/main/%3CSNT%3E/InformatiqueEmbarqueeEtObjetsConnectes/IHMuno.png)"
   ]
  },
  {
   "cell_type": "markdown",
   "metadata": {},
   "source": [
    "![img](https://raw.githubusercontent.com/Defernez/NSI/main/%3CSNT%3E/InformatiqueEmbarqueeEtObjetsConnectes/IHM628.png)"
   ]
  },
  {
   "cell_type": "markdown",
   "metadata": {},
   "source": [
    "L’arduino, le PIC16f628a et le Rapberry py, on en commun la faculté d’interagir avec l’extérieur grâce à leurs entrées et sorties. Ils sont tous les 3 programmables avec des langages de programmation. L’arduino se programme en C, le PIC16f628a en Assembleur et le Rapsberry py est un mini ordinateur qui fonctionne sous Linux (système d’exploitation comme Windows, Mac OS ou encore Android), le port d’entrée sortie est donc programmable avec de nombreux langages dont Python.\n",
    "\n",
    "Embarquer l’informatique dans les objets a beaucoup d’avantages : simplifier leur fonctionnement, leur donner plus de possibilités d’usage et de sûreté, et leur permettre d’intégrer de nouvelles possibilités à matériel constant par simple modification de leur logiciel.\n",
    "Après avoir transformé les chaînes de montage des automobiles et les avions dans les années quatre-vingt-dix, l’informatique intervient maintenant dans des domaines toujours plus nombreux : automobile, réseau ferroviaire et transports urbains, domotique, robotique, loisirs, etc., conduisant à un nouvel internet des objets.\n",
    "\n",
    "Pour les avions par exemple, l’informatique gère le vol en commandant finement des servomoteurs électriques, plus légers et plus fiables que les vérins hydrauliques, les réacteurs, la navigation et le pilotage automatique, et permet l’atterrissage automatique par temps de brouillard. Elle a eu un impact décisif sur l’amélioration de la sécurité aérienne.\n",
    "\n",
    "Les objets informatisés avaient autrefois des interfaces homme-machine (IHM) dédiées, souvent dépendantes d’une liaison filaire directe. Mais les technologies du Web intégrées au téléphone portable permettent maintenant d’y rassembler les interfaces des objets du quotidien, ce qui en simplifie et uniformise l’usage. Les objets informatisés deviennent ainsi connectés."
   ]
  },
  {
   "cell_type": "markdown",
   "metadata": {},
   "source": [
    "<b>Repères historiques"
   ]
  },
  {
   "cell_type": "markdown",
   "metadata": {},
   "source": [
    "👉️ 1967 : premier système embarqué de guidage lors de la mission lunaire Apollo <br>\n",
    "👉️ 1971 : premier processeur produit par Intel  <br>\n",
    "👉️ 1984 : sortie de l’Airbus 320, premier avion équipé de commandes électriques informatisées  <br>\n",
    "👉️ 1998 : mise en service du métro informatisé sans conducteur Météor (ligne 14 à Paris)  <br>\n",
    "👉️ 1999 : introduction de l’expression « internet des objets » par Kevin Ashton  <br>\n",
    "👉️ 2007 : arrivée du smartphone."
   ]
  },
  {
   "cell_type": "markdown",
   "metadata": {},
   "source": [
    "A l'échelle mondiale, il y avait 14,4 milliards d'objets connectés en 2022, selon le cabinet d'études de marché américain IoT Analytics. Dans une étude parue en janvier 2022, l'Ademe et l'Arcep estiment à 244 millions le nombre d'objets connectés en France. Mais en connaître la part exacte en France n'est pas une mince affaire. \"Il n'y a pas de chiffre pour la France pour la simple raison que personne ne s'accorde sur la définition exacte d'objet connecté\", analyse Aymeric Buthion, en charge du marketing et de l'animation territoriale au sein du groupe Caisse des Dépôts, qui a travaillé sur un rapport portant sur les réseaux IoT en zone peu dense. https://www.journaldunet.fr/web-tech/dictionnaire-de-l-iot/1498593-marche-de-l-iot-en-france-tous-les-chiffres-20230118/"
   ]
  },
  {
   "cell_type": "markdown",
   "metadata": {},
   "source": [
    "## 1. Interface homme-machine dans un programme Python"
   ]
  },
  {
   "cell_type": "markdown",
   "metadata": {},
   "source": [
    "Dans ce premier exemple, nous utilisons la bibliothèque Tkinter qui permet de réaliser facilement des programmes avec une interface graphique, similaire à ce que vous avez l'habitude d'utiliser sous Windows. Il s'agit d'une interface homme-machine, car elle nous permet de saisir des données et de demander à la machine de les traiter en appuyant sur la touche 'Valider'."
   ]
  },
  {
   "cell_type": "code",
   "execution_count": 1,
   "metadata": {},
   "outputs": [],
   "source": [
    "import tkinter as tk\n",
    "\n",
    "def on_button_click():\n",
    "    user_input = entry.get()\n",
    "    label_result.config(text=f\"Vous avez saisi : {user_input}\")\n",
    "\n",
    "# Création de la fenêtre principale\n",
    "fenetre = tk.Tk()\n",
    "fenetre.title(\"Interface Homme-Machine\")\n",
    "\n",
    "# Création d'un label\n",
    "label = tk.Label(fenetre, text=\"Entrez quelque chose :\")\n",
    "label.pack()\n",
    "\n",
    "# Création d'une zone de saisie (entry)\n",
    "entry = tk.Entry(fenetre)\n",
    "entry.pack()\n",
    "\n",
    "# Création d'un bouton\n",
    "button = tk.Button(fenetre, text=\"Valider\", command=on_button_click)\n",
    "button.pack()\n",
    "\n",
    "# Création d'un label pour afficher le résultat\n",
    "label_result = tk.Label(fenetre, text=\"\")\n",
    "label_result.pack()\n",
    "\n",
    "# Lancement de la boucle principale\n",
    "fenetre.mainloop()"
   ]
  },
  {
   "cell_type": "markdown",
   "metadata": {},
   "source": [
    "Dans ce second exemple, nous utilisons la bibliothèque ipywidgets qui permet de réaliser facilement des Interfaces Hommes-Machines directement dans un notebook Jupyter."
   ]
  },
  {
   "cell_type": "code",
   "execution_count": 2,
   "metadata": {},
   "outputs": [
    {
     "data": {
      "application/vnd.jupyter.widget-view+json": {
       "model_id": "37052686575f42668061efb607143447",
       "version_major": 2,
       "version_minor": 0
      },
      "text/plain": [
       "Text(value='', description='Saisissez quelque chose:')"
      ]
     },
     "metadata": {},
     "output_type": "display_data"
    },
    {
     "data": {
      "application/vnd.jupyter.widget-view+json": {
       "model_id": "7f0a71ea8f594fc795ce560e38b94c93",
       "version_major": 2,
       "version_minor": 0
      },
      "text/plain": [
       "Button(description='Valider', style=ButtonStyle())"
      ]
     },
     "metadata": {},
     "output_type": "display_data"
    },
    {
     "data": {
      "application/vnd.jupyter.widget-view+json": {
       "model_id": "864a01a7d45f4ff8b405b2e641060cf7",
       "version_major": 2,
       "version_minor": 0
      },
      "text/plain": [
       "Output()"
      ]
     },
     "metadata": {},
     "output_type": "display_data"
    }
   ],
   "source": [
    "import ipywidgets as widgets\n",
    "from IPython.display import display\n",
    "\n",
    "# Création de widgets\n",
    "text_input = widgets.Text(description='Saisissez quelque chose:')\n",
    "output = widgets.Output()\n",
    "\n",
    "# Fonction appelée lors de la soumission du formulaire\n",
    "def on_button_click(b):\n",
    "    with output:\n",
    "        print(f\"Vous avez saisi : {text_input.value}\")\n",
    "\n",
    "# Création d'un bouton\n",
    "button = widgets.Button(description=\"Valider\")\n",
    "button.on_click(on_button_click)\n",
    "\n",
    "# Affichage des widgets\n",
    "display(text_input)\n",
    "display(button)\n",
    "display(output)\n"
   ]
  },
  {
   "cell_type": "markdown",
   "metadata": {},
   "source": [
    "Voici un exemple offrant davantage d'interactions."
   ]
  },
  {
   "cell_type": "code",
   "execution_count": 3,
   "metadata": {},
   "outputs": [
    {
     "data": {
      "application/vnd.jupyter.widget-view+json": {
       "model_id": "ab9b5891c0404521a7c1f7c07d377ba1",
       "version_major": 2,
       "version_minor": 0
      },
      "text/plain": [
       "Text(value='', description='Saisissez quelque chose:')"
      ]
     },
     "metadata": {},
     "output_type": "display_data"
    },
    {
     "data": {
      "application/vnd.jupyter.widget-view+json": {
       "model_id": "69dd67c2f34a456db63f82ab5801b981",
       "version_major": 2,
       "version_minor": 0
      },
      "text/plain": [
       "IntSlider(value=0, description='Choisissez un nombre:')"
      ]
     },
     "metadata": {},
     "output_type": "display_data"
    },
    {
     "data": {
      "application/vnd.jupyter.widget-view+json": {
       "model_id": "ff027786cd5f415190aff59b73e840c4",
       "version_major": 2,
       "version_minor": 0
      },
      "text/plain": [
       "Checkbox(value=False, description='Cochez cette case:')"
      ]
     },
     "metadata": {},
     "output_type": "display_data"
    },
    {
     "data": {
      "application/vnd.jupyter.widget-view+json": {
       "model_id": "6276ad1c43c545159d909da26618f238",
       "version_major": 2,
       "version_minor": 0
      },
      "text/plain": [
       "Dropdown(description='Sélectionnez une option:', options=('Option 1', 'Option 2', 'Option 3'), value='Option 1…"
      ]
     },
     "metadata": {},
     "output_type": "display_data"
    },
    {
     "data": {
      "application/vnd.jupyter.widget-view+json": {
       "model_id": "7beecc6553a64b2686cbb55fa602498d",
       "version_major": 2,
       "version_minor": 0
      },
      "text/plain": [
       "Button(description='Valider', style=ButtonStyle())"
      ]
     },
     "metadata": {},
     "output_type": "display_data"
    },
    {
     "data": {
      "application/vnd.jupyter.widget-view+json": {
       "model_id": "6a0dc960836f4bad9932aea0b0f806ac",
       "version_major": 2,
       "version_minor": 0
      },
      "text/plain": [
       "Output()"
      ]
     },
     "metadata": {},
     "output_type": "display_data"
    }
   ],
   "source": [
    "import ipywidgets as widgets\n",
    "from IPython.display import display\n",
    "\n",
    "# Création de différents widgets\n",
    "text_input = widgets.Text(description='Saisissez quelque chose:')\n",
    "slider = widgets.IntSlider(description='Choisissez un nombre:')\n",
    "checkbox = widgets.Checkbox(description='Cochez cette case:')\n",
    "dropdown = widgets.Dropdown(options=['Option 1', 'Option 2', 'Option 3'], description='Sélectionnez une option:')\n",
    "button = widgets.Button(description=\"Valider\")\n",
    "output = widgets.Output()\n",
    "\n",
    "# Fonction appelée lors du clic sur le bouton\n",
    "def on_button_click(b):\n",
    "    with output:\n",
    "        print(f\"Vous avez saisi : {text_input.value}\")\n",
    "        print(f\"Vous avez choisi : {slider.value}\")\n",
    "        print(f\"La case est cochée : {checkbox.value}\")\n",
    "        print(f\"Vous avez sélectionné : {dropdown.value}\")\n",
    "\n",
    "# Associer la fonction au clic du bouton\n",
    "button.on_click(on_button_click)\n",
    "\n",
    "# Afficher les widgets\n",
    "display(text_input)\n",
    "display(slider)\n",
    "display(checkbox)\n",
    "display(dropdown)\n",
    "display(button)\n",
    "display(output)\n"
   ]
  },
  {
   "cell_type": "markdown",
   "metadata": {},
   "source": [
    "<b>à faire: À l'aide de la bibliothèque ipywidgets, réalisez une IHM qui permet la saisie de 2 nombres par un utilisateur et d'en effectuer soit la somme, soit la différence, soit le produit, soit le quotient des 2 nombres."
   ]
  },
  {
   "cell_type": "code",
   "execution_count": 11,
   "metadata": {},
   "outputs": [
    {
     "data": {
      "application/vnd.jupyter.widget-view+json": {
       "model_id": "56c5e9c98b4540969b4fc894c6b15344",
       "version_major": 2,
       "version_minor": 0
      },
      "text/plain": [
       "Text(value='', description='Saisissez un premier nombre:')"
      ]
     },
     "metadata": {},
     "output_type": "display_data"
    },
    {
     "data": {
      "application/vnd.jupyter.widget-view+json": {
       "model_id": "1d0cc62400ea4d099c1e78db87090984",
       "version_major": 2,
       "version_minor": 0
      },
      "text/plain": [
       "Text(value='', description='Saisissez un second nombre:')"
      ]
     },
     "metadata": {},
     "output_type": "display_data"
    },
    {
     "data": {
      "application/vnd.jupyter.widget-view+json": {
       "model_id": "5fcff54a11d140d38f72548156be4dea",
       "version_major": 2,
       "version_minor": 0
      },
      "text/plain": [
       "Button(description='Valider', style=ButtonStyle())"
      ]
     },
     "metadata": {},
     "output_type": "display_data"
    },
    {
     "data": {
      "application/vnd.jupyter.widget-view+json": {
       "model_id": "aa88b94dadc84e638d3486284400fdf0",
       "version_major": 2,
       "version_minor": 0
      },
      "text/plain": [
       "Output()"
      ]
     },
     "metadata": {},
     "output_type": "display_data"
    }
   ],
   "source": [
    "# Votre code ici\n",
    "import ipywidgets as widgets\n",
    "from IPython.display import display\n",
    "\n",
    "\n",
    "Resultat = 0.0\n",
    "operation = \"somme\"\n",
    "# Création de différents widgets\n",
    "text_input_number1 = widgets.Text(description='Saisissez un premier nombre:')\n",
    "text_input_number2 = widgets.Text(description='Saisissez un second nombre:')\n",
    "# ect...\n",
    "# ect...\n",
    "# ect...\n",
    "button = widgets.Button(description=\"Valider\")\n",
    "output = widgets.Output()\n",
    "\n",
    "# Fonction appelée lors du clic sur le bouton\n",
    "def on_button_click(b):\n",
    "    with output:\n",
    "        if operation == \"somme\" :\n",
    "            Resultat = float(text_input_number1.value) + float(text_input_number2.value)\n",
    "        elif operation == \"produit\":\n",
    "            Resultat = float(text_input_number1.value) * float(text_input_number2.value)\n",
    "        # ect...\n",
    "        # ect ...\n",
    "        print(f\"Le calcul donne : {Resultat}\")\n",
    "        \n",
    "\n",
    "# Associer la fonction au clic du bouton\n",
    "button.on_click(on_button_click)\n",
    "\n",
    "# Afficher les widgets\n",
    "display(text_input_number1)\n",
    "display(text_input_number2)\n",
    "#ect...\n",
    "#ect...\n",
    "#ect...\n",
    "display(button)\n",
    "display(output)\n"
   ]
  },
  {
   "cell_type": "markdown",
   "metadata": {},
   "source": [
    "Nous allons maintenant utiliser la bibliothèque turtle qui permet à une tortue de dessiner à l'aide de lignes. Le code ci-dessous utilise également la bibliothèque random qui permet de choisir un nombre au hasard entre zéro et un."
   ]
  },
  {
   "cell_type": "code",
   "execution_count": 14,
   "metadata": {},
   "outputs": [
    {
     "name": "stdout",
     "output_type": "stream",
     "text": [
      "0.6120928142941795\n"
     ]
    }
   ],
   "source": [
    "from random import random\n",
    "print (random())"
   ]
  },
  {
   "cell_type": "code",
   "execution_count": 15,
   "metadata": {},
   "outputs": [],
   "source": [
    "from turtle import Turtle\n",
    "t = Turtle()\n",
    "t.right(45)\n",
    "t.fd(100)\n",
    "t.right(90)\n",
    "t.fd(50)"
   ]
  },
  {
   "cell_type": "markdown",
   "metadata": {},
   "source": [
    "Dans le code ci-dessous, nous dessinons 20 traits dont la longueur maximale est de 100 et dont l'angle peut varier jusqu'à 360 degrés, et cela est répété 20 fois."
   ]
  },
  {
   "cell_type": "code",
   "execution_count": 16,
   "metadata": {},
   "outputs": [],
   "source": [
    "from turtle import Turtle\n",
    "from random import random\n",
    "\n",
    "t = Turtle()\n",
    "for i in range(20):\n",
    "    steps = int(random() * 100)\n",
    "    angle = int(random() * 360)\n",
    "    t.right(angle)\n",
    "    t.fd(steps)\n",
    "\n",
    "t.screen.mainloop()"
   ]
  },
  {
   "cell_type": "markdown",
   "metadata": {},
   "source": [
    "<b>à faire: Coder une IHM permettant à l'utilisateur de lancer un dessin dans Turtle en fonction des paramètres demandés, tels que l'angle maximal, la longueur maximale des traits et le nombre de traits."
   ]
  },
  {
   "cell_type": "code",
   "execution_count": null,
   "metadata": {},
   "outputs": [],
   "source": [
    "# votre code ici"
   ]
  },
  {
   "cell_type": "markdown",
   "metadata": {},
   "source": [
    "## 2. Interface homme-machine sur un objet connecté"
   ]
  },
  {
   "cell_type": "markdown",
   "metadata": {},
   "source": [
    "![bbc](https://images.altronics.com.au/prod_new/z/Z6439A.jpg)"
   ]
  },
  {
   "cell_type": "markdown",
   "metadata": {},
   "source": [
    "la carte BBC micro:bit\n",
    "\n",
    "\n",
    "BBC micro:bit est une carte à microcontrôleur conçue en 2015 au Royaume-Uni pour développer l'apprentissage de l'algorithmique et de la programmation.\n",
    "\n",
    "La carte micro:bit dispose des spécificités techniques suivantes :\n",
    "\n",
    "    25 LEDs programmables individuellement\n",
    "    2 boutons programmables\n",
    "    Broches de connexion\n",
    "    Capteurs de lumière et de température\n",
    "    Capteurs de mouvements (accéléromètre et boussole)\n",
    "    Communication sans fil, via Radio et Bluetooth\n",
    "    Interface USB\n",
    "\n"
   ]
  },
  {
   "cell_type": "markdown",
   "metadata": {},
   "source": [
    "<b>Le code ci-dessous, vous ouvre une fenêtre vers une vidéo concernant notre microcontrôleur"
   ]
  },
  {
   "cell_type": "code",
   "execution_count": 2,
   "metadata": {},
   "outputs": [
    {
     "data": {
      "text/html": [
       "<iframe width=\"560\" height=\"315\" src=\"https://www.youtube.com/embed/qqBmvHD5bCw?si=047D7v9s9hEXeUPL\" title=\"YouTube video player\" frameborder=\"0\" allow=\"accelerometer; autoplay; clipboard-write; encrypted-media; gyroscope; picture-in-picture; web-share\" allowfullscreen></iframe>\n"
      ],
      "text/plain": [
       "<IPython.core.display.HTML object>"
      ]
     },
     "metadata": {},
     "output_type": "display_data"
    }
   ],
   "source": [
    "%%html\n",
    "<iframe width=\"560\" height=\"315\" src=\"https://www.youtube.com/embed/qqBmvHD5bCw?si=047D7v9s9hEXeUPL\" title=\"YouTube video player\" frameborder=\"0\" allow=\"accelerometer; autoplay; clipboard-write; encrypted-media; gyroscope; picture-in-picture; web-share\" allowfullscreen></iframe>"
   ]
  },
  {
   "cell_type": "markdown",
   "metadata": {},
   "source": [
    "<b>Premier code :"
   ]
  },
  {
   "cell_type": "raw",
   "metadata": {},
   "source": [
    "# Imports go at the top\n",
    "from microbit import *\n",
    "\n",
    "\n",
    "# Code in a 'while True:' loop repeats forever\n",
    "while True:\n",
    "    display.show(Image.HEART)\n",
    "    sleep(1000)\n",
    "    display.scroll('Hello')"
   ]
  },
  {
   "cell_type": "markdown",
   "metadata": {},
   "source": [
    "<b>à faire : executer le code ci-dessous et observer le fonctionnement su la carte."
   ]
  },
  {
   "cell_type": "code",
   "execution_count": 4,
   "metadata": {},
   "outputs": [
    {
     "data": {
      "text/html": [
       "<iframe\n",
       "  id=\"inlineFrameExample\"\n",
       "  title=\"Inline Frame Example\"\n",
       "  width=\"1000\"\n",
       "  height=\"800\"\n",
       "  src=\"https://python.microbit.org/v/3\">\n",
       "</iframe>\n"
      ],
      "text/plain": [
       "<IPython.core.display.HTML object>"
      ]
     },
     "metadata": {},
     "output_type": "display_data"
    }
   ],
   "source": [
    "%%html\n",
    "<iframe\n",
    "  id=\"inlineFrameExample\"\n",
    "  title=\"Inline Frame Example\"\n",
    "  width=\"1000\"\n",
    "  height=\"800\"\n",
    "  src=\"https://python.microbit.org/v/3\">\n",
    "</iframe>"
   ]
  },
  {
   "cell_type": "markdown",
   "metadata": {},
   "source": [
    "<b>à faire : Préciser le rôle de chaque instruction"
   ]
  },
  {
   "cell_type": "raw",
   "metadata": {},
   "source": [
    "# Imports go at the top\n",
    "from microbit import * __sert à _________________________________________________________________________________\n",
    "\n",
    "\n",
    "# Code in a 'while True:' loop repeats forever\n",
    "while True: __cette ligne de commande sert à ____________________________________________________________________\n",
    "    display.show(Image.HEART)__cette fonction sert à ____________________________________________________________\n",
    "    sleep(1000)__La fonction sleep qui a pour argument 1000 sert à ______________________________________________\n",
    "    display.scroll('Hello')__cette fonction sert à ______________________________________________________________"
   ]
  },
  {
   "cell_type": "markdown",
   "metadata": {},
   "source": [
    "<b>Nouveau code à tester sur la carte, servez-vous de l'éditeur précédemment ouvert"
   ]
  },
  {
   "cell_type": "raw",
   "metadata": {},
   "source": [
    "from microbit import *\n",
    "\n",
    "#début de la boucle\n",
    "while running_time() < 5000:\n",
    "    display.show(Image.ASLEEP)\n",
    "#fin de la boucle\n",
    "display.show(Image.SURPRISED)\n",
    "sleep(5000) #attente de 5000 millisecondes\n",
    "display.clear()"
   ]
  },
  {
   "cell_type": "markdown",
   "metadata": {},
   "source": [
    "<b>à faire: Décrire l’effet du programme sur la carte. Une interaction est-elle possible ?"
   ]
  },
  {
   "cell_type": "raw",
   "metadata": {},
   "source": [
    "Votre réponse ici________________________________________________________________________________"
   ]
  },
  {
   "cell_type": "markdown",
   "metadata": {},
   "source": [
    "<b>à faire: Préciser le rôle de chaque instruction. Identifier capteur et actionneur."
   ]
  },
  {
   "cell_type": "raw",
   "metadata": {},
   "source": [
    "from microbit import *____________________________________________________________________________\n",
    "\n",
    "#début de la boucle\n",
    "while running_time() < 5000:______________________________________________________________________\n",
    "    display.show(Image.ASLEEP)____________________________________________________________________\n",
    "#fin de la boucle_________________________________________________________________________________\n",
    "display.show(Image.SURPRISED)_____________________________________________________________________\n",
    "sleep(5000) #attente de 5000 millisecondes________________________________________________________\n",
    "display.clear()___________________________________________________________________________________"
   ]
  },
  {
   "cell_type": "markdown",
   "metadata": {},
   "source": [
    "<b>Nouveau code à tester sur la carte"
   ]
  },
  {
   "cell_type": "raw",
   "metadata": {},
   "source": [
    "from microbit import *\n",
    "\n",
    "#boucle infinie\n",
    "while True:\n",
    "    #Structure conditionnelle avec 2 choix\n",
    "    if button_a.is_pressed():\n",
    "        display.show(Image.HAPPY)\n",
    "    else:\n",
    "        display.show(Image.SAD)"
   ]
  },
  {
   "cell_type": "markdown",
   "metadata": {},
   "source": [
    "<b>à faire: Décrire l’effet du programme sur la carte. Une interaction est-elle possible ?"
   ]
  },
  {
   "cell_type": "raw",
   "metadata": {},
   "source": [
    "Votre réponse ici________________________________________________________________________________"
   ]
  },
  {
   "cell_type": "markdown",
   "metadata": {},
   "source": [
    "<b>à faire: Préciser le rôle de chaque instruction. Identifier capteur et actionneur."
   ]
  },
  {
   "cell_type": "raw",
   "metadata": {},
   "source": [
    "from microbit import *\n",
    "\n",
    "#boucle infinie\n",
    "while True:_____________________________________________________________________________________\n",
    "    #Structure conditionnelle avec 2 choix\n",
    "    if button_a.is_pressed():___________________________________________________________________\n",
    "        display.show(Image.HAPPY)_______________________________________________________________\n",
    "    else:\n",
    "        display.show(Image.SAD)_________________________________________________________________"
   ]
  },
  {
   "cell_type": "markdown",
   "metadata": {},
   "source": [
    "<b>Nouveau code à tester sur la carte"
   ]
  },
  {
   "cell_type": "raw",
   "metadata": {},
   "source": [
    "from microbit import *\n",
    "\n",
    "#boucle infinie\n",
    "while True:\n",
    "        #Structure conditionnelle avec 3 choix\n",
    "    if button_a.is_pressed():\n",
    "        display.show(Image.HAPPY)\n",
    "    elif button_b.is_pressed():\n",
    "        display.show(Image.ANGRY)\n",
    "    else:\n",
    "        display.show(Image.SAD)"
   ]
  },
  {
   "cell_type": "markdown",
   "metadata": {},
   "source": [
    "<b>à faire: Décrire l’effet du programme sur la carte. Une interaction est-elle possible ?"
   ]
  },
  {
   "cell_type": "code",
   "execution_count": null,
   "metadata": {},
   "outputs": [],
   "source": [
    "Votre réponse ici________________________________________________________________________________"
   ]
  },
  {
   "cell_type": "markdown",
   "metadata": {},
   "source": [
    "<b>à faire: Préciser le rôle de chaque instruction. Identifier capteur et actionneur."
   ]
  },
  {
   "cell_type": "raw",
   "metadata": {},
   "source": [
    "from microbit import *\n",
    "\n",
    "#boucle infinie\n",
    "while True:______________________________________________________________________________________\n",
    "        #Structure conditionnelle avec 3 choix\n",
    "    if button_a.is_pressed():____________________________________________________________________\n",
    "        display.show(Image.HAPPY)________________________________________________________________\n",
    "    elif button_b.is_pressed():__________________________________________________________________\n",
    "        display.show(Image.ANGRY)________________________________________________________________\n",
    "    else:________________________________________________________________________________________\n",
    "        display.show(Image.SAD)__________________________________________________________________"
   ]
  },
  {
   "cell_type": "markdown",
   "metadata": {},
   "source": [
    "<b>Manipulation d’images</b> Chacun des 25 pixels du micro :bit peut prendre une valeur entre 0 et 9 : 0 pour éteint, 9 pour allumé avec\n",
    "la puissance maximale, les valeurs comprises entre 1 et 8 sont des valeurs de luminosité intermédiaires. Par\n",
    "exemple, saisir le programme ci-dessous dans l’éditeur de la carte.\n",
    "Devinez ce que peut représenter l’image affichée."
   ]
  },
  {
   "cell_type": "raw",
   "metadata": {},
   "source": [
    "from microbit import *\n",
    "boat = Image(\"05050:\"\n",
    "\"05050:\"\n",
    "\"05050:\"\n",
    "\"99999:\"\n",
    "\"09990\")\n",
    "display.show(boat)"
   ]
  },
  {
   "cell_type": "markdown",
   "metadata": {},
   "source": [
    "<b>à faire: Dessiner votre propre image et testez-là !"
   ]
  },
  {
   "cell_type": "code",
   "execution_count": null,
   "metadata": {},
   "outputs": [],
   "source": [
    "#votre code ici"
   ]
  },
  {
   "cell_type": "markdown",
   "metadata": {},
   "source": [
    "<b>à faire: réaliser une animation avec plusieurs images."
   ]
  },
  {
   "cell_type": "code",
   "execution_count": null,
   "metadata": {},
   "outputs": [],
   "source": [
    "#votre code ici"
   ]
  },
  {
   "cell_type": "markdown",
   "metadata": {},
   "source": [
    "<b>à faire: Modifier votre programme pour qu’il affiche l’animation quand on appuie sur le bouton A et l’animation «\n",
    "inverse » quand on appuie sur le bouton B."
   ]
  },
  {
   "cell_type": "code",
   "execution_count": null,
   "metadata": {},
   "outputs": [],
   "source": [
    "#votre code ici"
   ]
  },
  {
   "cell_type": "markdown",
   "metadata": {},
   "source": [
    "<mark><b>Definitions à connaitre:</b></mark> \n",
    "\n",
    "<p><b><u>Un système informatique embarqué</b></u> collecte des informations du monde réel à l’aide de capteurs, les\n",
    "traite dans un microprocesseur puis agit sur le monde réel par le biais d’ actionneurs. Le traitement\n",
    "des informations est contrôlé par un programme qui peut interagir avec l’homme à travers une Interface\n",
    "Homme Machine</p>\n",
    "\n",
    "<p><b><u>Une Interface Homme Machine ou IHM</b></u> est un ensemble de dispositifs physique (boutons, curseurs) et\n",
    "logiciels (interface graphique) permettant d’échanger des informations avec une machine.</p>"
   ]
  },
  {
   "cell_type": "markdown",
   "metadata": {},
   "source": [
    "source des programmes microbit: https://frederic-junier.org"
   ]
  }
 ],
 "metadata": {
  "kernelspec": {
   "display_name": "Python 3 (ipykernel)",
   "language": "python",
   "name": "python3"
  },
  "language_info": {
   "codemirror_mode": {
    "name": "ipython",
    "version": 3
   },
   "file_extension": ".py",
   "mimetype": "text/x-python",
   "name": "python",
   "nbconvert_exporter": "python",
   "pygments_lexer": "ipython3",
   "version": "3.8.10"
  }
 },
 "nbformat": 4,
 "nbformat_minor": 2
}
